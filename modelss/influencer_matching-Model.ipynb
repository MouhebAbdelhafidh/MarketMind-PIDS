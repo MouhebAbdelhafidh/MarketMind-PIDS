{
  "nbformat": 4,
  "nbformat_minor": 0,
  "metadata": {
    "colab": {
      "provenance": [],
      "gpuType": "T4"
    },
    "kernelspec": {
      "name": "python3",
      "display_name": "Python 3"
    },
    "language_info": {
      "name": "python"
    },
    "accelerator": "GPU",
    "widgets": {
      "application/vnd.jupyter.widget-state+json": {}
    }
  },
  "cells": [
    {
      "cell_type": "code",
      "execution_count": null,
      "metadata": {
        "colab": {
          "base_uri": "https://localhost:8080/"
        },
        "id": "7hpiB00lJRQZ",
        "outputId": "34c1da10-2595-4535-f084-8fc2123f84a3"
      },
      "outputs": [
        {
          "output_type": "stream",
          "name": "stdout",
          "text": [
            "Requirement already satisfied: transformers in /usr/local/lib/python3.11/dist-packages (4.51.1)\n",
            "Requirement already satisfied: filelock in /usr/local/lib/python3.11/dist-packages (from transformers) (3.18.0)\n",
            "Requirement already satisfied: huggingface-hub<1.0,>=0.30.0 in /usr/local/lib/python3.11/dist-packages (from transformers) (0.30.2)\n",
            "Requirement already satisfied: numpy>=1.17 in /usr/local/lib/python3.11/dist-packages (from transformers) (2.0.2)\n",
            "Requirement already satisfied: packaging>=20.0 in /usr/local/lib/python3.11/dist-packages (from transformers) (24.2)\n",
            "Requirement already satisfied: pyyaml>=5.1 in /usr/local/lib/python3.11/dist-packages (from transformers) (6.0.2)\n",
            "Requirement already satisfied: regex!=2019.12.17 in /usr/local/lib/python3.11/dist-packages (from transformers) (2024.11.6)\n",
            "Requirement already satisfied: requests in /usr/local/lib/python3.11/dist-packages (from transformers) (2.32.3)\n",
            "Requirement already satisfied: tokenizers<0.22,>=0.21 in /usr/local/lib/python3.11/dist-packages (from transformers) (0.21.1)\n",
            "Requirement already satisfied: safetensors>=0.4.3 in /usr/local/lib/python3.11/dist-packages (from transformers) (0.5.3)\n",
            "Requirement already satisfied: tqdm>=4.27 in /usr/local/lib/python3.11/dist-packages (from transformers) (4.67.1)\n",
            "Requirement already satisfied: fsspec>=2023.5.0 in /usr/local/lib/python3.11/dist-packages (from huggingface-hub<1.0,>=0.30.0->transformers) (2025.3.2)\n",
            "Requirement already satisfied: typing-extensions>=3.7.4.3 in /usr/local/lib/python3.11/dist-packages (from huggingface-hub<1.0,>=0.30.0->transformers) (4.13.1)\n",
            "Requirement already satisfied: charset-normalizer<4,>=2 in /usr/local/lib/python3.11/dist-packages (from requests->transformers) (3.4.1)\n",
            "Requirement already satisfied: idna<4,>=2.5 in /usr/local/lib/python3.11/dist-packages (from requests->transformers) (3.10)\n",
            "Requirement already satisfied: urllib3<3,>=1.21.1 in /usr/local/lib/python3.11/dist-packages (from requests->transformers) (2.3.0)\n",
            "Requirement already satisfied: certifi>=2017.4.17 in /usr/local/lib/python3.11/dist-packages (from requests->transformers) (2025.1.31)\n"
          ]
        }
      ],
      "source": [
        "pip install transformers"
      ]
    },
    {
      "cell_type": "code",
      "source": [
        "from transformers import pipeline\n",
        "\n",
        "class InfluencerDetector:\n",
        "    def __init__(self):\n",
        "        self.classifier = pipeline(\"zero-shot-classification\",\n",
        "                                 model=\"facebook/bart-large-mnli\")\n",
        "        self.labels = [\n",
        "            \"Working with Instagram/TikTok/YouTube influencers\",\n",
        "            \"Finding people to review or showcase my product\",\n",
        "            \"Seeking brand ambassadors or sponsored content\",\n",
        "            \"Other type of marketing (ads, SEO, etc.)\",\n",
        "            \"Completely unrelated request\"\n",
        "        ]\n",
        "\n",
        "    def check_influencer_request(self, text: str) -> str:\n",
        "        result = self.classifier(text, self.labels)\n",
        "        top_choice = result[\"labels\"][0]\n",
        "\n",
        "        if top_choice in self.labels[:3]:  # First 3 = influencer-related\n",
        "            return f\"✅ Influencer Matching (Confidence: {result['scores'][0]:.0%}) - Detected as: '{top_choice}'\"\n",
        "        else:\n",
        "            return f\"❌ Other (Confidence: {result['scores'][0]:.0%}) - This is: '{top_choice}'\"\n",
        "\n",
        "# Initialize the detector\n",
        "detector = InfluencerDetector()\n",
        "\n",
        "print(\"Influencer Request Detector\")\n",
        "print(\"Type 'exit' to quit\\n\")\n",
        "\n",
        "while True:\n",
        "    user_input = input(\"Enter your request: \").strip()\n",
        "    if user_input.lower() in ['exit', 'quit']:\n",
        "        break\n",
        "\n",
        "    if not user_input:\n",
        "        continue\n",
        "\n",
        "    print(\"\\n\" + \"=\"*50)\n",
        "    print(f\"Input: '{user_input}'\")\n",
        "    print(detector.check_influencer_request(user_input))\n",
        "    print(\"=\"*50 + \"\\n\")"
      ],
      "metadata": {
        "id": "ODzLFbmxRUA7",
        "colab": {
          "base_uri": "https://localhost:8080/",
          "height": 491,
          "referenced_widgets": [
            "45564381451244b7ac95fb187b53d9b4",
            "672689b8d2d3415aa4c5cf1cf0850ede",
            "38b1952b8daa4f34a922bb5639c456be",
            "e6a7850c782b4cc784ff78ffb779f1b5",
            "88ca499486f24819a00b4a7856a85e43",
            "fc676e35874b4020a56cf6f4cae07d9a"
          ]
        },
        "outputId": "b7917ef1-4072-4c67-8414-167092a11b4d"
      },
      "execution_count": null,
      "outputs": [
        {
          "metadata": {
            "tags": null
          },
          "name": "stderr",
          "output_type": "stream",
          "text": [
            "/usr/local/lib/python3.11/dist-packages/huggingface_hub/utils/_auth.py:94: UserWarning: \n",
            "The secret `HF_TOKEN` does not exist in your Colab secrets.\n",
            "To authenticate with the Hugging Face Hub, create a token in your settings tab (https://huggingface.co/settings/tokens), set it as secret in your Google Colab and restart your session.\n",
            "You will be able to reuse this secret in all of your notebooks.\n",
            "Please note that authentication is recommended but still optional to access public models or datasets.\n",
            "  warnings.warn(\n"
          ]
        },
        {
          "data": {
            "application/vnd.jupyter.widget-view+json": {
              "model_id": "45564381451244b7ac95fb187b53d9b4",
              "version_major": 2,
              "version_minor": 0
            },
            "text/plain": [
              "config.json:   0%|          | 0.00/1.15k [00:00<?, ?B/s]"
            ]
          },
          "metadata": {},
          "output_type": "display_data"
        },
        {
          "metadata": {
            "tags": null
          },
          "name": "stderr",
          "output_type": "stream",
          "text": [
            "Xet Storage is enabled for this repo, but the 'hf_xet' package is not installed. Falling back to regular HTTP download. For better performance, install the package with: `pip install huggingface_hub[hf_xet]` or `pip install hf_xet`\n",
            "WARNING:huggingface_hub.file_download:Xet Storage is enabled for this repo, but the 'hf_xet' package is not installed. Falling back to regular HTTP download. For better performance, install the package with: `pip install huggingface_hub[hf_xet]` or `pip install hf_xet`\n"
          ]
        },
        {
          "data": {
            "application/vnd.jupyter.widget-view+json": {
              "model_id": "672689b8d2d3415aa4c5cf1cf0850ede",
              "version_major": 2,
              "version_minor": 0
            },
            "text/plain": [
              "model.safetensors:   0%|          | 0.00/1.63G [00:00<?, ?B/s]"
            ]
          },
          "metadata": {},
          "output_type": "display_data"
        },
        {
          "data": {
            "application/vnd.jupyter.widget-view+json": {
              "model_id": "38b1952b8daa4f34a922bb5639c456be",
              "version_major": 2,
              "version_minor": 0
            },
            "text/plain": [
              "tokenizer_config.json:   0%|          | 0.00/26.0 [00:00<?, ?B/s]"
            ]
          },
          "metadata": {},
          "output_type": "display_data"
        },
        {
          "data": {
            "application/vnd.jupyter.widget-view+json": {
              "model_id": "e6a7850c782b4cc784ff78ffb779f1b5",
              "version_major": 2,
              "version_minor": 0
            },
            "text/plain": [
              "vocab.json:   0%|          | 0.00/899k [00:00<?, ?B/s]"
            ]
          },
          "metadata": {},
          "output_type": "display_data"
        },
        {
          "data": {
            "application/vnd.jupyter.widget-view+json": {
              "model_id": "88ca499486f24819a00b4a7856a85e43",
              "version_major": 2,
              "version_minor": 0
            },
            "text/plain": [
              "merges.txt:   0%|          | 0.00/456k [00:00<?, ?B/s]"
            ]
          },
          "metadata": {},
          "output_type": "display_data"
        },
        {
          "data": {
            "application/vnd.jupyter.widget-view+json": {
              "model_id": "fc676e35874b4020a56cf6f4cae07d9a",
              "version_major": 2,
              "version_minor": 0
            },
            "text/plain": [
              "tokenizer.json:   0%|          | 0.00/1.36M [00:00<?, ?B/s]"
            ]
          },
          "metadata": {},
          "output_type": "display_data"
        },
        {
          "metadata": {
            "tags": null
          },
          "name": "stderr",
          "output_type": "stream",
          "text": [
            "Device set to use cuda:0\n"
          ]
        },
        {
          "output_type": "stream",
          "name": "stdout",
          "text": [
            "Influencer Request Detector\n",
            "Type 'exit' to quit\n",
            "\n",
            "Enter your request: i sell laptops and i need to promote my product\n",
            "\n",
            "==================================================\n",
            "Input: 'i sell laptops and i need to promote my product'\n",
            "✅ Influencer Matching (Confidence: 70%) - Detected as: 'Finding people to review or showcase my product'\n",
            "==================================================\n",
            "\n"
          ]
        }
      ]
    },
    {
      "cell_type": "code",
      "source": [
        "from transformers import pipeline\n",
        "\n",
        "# Load zero-shot classifier\n",
        "classifier = pipeline(\"zero-shot-classification\", model=\"facebook/bart-large-mnli\")\n",
        "\n",
        "# Add richer label descriptions\n",
        "labels = [\n",
        "    \"fashion (clothing, bags, accessories)\",\n",
        "    \"beauty (makeup, skincare, cosmetics)\",\n",
        "    \"electronics (gadgets, tech, devices)\"\n",
        "]\n",
        "\n",
        "# Get user input\n",
        "user_input = input(\"Describe your product or business: \")\n",
        "\n",
        "# Classify\n",
        "result = classifier(user_input, labels)\n",
        "\n",
        "# Extract clean domain\n",
        "detected = result[\"labels\"][0].split()[0]\n",
        "\n",
        "print(\"\\n✅ Detected Domain:\", detected)\n",
        "\n",
        "\n",
        "# Warn if low confidence\n",
        "if abs(result[\"scores\"][0] - result[\"scores\"][1]) < 0.05:\n",
        "    print(\"\\n⚠️  Warning: Prediction is uncertain. Consider manual review.\")\n"
      ],
      "metadata": {
        "colab": {
          "base_uri": "https://localhost:8080/"
        },
        "id": "QBU6yyKEJsm2",
        "outputId": "40fe5f98-9466-4920-d042-397e06db39f6"
      },
      "execution_count": 27,
      "outputs": [
        {
          "output_type": "stream",
          "name": "stderr",
          "text": [
            "Device set to use cuda:0\n"
          ]
        },
        {
          "output_type": "stream",
          "name": "stdout",
          "text": [
            "Describe your product or business: i want a small business for lip gloss\n",
            "\n",
            "✅ Detected Domain: beauty\n"
          ]
        }
      ]
    },
    {
      "cell_type": "code",
      "source": [
        "pip install pandas openpyxl"
      ],
      "metadata": {
        "colab": {
          "base_uri": "https://localhost:8080/"
        },
        "id": "XoFquf63Zss_",
        "outputId": "7d474280-d37f-4157-9707-b99629c35bc0"
      },
      "execution_count": 1,
      "outputs": [
        {
          "output_type": "stream",
          "name": "stdout",
          "text": [
            "Requirement already satisfied: pandas in /usr/local/lib/python3.11/dist-packages (2.2.2)\n",
            "Requirement already satisfied: openpyxl in /usr/local/lib/python3.11/dist-packages (3.1.5)\n",
            "Requirement already satisfied: numpy>=1.23.2 in /usr/local/lib/python3.11/dist-packages (from pandas) (2.0.2)\n",
            "Requirement already satisfied: python-dateutil>=2.8.2 in /usr/local/lib/python3.11/dist-packages (from pandas) (2.8.2)\n",
            "Requirement already satisfied: pytz>=2020.1 in /usr/local/lib/python3.11/dist-packages (from pandas) (2025.2)\n",
            "Requirement already satisfied: tzdata>=2022.7 in /usr/local/lib/python3.11/dist-packages (from pandas) (2025.2)\n",
            "Requirement already satisfied: et-xmlfile in /usr/local/lib/python3.11/dist-packages (from openpyxl) (2.0.0)\n",
            "Requirement already satisfied: six>=1.5 in /usr/local/lib/python3.11/dist-packages (from python-dateutil>=2.8.2->pandas) (1.17.0)\n"
          ]
        }
      ]
    },
    {
      "cell_type": "code",
      "source": [
        "import pandas as pd\n",
        "\n",
        "# Read the Excel file\n",
        "df_inf = pd.read_excel('Ghty.xlsx', engine='openpyxl')\n",
        "\n",
        "# Display the data\n",
        "print(df_inf.head())"
      ],
      "metadata": {
        "colab": {
          "base_uri": "https://localhost:8080/"
        },
        "id": "tb3qAYJrZ5SD",
        "outputId": "5b6942d0-68e9-40cb-fbfe-1b5f0e1fed72"
      },
      "execution_count": 4,
      "outputs": [
        {
          "output_type": "stream",
          "name": "stdout",
          "text": [
            "                             Nom                   IG_Handle Followers  \\\n",
            "0                 ʟᴏᴜʙɴᴀ ʙᴀɢʜᴅᴀᴅ              @loubnabaghdad    844.6K   \n",
            "1                  Afrah chiadli   @afrah_giiordaniiofficiel    826.1K   \n",
            "2                Lamyae Alahyane             @lamyaealahyane      713K   \n",
            "3                      Faty Elmm  @fatima_zahra_el_moussaoui    658.1K   \n",
            "4  Houda Laaroussi | هدى العروسي        @houda_laaroussi_bhr    600.3K   \n",
            "\n",
            "   Topics                                     Lien Instagram  country  \n",
            "0  beauty            https://www.instagram.com/loubnabaghdad  morocco  \n",
            "1  beauty  https://www.instagram.com/afrah_giiordaniioffi...  morocco  \n",
            "2  beauty           https://www.instagram.com/lamyaealahyane  morocco  \n",
            "3  beauty  https://www.instagram.com/fatima_zahra_el_mous...  morocco  \n",
            "4  beauty      https://www.instagram.com/houda_laaroussi_bhr  morocco  \n"
          ]
        }
      ]
    },
    {
      "cell_type": "code",
      "source": [
        "from transformers import pipeline\n",
        "import pandas as pd\n",
        "import spacy\n",
        "\n",
        "# ===== NEW: Demonym-to-country mapping =====\n",
        "DEMONYM_MAP = {\n",
        "    \"tunisian\": \"tunisia\",\n",
        "    \"turkish\": \"turkey\",\n",
        "    \"moroccan\": \"morocco\",\n",
        "    \"algerian\": \"algeria\",\n",
        "    \"french\": \"france\",\n",
        "    \"italian\": \"italy\",\n",
        "    \"spanish\": \"spain\",\n",
        "    \"korean\": \"south-korea\",\n",
        "    \"brazilian\": \"brazil\",\n",
        "    \"argentinian\": \"argentina\",\n",
        "    \"australian\": \"australia\",\n",
        "    \"swiss\": \"switzerland\",\n",
        "    \"belgian\": \"belgium\",\n",
        "    \"emirati\": \"united-arab-emirates\"\n",
        "}\n",
        "\n",
        "def detect_domain_and_country():\n",
        "    # Load zero-shot classifier for domain\n",
        "    classifier = pipeline(\"zero-shot-classification\", model=\"facebook/bart-large-mnli\")\n",
        "\n",
        "    # Load spaCy model for country detection\n",
        "    try:\n",
        "        nlp = spacy.load(\"en_core_web_sm\")\n",
        "    except OSError:\n",
        "        print(\"Downloading spaCy model...\")\n",
        "        import subprocess\n",
        "        subprocess.run([\"python\", \"-m\", \"spacy\", \"download\", \"en_core_web_sm\"])\n",
        "        nlp = spacy.load(\"en_core_web_sm\")\n",
        "\n",
        "    # Get user input\n",
        "    user_input = input(\"Describe your product or business: \")\n",
        "\n",
        "    # Detect domain\n",
        "    domain_labels = [\n",
        "        \"fashion (clothing, bags, accessories)\",\n",
        "        \"beauty (makeup, skincare, cosmetics)\",\n",
        "        \"technology (gadgets, tech, devices)\"\n",
        "    ]\n",
        "    domain_result = classifier(user_input, domain_labels)\n",
        "    detected_domain = domain_result[\"labels\"][0].split()[0]\n",
        "\n",
        "    # ===== UPDATED COUNTRY DETECTION =====\n",
        "    doc = nlp(user_input.lower())\n",
        "    detected_country = None\n",
        "\n",
        "    # Check for country names (GPE entities)\n",
        "    countries = [ent.text.lower() for ent in doc.ents if ent.label_ == \"GPE\"]\n",
        "    if countries:\n",
        "        detected_country = countries[0]\n",
        "\n",
        "    # Check for demonyms (e.g., \"Tunisian\")\n",
        "    for token in doc:\n",
        "        if token.text in DEMONYM_MAP:\n",
        "            detected_country = DEMONYM_MAP[token.text]\n",
        "            break\n",
        "    # ===== END OF UPDATE =====\n",
        "\n",
        "    print(\"\\n📌 Detected Domain:\", detected_domain)\n",
        "    if detected_country:\n",
        "        print(\"🌍 Detected Country:\", detected_country.capitalize())\n",
        "\n",
        "\n",
        "    if abs(domain_result[\"scores\"][0] - domain_result[\"scores\"][1]) < 0.05:\n",
        "        print(\"\\n⚠️ Warning: Domain prediction is uncertain. Consider manual review.\")\n",
        "\n",
        "    return detected_domain, detected_country\n",
        "\n",
        "def get_influencers(detected_domain, detected_country=None):\n",
        "    # Load dataset\n",
        "    df = pd.read_excel('Ghty.xlsx', engine='openpyxl')\n",
        "\n",
        "    # Clean follower counts\n",
        "    df['Followers_Numeric'] = df['Followers'].str.replace('K', '').astype(float) * 1000\n",
        "\n",
        "    # Filter by detected domain in Topics column\n",
        "    if 'Topics' in df.columns:\n",
        "        df = df[df['Topics'].str.lower().str.contains(detected_domain.lower())]\n",
        "    else:\n",
        "        print(\"Warning: 'Topics' column not found. Showing all influencers.\")\n",
        "\n",
        "    # Filter by country if detected\n",
        "    if detected_country:\n",
        "        df['country_lower'] = df['country'].str.lower()\n",
        "        df = df[df['country_lower'].str.contains(detected_country, na=False)]\n",
        "        if df.empty:\n",
        "            print(f\"\\n⚠️ No influencers found in {detected_country.capitalize()}. Showing global results.\")\n",
        "            df = pd.read_excel('Ghty.xlsx', engine='openpyxl')\n",
        "            df['Followers_Numeric'] = df['Followers'].str.replace('K', '').astype(float) * 1000\n",
        "            if 'Topics' in df.columns:\n",
        "                df = df[df['Topics'].str.lower().str.contains(detected_domain.lower())]\n",
        "\n",
        "    # Currency conversion rates\n",
        "    currency_rates = {\n",
        "        'morocco': {'currency': 'MAD', 'rate': 10.0},\n",
        "        'algeria': {'currency': 'DZD', 'rate': 134.0},\n",
        "        'turkey': {'currency': 'TRY', 'rate': 18.5},\n",
        "        'united-arab-emirates': {'currency': 'AED', 'rate': 3.67},\n",
        "        'australia': {'currency': 'AUD', 'rate': 1.5},\n",
        "        'switzerland': {'currency': 'CHF', 'rate': 0.92},\n",
        "        'belgium': {'currency': 'EUR', 'rate': 0.93},\n",
        "        'brazil': {'currency': 'BRL', 'rate': 5.2},\n",
        "        'south-korea': {'currency': 'KRW', 'rate': 1300.0},\n",
        "        'france': {'currency': 'EUR', 'rate': 0.93},\n",
        "        'italy': {'currency': 'EUR', 'rate': 0.93},\n",
        "        'spain': {'currency': 'EUR', 'rate': 0.93},\n",
        "        'tunisia': {'currency': 'TND', 'rate': 3.1},\n",
        "        'argentina': {'currency': 'ARS', 'rate': 350.0}\n",
        "    }\n",
        "\n",
        "    # Standardize country names\n",
        "    df['country_clean'] = df['country'].str.lower()\n",
        "\n",
        "    # Salary estimation function\n",
        "    def estimate_salary(followers):\n",
        "        if followers < 100000:\n",
        "            return followers * 0.01  # $10 per 1K\n",
        "        elif followers < 500000:\n",
        "            return followers * 0.02  # $20 per 1K\n",
        "        elif followers < 1000000:\n",
        "            return followers * 0.03  # $30 per 1K\n",
        "        else:\n",
        "            return followers * 0.05  # $50 per 1K\n",
        "\n",
        "    # Calculate USD salary\n",
        "    df['Salary_USD'] = df['Followers_Numeric'].apply(estimate_salary)\n",
        "\n",
        "    # Convert to local currency\n",
        "    def convert_currency(row):\n",
        "        country = row['country_clean']\n",
        "        if country in currency_rates:\n",
        "            rate = currency_rates[country]['rate']\n",
        "            currency = currency_rates[country]['currency']\n",
        "            return row['Salary_USD'] * rate, currency\n",
        "        return row['Salary_USD'], 'USD'\n",
        "\n",
        "    # Fix for the ValueError - ensure we're creating exactly two columns\n",
        "    currency_conversion = df.apply(convert_currency, axis=1)\n",
        "    df['Salary_Local'] = currency_conversion.apply(lambda x: x[0])\n",
        "    df['Currency'] = currency_conversion.apply(lambda x: x[1])\n",
        "\n",
        "    # Get user input for budget\n",
        "    while True:\n",
        "        budget_input = input(\"\\nEnter your budget in USD (or press Enter to see top influencers): \").strip()\n",
        "\n",
        "        if not budget_input:\n",
        "            # No budget provided\n",
        "            result = df.sort_values('Followers_Numeric', ascending=False).head(5)\n",
        "            if detected_country:\n",
        "                print(f\"\\nTop 5 {detected_domain} influencers in {detected_country.capitalize()}:\")\n",
        "            else:\n",
        "                print(f\"\\nTop 5 {detected_domain} influencers globally:\")\n",
        "            break\n",
        "\n",
        "        try:\n",
        "            budget_usd = float(budget_input)\n",
        "            if budget_usd <= 0:\n",
        "                print(\"Please enter a positive budget amount.\")\n",
        "                continue\n",
        "\n",
        "            # Filter by budget\n",
        "            result = df[df['Salary_USD'] <= budget_usd]\\\n",
        "                     .sort_values('Followers_Numeric', ascending=False)\\\n",
        "                     .head(5)\n",
        "\n",
        "            if len(result) == 0:\n",
        "                location = f\"in {detected_country.capitalize()}\" if detected_country else \"globally\"\n",
        "                print(f\"No {detected_domain} influencers found {location} within ${budget_usd:,.2f} budget.\")\n",
        "                continue\n",
        "\n",
        "            location = f\"in {detected_country.capitalize()}\" if detected_country else \"globally\"\n",
        "            print(f\"\\nTop 5 {detected_domain} influencers {location} within ${budget_usd:,.2f} budget:\")\n",
        "            break\n",
        "\n",
        "        except ValueError:\n",
        "            print(\"Please enter a valid number for the budget.\")\n",
        "            continue\n",
        "\n",
        "    # Display results\n",
        "    display_cols = ['Topics', 'Nom', 'IG_Handle', 'Followers', 'country',\n",
        "                   'Salary_USD', 'Salary_Local', 'Currency']\n",
        "\n",
        "    # Format the output as a proper table\n",
        "    print(\"\\n\" + result[display_cols].to_markdown(index=False, stralign=\"left\"))\n",
        "\n",
        "    return result\n",
        "\n",
        "# Main execution\n",
        "if __name__ == \"__main__\":\n",
        "    domain, country = detect_domain_and_country()\n",
        "    get_influencers(domain, country)"
      ],
      "metadata": {
        "colab": {
          "base_uri": "https://localhost:8080/"
        },
        "id": "ZJ3XWuG_ptKC",
        "outputId": "88563206-9c26-4b52-ec5a-a6a9efa34d11"
      },
      "execution_count": 26,
      "outputs": [
        {
          "output_type": "stream",
          "name": "stderr",
          "text": [
            "Device set to use cuda:0\n"
          ]
        },
        {
          "output_type": "stream",
          "name": "stdout",
          "text": [
            "Describe your product or business: Hello , i sell clothes online i need a tunisian influencer to promote my damn products give me some suggestions\n",
            "\n",
            "📌 Detected Domain: fashion\n",
            "🌍 Detected Country: Tunisia\n",
            "\n",
            "Enter your budget in USD (or press Enter to see top influencers): 4000\n",
            "\n",
            "Top 5 fashion influencers in Tunisia within $4,000.00 budget:\n",
            "\n",
            "| Topics   | Nom                            | IG_Handle         | Followers   | country   |   Salary_USD |   Salary_Local | Currency   |\n",
            "|:---------|:-------------------------------|:------------------|:------------|:----------|-------------:|---------------:|:-----------|\n",
            "| fashion  | Nesrine HITANA                 | @nesrine_hitana   | 195.1K      | Tunisia   |         3902 |        12096.2 | TND        |\n",
            "| fashion  | 𝐊𝐡𝐚𝐰𝐥𝐚 𝐁𝐨𝐮𝐤𝐡𝐫𝐢𝐬                | @khawlaboukhris   | 189K        | Tunisia   |         3780 |        11718   | TND        |\n",
            "| fashion  | Hanen Benmnaouar/ Blogger_food | @hanenbenmnaouar  | 182.5K      | Tunisia   |         3650 |        11315   | TND        |\n",
            "| fashion  | Sandra Youssef                 | @sandra_you_ssef  | 179.9K      | Tunisia   |         3598 |        11153.8 | TND        |\n",
            "| fashion  | Heni Collection                | @heni.collections | 178.1K      | Tunisia   |         3562 |        11042.2 | TND        |\n"
          ]
        }
      ]
    }
  ]
}