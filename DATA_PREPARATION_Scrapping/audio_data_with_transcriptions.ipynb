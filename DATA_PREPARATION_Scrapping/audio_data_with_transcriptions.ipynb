{
  "nbformat": 4,
  "nbformat_minor": 0,
  "metadata": {
    "colab": {
      "provenance": [],
      "gpuType": "T4"
    },
    "kernelspec": {
      "name": "python3",
      "display_name": "Python 3"
    },
    "language_info": {
      "name": "python"
    },
    "accelerator": "GPU"
  },
  "cells": [
    {
      "cell_type": "markdown",
      "source": [],
      "metadata": {
        "id": "6DnLVghZ_0VR"
      }
    },
    {
      "cell_type": "code",
      "source": [
        "!pip install yt-dlp\n",
        "!apt-get install ffmpeg\n",
        "!pip install openai-whisper\n"
      ],
      "metadata": {
        "colab": {
          "base_uri": "https://localhost:8080/"
        },
        "id": "IYopmZRc_06I",
        "outputId": "622332bf-98e4-416f-f7b9-ccb7fd39189a"
      },
      "execution_count": 2,
      "outputs": [
        {
          "output_type": "stream",
          "name": "stdout",
          "text": [
            "Collecting yt-dlp\n",
            "  Downloading yt_dlp-2025.3.31-py3-none-any.whl.metadata (172 kB)\n",
            "\u001b[?25l     \u001b[90m━━━━━━━━━━━━━━━━━━━━━━━━━━━━━━━━━━━━━━━━\u001b[0m \u001b[32m0.0/172.2 kB\u001b[0m \u001b[31m?\u001b[0m eta \u001b[36m-:--:--\u001b[0m\r\u001b[2K     \u001b[91m━━━━━━━━━━━━━━━━━━━━━━━━━━━━━━━━━━━━━\u001b[0m\u001b[90m╺\u001b[0m\u001b[90m━\u001b[0m \u001b[32m163.8/172.2 kB\u001b[0m \u001b[31m6.5 MB/s\u001b[0m eta \u001b[36m0:00:01\u001b[0m\r\u001b[2K     \u001b[90m━━━━━━━━━━━━━━━━━━━━━━━━━━━━━━━━━━━━━━━\u001b[0m \u001b[32m172.2/172.2 kB\u001b[0m \u001b[31m4.4 MB/s\u001b[0m eta \u001b[36m0:00:00\u001b[0m\n",
            "\u001b[?25hDownloading yt_dlp-2025.3.31-py3-none-any.whl (3.2 MB)\n",
            "\u001b[2K   \u001b[90m━━━━━━━━━━━━━━━━━━━━━━━━━━━━━━━━━━━━━━━━\u001b[0m \u001b[32m3.2/3.2 MB\u001b[0m \u001b[31m59.6 MB/s\u001b[0m eta \u001b[36m0:00:00\u001b[0m\n",
            "\u001b[?25hInstalling collected packages: yt-dlp\n",
            "Successfully installed yt-dlp-2025.3.31\n",
            "Reading package lists... Done\n",
            "Building dependency tree... Done\n",
            "Reading state information... Done\n",
            "ffmpeg is already the newest version (7:4.4.2-0ubuntu0.22.04.1).\n",
            "0 upgraded, 0 newly installed, 0 to remove and 30 not upgraded.\n",
            "Collecting openai-whisper\n",
            "  Downloading openai-whisper-20240930.tar.gz (800 kB)\n",
            "\u001b[2K     \u001b[90m━━━━━━━━━━━━━━━━━━━━━━━━━━━━━━━━━━━━━━\u001b[0m \u001b[32m800.5/800.5 kB\u001b[0m \u001b[31m15.5 MB/s\u001b[0m eta \u001b[36m0:00:00\u001b[0m\n",
            "\u001b[?25h  Installing build dependencies ... \u001b[?25l\u001b[?25hdone\n",
            "  Getting requirements to build wheel ... \u001b[?25l\u001b[?25hdone\n",
            "  Preparing metadata (pyproject.toml) ... \u001b[?25l\u001b[?25hdone\n",
            "Requirement already satisfied: numba in /usr/local/lib/python3.11/dist-packages (from openai-whisper) (0.60.0)\n",
            "Requirement already satisfied: numpy in /usr/local/lib/python3.11/dist-packages (from openai-whisper) (2.0.2)\n",
            "Requirement already satisfied: torch in /usr/local/lib/python3.11/dist-packages (from openai-whisper) (2.6.0+cu124)\n",
            "Requirement already satisfied: tqdm in /usr/local/lib/python3.11/dist-packages (from openai-whisper) (4.67.1)\n",
            "Requirement already satisfied: more-itertools in /usr/local/lib/python3.11/dist-packages (from openai-whisper) (10.6.0)\n",
            "Collecting tiktoken (from openai-whisper)\n",
            "  Downloading tiktoken-0.9.0-cp311-cp311-manylinux_2_17_x86_64.manylinux2014_x86_64.whl.metadata (6.7 kB)\n",
            "Requirement already satisfied: triton>=2.0.0 in /usr/local/lib/python3.11/dist-packages (from openai-whisper) (3.2.0)\n",
            "Requirement already satisfied: llvmlite<0.44,>=0.43.0dev0 in /usr/local/lib/python3.11/dist-packages (from numba->openai-whisper) (0.43.0)\n",
            "Requirement already satisfied: regex>=2022.1.18 in /usr/local/lib/python3.11/dist-packages (from tiktoken->openai-whisper) (2024.11.6)\n",
            "Requirement already satisfied: requests>=2.26.0 in /usr/local/lib/python3.11/dist-packages (from tiktoken->openai-whisper) (2.32.3)\n",
            "Requirement already satisfied: filelock in /usr/local/lib/python3.11/dist-packages (from torch->openai-whisper) (3.18.0)\n",
            "Requirement already satisfied: typing-extensions>=4.10.0 in /usr/local/lib/python3.11/dist-packages (from torch->openai-whisper) (4.13.1)\n",
            "Requirement already satisfied: networkx in /usr/local/lib/python3.11/dist-packages (from torch->openai-whisper) (3.4.2)\n",
            "Requirement already satisfied: jinja2 in /usr/local/lib/python3.11/dist-packages (from torch->openai-whisper) (3.1.6)\n",
            "Requirement already satisfied: fsspec in /usr/local/lib/python3.11/dist-packages (from torch->openai-whisper) (2025.3.2)\n",
            "Collecting nvidia-cuda-nvrtc-cu12==12.4.127 (from torch->openai-whisper)\n",
            "  Downloading nvidia_cuda_nvrtc_cu12-12.4.127-py3-none-manylinux2014_x86_64.whl.metadata (1.5 kB)\n",
            "Collecting nvidia-cuda-runtime-cu12==12.4.127 (from torch->openai-whisper)\n",
            "  Downloading nvidia_cuda_runtime_cu12-12.4.127-py3-none-manylinux2014_x86_64.whl.metadata (1.5 kB)\n",
            "Collecting nvidia-cuda-cupti-cu12==12.4.127 (from torch->openai-whisper)\n",
            "  Downloading nvidia_cuda_cupti_cu12-12.4.127-py3-none-manylinux2014_x86_64.whl.metadata (1.6 kB)\n",
            "Collecting nvidia-cudnn-cu12==9.1.0.70 (from torch->openai-whisper)\n",
            "  Downloading nvidia_cudnn_cu12-9.1.0.70-py3-none-manylinux2014_x86_64.whl.metadata (1.6 kB)\n",
            "Collecting nvidia-cublas-cu12==12.4.5.8 (from torch->openai-whisper)\n",
            "  Downloading nvidia_cublas_cu12-12.4.5.8-py3-none-manylinux2014_x86_64.whl.metadata (1.5 kB)\n",
            "Collecting nvidia-cufft-cu12==11.2.1.3 (from torch->openai-whisper)\n",
            "  Downloading nvidia_cufft_cu12-11.2.1.3-py3-none-manylinux2014_x86_64.whl.metadata (1.5 kB)\n",
            "Collecting nvidia-curand-cu12==10.3.5.147 (from torch->openai-whisper)\n",
            "  Downloading nvidia_curand_cu12-10.3.5.147-py3-none-manylinux2014_x86_64.whl.metadata (1.5 kB)\n",
            "Collecting nvidia-cusolver-cu12==11.6.1.9 (from torch->openai-whisper)\n",
            "  Downloading nvidia_cusolver_cu12-11.6.1.9-py3-none-manylinux2014_x86_64.whl.metadata (1.6 kB)\n",
            "Collecting nvidia-cusparse-cu12==12.3.1.170 (from torch->openai-whisper)\n",
            "  Downloading nvidia_cusparse_cu12-12.3.1.170-py3-none-manylinux2014_x86_64.whl.metadata (1.6 kB)\n",
            "Requirement already satisfied: nvidia-cusparselt-cu12==0.6.2 in /usr/local/lib/python3.11/dist-packages (from torch->openai-whisper) (0.6.2)\n",
            "Requirement already satisfied: nvidia-nccl-cu12==2.21.5 in /usr/local/lib/python3.11/dist-packages (from torch->openai-whisper) (2.21.5)\n",
            "Requirement already satisfied: nvidia-nvtx-cu12==12.4.127 in /usr/local/lib/python3.11/dist-packages (from torch->openai-whisper) (12.4.127)\n",
            "Collecting nvidia-nvjitlink-cu12==12.4.127 (from torch->openai-whisper)\n",
            "  Downloading nvidia_nvjitlink_cu12-12.4.127-py3-none-manylinux2014_x86_64.whl.metadata (1.5 kB)\n",
            "Requirement already satisfied: sympy==1.13.1 in /usr/local/lib/python3.11/dist-packages (from torch->openai-whisper) (1.13.1)\n",
            "Requirement already satisfied: mpmath<1.4,>=1.1.0 in /usr/local/lib/python3.11/dist-packages (from sympy==1.13.1->torch->openai-whisper) (1.3.0)\n",
            "Requirement already satisfied: charset-normalizer<4,>=2 in /usr/local/lib/python3.11/dist-packages (from requests>=2.26.0->tiktoken->openai-whisper) (3.4.1)\n",
            "Requirement already satisfied: idna<4,>=2.5 in /usr/local/lib/python3.11/dist-packages (from requests>=2.26.0->tiktoken->openai-whisper) (3.10)\n",
            "Requirement already satisfied: urllib3<3,>=1.21.1 in /usr/local/lib/python3.11/dist-packages (from requests>=2.26.0->tiktoken->openai-whisper) (2.3.0)\n",
            "Requirement already satisfied: certifi>=2017.4.17 in /usr/local/lib/python3.11/dist-packages (from requests>=2.26.0->tiktoken->openai-whisper) (2025.1.31)\n",
            "Requirement already satisfied: MarkupSafe>=2.0 in /usr/local/lib/python3.11/dist-packages (from jinja2->torch->openai-whisper) (3.0.2)\n",
            "Downloading tiktoken-0.9.0-cp311-cp311-manylinux_2_17_x86_64.manylinux2014_x86_64.whl (1.2 MB)\n",
            "\u001b[2K   \u001b[90m━━━━━━━━━━━━━━━━━━━━━━━━━━━━━━━━━━━━━━━━\u001b[0m \u001b[32m1.2/1.2 MB\u001b[0m \u001b[31m56.5 MB/s\u001b[0m eta \u001b[36m0:00:00\u001b[0m\n",
            "\u001b[?25hDownloading nvidia_cublas_cu12-12.4.5.8-py3-none-manylinux2014_x86_64.whl (363.4 MB)\n",
            "\u001b[2K   \u001b[90m━━━━━━━━━━━━━━━━━━━━━━━━━━━━━━━━━━━━━━━━\u001b[0m \u001b[32m363.4/363.4 MB\u001b[0m \u001b[31m2.7 MB/s\u001b[0m eta \u001b[36m0:00:00\u001b[0m\n",
            "\u001b[?25hDownloading nvidia_cuda_cupti_cu12-12.4.127-py3-none-manylinux2014_x86_64.whl (13.8 MB)\n",
            "\u001b[2K   \u001b[90m━━━━━━━━━━━━━━━━━━━━━━━━━━━━━━━━━━━━━━━━\u001b[0m \u001b[32m13.8/13.8 MB\u001b[0m \u001b[31m110.8 MB/s\u001b[0m eta \u001b[36m0:00:00\u001b[0m\n",
            "\u001b[?25hDownloading nvidia_cuda_nvrtc_cu12-12.4.127-py3-none-manylinux2014_x86_64.whl (24.6 MB)\n",
            "\u001b[2K   \u001b[90m━━━━━━━━━━━━━━━━━━━━━━━━━━━━━━━━━━━━━━━━\u001b[0m \u001b[32m24.6/24.6 MB\u001b[0m \u001b[31m85.6 MB/s\u001b[0m eta \u001b[36m0:00:00\u001b[0m\n",
            "\u001b[?25hDownloading nvidia_cuda_runtime_cu12-12.4.127-py3-none-manylinux2014_x86_64.whl (883 kB)\n",
            "\u001b[2K   \u001b[90m━━━━━━━━━━━━━━━━━━━━━━━━━━━━━━━━━━━━━━━━\u001b[0m \u001b[32m883.7/883.7 kB\u001b[0m \u001b[31m58.6 MB/s\u001b[0m eta \u001b[36m0:00:00\u001b[0m\n",
            "\u001b[?25hDownloading nvidia_cudnn_cu12-9.1.0.70-py3-none-manylinux2014_x86_64.whl (664.8 MB)\n",
            "\u001b[2K   \u001b[90m━━━━━━━━━━━━━━━━━━━━━━━━━━━━━━━━━━━━━━━━\u001b[0m \u001b[32m664.8/664.8 MB\u001b[0m \u001b[31m2.6 MB/s\u001b[0m eta \u001b[36m0:00:00\u001b[0m\n",
            "\u001b[?25hDownloading nvidia_cufft_cu12-11.2.1.3-py3-none-manylinux2014_x86_64.whl (211.5 MB)\n",
            "\u001b[2K   \u001b[90m━━━━━━━━━━━━━━━━━━━━━━━━━━━━━━━━━━━━━━━━\u001b[0m \u001b[32m211.5/211.5 MB\u001b[0m \u001b[31m5.7 MB/s\u001b[0m eta \u001b[36m0:00:00\u001b[0m\n",
            "\u001b[?25hDownloading nvidia_curand_cu12-10.3.5.147-py3-none-manylinux2014_x86_64.whl (56.3 MB)\n",
            "\u001b[2K   \u001b[90m━━━━━━━━━━━━━━━━━━━━━━━━━━━━━━━━━━━━━━━━\u001b[0m \u001b[32m56.3/56.3 MB\u001b[0m \u001b[31m15.9 MB/s\u001b[0m eta \u001b[36m0:00:00\u001b[0m\n",
            "\u001b[?25hDownloading nvidia_cusolver_cu12-11.6.1.9-py3-none-manylinux2014_x86_64.whl (127.9 MB)\n",
            "\u001b[2K   \u001b[90m━━━━━━━━━━━━━━━━━━━━━━━━━━━━━━━━━━━━━━━━\u001b[0m \u001b[32m127.9/127.9 MB\u001b[0m \u001b[31m7.3 MB/s\u001b[0m eta \u001b[36m0:00:00\u001b[0m\n",
            "\u001b[?25hDownloading nvidia_cusparse_cu12-12.3.1.170-py3-none-manylinux2014_x86_64.whl (207.5 MB)\n",
            "\u001b[2K   \u001b[90m━━━━━━━━━━━━━━━━━━━━━━━━━━━━━━━━━━━━━━━━\u001b[0m \u001b[32m207.5/207.5 MB\u001b[0m \u001b[31m5.6 MB/s\u001b[0m eta \u001b[36m0:00:00\u001b[0m\n",
            "\u001b[?25hDownloading nvidia_nvjitlink_cu12-12.4.127-py3-none-manylinux2014_x86_64.whl (21.1 MB)\n",
            "\u001b[2K   \u001b[90m━━━━━━━━━━━━━━━━━━━━━━━━━━━━━━━━━━━━━━━━\u001b[0m \u001b[32m21.1/21.1 MB\u001b[0m \u001b[31m88.1 MB/s\u001b[0m eta \u001b[36m0:00:00\u001b[0m\n",
            "\u001b[?25hBuilding wheels for collected packages: openai-whisper\n",
            "  Building wheel for openai-whisper (pyproject.toml) ... \u001b[?25l\u001b[?25hdone\n",
            "  Created wheel for openai-whisper: filename=openai_whisper-20240930-py3-none-any.whl size=803405 sha256=5ad49933437968708b1ba407cb0d008fe488843fef94aac93ac1958a8f413d71\n",
            "  Stored in directory: /root/.cache/pip/wheels/2f/f2/ce/6eb23db4091d026238ce76703bd66da60b969d70bcc81d5d3a\n",
            "Successfully built openai-whisper\n",
            "Installing collected packages: nvidia-nvjitlink-cu12, nvidia-curand-cu12, nvidia-cufft-cu12, nvidia-cuda-runtime-cu12, nvidia-cuda-nvrtc-cu12, nvidia-cuda-cupti-cu12, nvidia-cublas-cu12, tiktoken, nvidia-cusparse-cu12, nvidia-cudnn-cu12, nvidia-cusolver-cu12, openai-whisper\n",
            "  Attempting uninstall: nvidia-nvjitlink-cu12\n",
            "    Found existing installation: nvidia-nvjitlink-cu12 12.5.82\n",
            "    Uninstalling nvidia-nvjitlink-cu12-12.5.82:\n",
            "      Successfully uninstalled nvidia-nvjitlink-cu12-12.5.82\n",
            "  Attempting uninstall: nvidia-curand-cu12\n",
            "    Found existing installation: nvidia-curand-cu12 10.3.6.82\n",
            "    Uninstalling nvidia-curand-cu12-10.3.6.82:\n",
            "      Successfully uninstalled nvidia-curand-cu12-10.3.6.82\n",
            "  Attempting uninstall: nvidia-cufft-cu12\n",
            "    Found existing installation: nvidia-cufft-cu12 11.2.3.61\n",
            "    Uninstalling nvidia-cufft-cu12-11.2.3.61:\n",
            "      Successfully uninstalled nvidia-cufft-cu12-11.2.3.61\n",
            "  Attempting uninstall: nvidia-cuda-runtime-cu12\n",
            "    Found existing installation: nvidia-cuda-runtime-cu12 12.5.82\n",
            "    Uninstalling nvidia-cuda-runtime-cu12-12.5.82:\n",
            "      Successfully uninstalled nvidia-cuda-runtime-cu12-12.5.82\n",
            "  Attempting uninstall: nvidia-cuda-nvrtc-cu12\n",
            "    Found existing installation: nvidia-cuda-nvrtc-cu12 12.5.82\n",
            "    Uninstalling nvidia-cuda-nvrtc-cu12-12.5.82:\n",
            "      Successfully uninstalled nvidia-cuda-nvrtc-cu12-12.5.82\n",
            "  Attempting uninstall: nvidia-cuda-cupti-cu12\n",
            "    Found existing installation: nvidia-cuda-cupti-cu12 12.5.82\n",
            "    Uninstalling nvidia-cuda-cupti-cu12-12.5.82:\n",
            "      Successfully uninstalled nvidia-cuda-cupti-cu12-12.5.82\n",
            "  Attempting uninstall: nvidia-cublas-cu12\n",
            "    Found existing installation: nvidia-cublas-cu12 12.5.3.2\n",
            "    Uninstalling nvidia-cublas-cu12-12.5.3.2:\n",
            "      Successfully uninstalled nvidia-cublas-cu12-12.5.3.2\n",
            "  Attempting uninstall: nvidia-cusparse-cu12\n",
            "    Found existing installation: nvidia-cusparse-cu12 12.5.1.3\n",
            "    Uninstalling nvidia-cusparse-cu12-12.5.1.3:\n",
            "      Successfully uninstalled nvidia-cusparse-cu12-12.5.1.3\n",
            "  Attempting uninstall: nvidia-cudnn-cu12\n",
            "    Found existing installation: nvidia-cudnn-cu12 9.3.0.75\n",
            "    Uninstalling nvidia-cudnn-cu12-9.3.0.75:\n",
            "      Successfully uninstalled nvidia-cudnn-cu12-9.3.0.75\n",
            "  Attempting uninstall: nvidia-cusolver-cu12\n",
            "    Found existing installation: nvidia-cusolver-cu12 11.6.3.83\n",
            "    Uninstalling nvidia-cusolver-cu12-11.6.3.83:\n",
            "      Successfully uninstalled nvidia-cusolver-cu12-11.6.3.83\n",
            "Successfully installed nvidia-cublas-cu12-12.4.5.8 nvidia-cuda-cupti-cu12-12.4.127 nvidia-cuda-nvrtc-cu12-12.4.127 nvidia-cuda-runtime-cu12-12.4.127 nvidia-cudnn-cu12-9.1.0.70 nvidia-cufft-cu12-11.2.1.3 nvidia-curand-cu12-10.3.5.147 nvidia-cusolver-cu12-11.6.1.9 nvidia-cusparse-cu12-12.3.1.170 nvidia-nvjitlink-cu12-12.4.127 openai-whisper-20240930 tiktoken-0.9.0\n"
          ]
        }
      ]
    },
    {
      "cell_type": "code",
      "source": [
        "!pip install langdetect"
      ],
      "metadata": {
        "colab": {
          "base_uri": "https://localhost:8080/"
        },
        "id": "nSoQiW7UZQKI",
        "outputId": "cd62d0b2-e392-4bf4-e2af-f86c3f7c9701"
      },
      "execution_count": 3,
      "outputs": [
        {
          "output_type": "stream",
          "name": "stdout",
          "text": [
            "Collecting langdetect\n",
            "  Downloading langdetect-1.0.9.tar.gz (981 kB)\n",
            "\u001b[?25l     \u001b[90m━━━━━━━━━━━━━━━━━━━━━━━━━━━━━━━━━━━━━━━━\u001b[0m \u001b[32m0.0/981.5 kB\u001b[0m \u001b[31m?\u001b[0m eta \u001b[36m-:--:--\u001b[0m\r\u001b[2K     \u001b[91m━━━━━━━━━━━━━━━━\u001b[0m\u001b[91m╸\u001b[0m\u001b[90m━━━━━━━━━━━━━━━━━━━━━\u001b[0m \u001b[32m430.1/981.5 kB\u001b[0m \u001b[31m13.1 MB/s\u001b[0m eta \u001b[36m0:00:01\u001b[0m\r\u001b[2K     \u001b[90m━━━━━━━━━━━━━━━━━━━━━━━━━━━━━━━━━━━━━━\u001b[0m \u001b[32m981.5/981.5 kB\u001b[0m \u001b[31m16.7 MB/s\u001b[0m eta \u001b[36m0:00:00\u001b[0m\n",
            "\u001b[?25h  Preparing metadata (setup.py) ... \u001b[?25l\u001b[?25hdone\n",
            "Requirement already satisfied: six in /usr/local/lib/python3.11/dist-packages (from langdetect) (1.17.0)\n",
            "Building wheels for collected packages: langdetect\n",
            "  Building wheel for langdetect (setup.py) ... \u001b[?25l\u001b[?25hdone\n",
            "  Created wheel for langdetect: filename=langdetect-1.0.9-py3-none-any.whl size=993223 sha256=ff5fbe625814b7f073ca71279bd65c7cf28c0dea6a88038ae70ae0ff0ba08f45\n",
            "  Stored in directory: /root/.cache/pip/wheels/0a/f2/b2/e5ca405801e05eb7c8ed5b3b4bcf1fcabcd6272c167640072e\n",
            "Successfully built langdetect\n",
            "Installing collected packages: langdetect\n",
            "Successfully installed langdetect-1.0.9\n"
          ]
        }
      ]
    },
    {
      "cell_type": "code",
      "source": [
        "!pip install selenium\n",
        "!apt-get update\n",
        "!apt-get install -y chromium-chromedriver\n"
      ],
      "metadata": {
        "colab": {
          "base_uri": "https://localhost:8080/"
        },
        "id": "1ycwqo6tg2y5",
        "outputId": "042e37d2-73ae-4811-fd49-9ba3cf6f9750"
      },
      "execution_count": 4,
      "outputs": [
        {
          "output_type": "stream",
          "name": "stdout",
          "text": [
            "Collecting selenium\n",
            "  Downloading selenium-4.31.0-py3-none-any.whl.metadata (7.5 kB)\n",
            "Requirement already satisfied: urllib3<3,>=1.26 in /usr/local/lib/python3.11/dist-packages (from urllib3[socks]<3,>=1.26->selenium) (2.3.0)\n",
            "Collecting trio~=0.17 (from selenium)\n",
            "  Downloading trio-0.29.0-py3-none-any.whl.metadata (8.5 kB)\n",
            "Collecting trio-websocket~=0.9 (from selenium)\n",
            "  Downloading trio_websocket-0.12.2-py3-none-any.whl.metadata (5.1 kB)\n",
            "Requirement already satisfied: certifi>=2021.10.8 in /usr/local/lib/python3.11/dist-packages (from selenium) (2025.1.31)\n",
            "Requirement already satisfied: typing_extensions~=4.9 in /usr/local/lib/python3.11/dist-packages (from selenium) (4.13.1)\n",
            "Requirement already satisfied: websocket-client~=1.8 in /usr/local/lib/python3.11/dist-packages (from selenium) (1.8.0)\n",
            "Requirement already satisfied: attrs>=23.2.0 in /usr/local/lib/python3.11/dist-packages (from trio~=0.17->selenium) (25.3.0)\n",
            "Requirement already satisfied: sortedcontainers in /usr/local/lib/python3.11/dist-packages (from trio~=0.17->selenium) (2.4.0)\n",
            "Requirement already satisfied: idna in /usr/local/lib/python3.11/dist-packages (from trio~=0.17->selenium) (3.10)\n",
            "Collecting outcome (from trio~=0.17->selenium)\n",
            "  Downloading outcome-1.3.0.post0-py2.py3-none-any.whl.metadata (2.6 kB)\n",
            "Requirement already satisfied: sniffio>=1.3.0 in /usr/local/lib/python3.11/dist-packages (from trio~=0.17->selenium) (1.3.1)\n",
            "Collecting wsproto>=0.14 (from trio-websocket~=0.9->selenium)\n",
            "  Downloading wsproto-1.2.0-py3-none-any.whl.metadata (5.6 kB)\n",
            "Requirement already satisfied: pysocks!=1.5.7,<2.0,>=1.5.6 in /usr/local/lib/python3.11/dist-packages (from urllib3[socks]<3,>=1.26->selenium) (1.7.1)\n",
            "Requirement already satisfied: h11<1,>=0.9.0 in /usr/local/lib/python3.11/dist-packages (from wsproto>=0.14->trio-websocket~=0.9->selenium) (0.14.0)\n",
            "Downloading selenium-4.31.0-py3-none-any.whl (9.4 MB)\n",
            "\u001b[2K   \u001b[90m━━━━━━━━━━━━━━━━━━━━━━━━━━━━━━━━━━━━━━━━\u001b[0m \u001b[32m9.4/9.4 MB\u001b[0m \u001b[31m41.0 MB/s\u001b[0m eta \u001b[36m0:00:00\u001b[0m\n",
            "\u001b[?25hDownloading trio-0.29.0-py3-none-any.whl (492 kB)\n",
            "\u001b[2K   \u001b[90m━━━━━━━━━━━━━━━━━━━━━━━━━━━━━━━━━━━━━━━━\u001b[0m \u001b[32m492.9/492.9 kB\u001b[0m \u001b[31m33.2 MB/s\u001b[0m eta \u001b[36m0:00:00\u001b[0m\n",
            "\u001b[?25hDownloading trio_websocket-0.12.2-py3-none-any.whl (21 kB)\n",
            "Downloading outcome-1.3.0.post0-py2.py3-none-any.whl (10 kB)\n",
            "Downloading wsproto-1.2.0-py3-none-any.whl (24 kB)\n",
            "Installing collected packages: wsproto, outcome, trio, trio-websocket, selenium\n",
            "Successfully installed outcome-1.3.0.post0 selenium-4.31.0 trio-0.29.0 trio-websocket-0.12.2 wsproto-1.2.0\n",
            "Get:1 https://cloud.r-project.org/bin/linux/ubuntu jammy-cran40/ InRelease [3,632 B]\n",
            "Hit:2 https://developer.download.nvidia.com/compute/cuda/repos/ubuntu2204/x86_64  InRelease\n",
            "Get:3 http://security.ubuntu.com/ubuntu jammy-security InRelease [129 kB]\n",
            "Hit:4 http://archive.ubuntu.com/ubuntu jammy InRelease\n",
            "Get:5 http://archive.ubuntu.com/ubuntu jammy-updates InRelease [128 kB]\n",
            "Get:6 https://r2u.stat.illinois.edu/ubuntu jammy InRelease [6,555 B]\n",
            "Hit:7 http://archive.ubuntu.com/ubuntu jammy-backports InRelease\n",
            "Hit:8 https://ppa.launchpadcontent.net/deadsnakes/ppa/ubuntu jammy InRelease\n",
            "Hit:9 https://ppa.launchpadcontent.net/graphics-drivers/ppa/ubuntu jammy InRelease\n",
            "Get:10 https://r2u.stat.illinois.edu/ubuntu jammy/main amd64 Packages [2,688 kB]\n",
            "Get:11 http://security.ubuntu.com/ubuntu jammy-security/universe amd64 Packages [1,243 kB]\n",
            "Hit:12 https://ppa.launchpadcontent.net/ubuntugis/ppa/ubuntu jammy InRelease\n",
            "Get:13 http://archive.ubuntu.com/ubuntu jammy-updates/universe amd64 Packages [1,542 kB]\n",
            "Get:14 http://security.ubuntu.com/ubuntu jammy-security/main amd64 Packages [2,788 kB]\n",
            "Get:15 https://r2u.stat.illinois.edu/ubuntu jammy/main all Packages [8,824 kB]\n",
            "Get:16 http://archive.ubuntu.com/ubuntu jammy-updates/main amd64 Packages [3,099 kB]\n",
            "Fetched 20.5 MB in 3s (7,179 kB/s)\n",
            "Reading package lists... Done\n",
            "W: Skipping acquire of configured file 'main/source/Sources' as repository 'https://r2u.stat.illinois.edu/ubuntu jammy InRelease' does not seem to provide it (sources.list entry misspelt?)\n",
            "Reading package lists... Done\n",
            "Building dependency tree... Done\n",
            "Reading state information... Done\n",
            "The following additional packages will be installed:\n",
            "  apparmor chromium-browser libfuse3-3 libudev1 snapd squashfs-tools\n",
            "  systemd-hwe-hwdb udev\n",
            "Suggested packages:\n",
            "  apparmor-profiles-extra apparmor-utils fuse3 zenity | kdialog\n",
            "The following NEW packages will be installed:\n",
            "  apparmor chromium-browser chromium-chromedriver libfuse3-3 snapd\n",
            "  squashfs-tools systemd-hwe-hwdb udev\n",
            "The following packages will be upgraded:\n",
            "  libudev1\n",
            "1 upgraded, 8 newly installed, 0 to remove and 30 not upgraded.\n",
            "Need to get 30.3 MB of archives.\n",
            "After this operation, 123 MB of additional disk space will be used.\n",
            "Get:1 http://archive.ubuntu.com/ubuntu jammy-updates/main amd64 apparmor amd64 3.0.4-2ubuntu2.4 [598 kB]\n",
            "Get:2 http://archive.ubuntu.com/ubuntu jammy/main amd64 squashfs-tools amd64 1:4.5-3build1 [159 kB]\n",
            "Get:3 http://archive.ubuntu.com/ubuntu jammy-updates/main amd64 libudev1 amd64 249.11-0ubuntu3.15 [76.6 kB]\n",
            "Get:4 http://archive.ubuntu.com/ubuntu jammy-updates/main amd64 udev amd64 249.11-0ubuntu3.15 [1,557 kB]\n",
            "Get:5 http://archive.ubuntu.com/ubuntu jammy/main amd64 libfuse3-3 amd64 3.10.5-1build1 [81.2 kB]\n",
            "Get:6 http://archive.ubuntu.com/ubuntu jammy-updates/main amd64 snapd amd64 2.67.1+22.04 [27.8 MB]\n",
            "Get:7 http://archive.ubuntu.com/ubuntu jammy-updates/universe amd64 chromium-browser amd64 1:85.0.4183.83-0ubuntu2.22.04.1 [49.2 kB]\n",
            "Get:8 http://archive.ubuntu.com/ubuntu jammy-updates/universe amd64 chromium-chromedriver amd64 1:85.0.4183.83-0ubuntu2.22.04.1 [2,308 B]\n",
            "Get:9 http://archive.ubuntu.com/ubuntu jammy-updates/main amd64 systemd-hwe-hwdb all 249.11.5 [3,228 B]\n",
            "Fetched 30.3 MB in 1s (25.4 MB/s)\n",
            "Preconfiguring packages ...\n",
            "Selecting previously unselected package apparmor.\n",
            "(Reading database ... 126315 files and directories currently installed.)\n",
            "Preparing to unpack .../apparmor_3.0.4-2ubuntu2.4_amd64.deb ...\n",
            "Unpacking apparmor (3.0.4-2ubuntu2.4) ...\n",
            "Selecting previously unselected package squashfs-tools.\n",
            "Preparing to unpack .../squashfs-tools_1%3a4.5-3build1_amd64.deb ...\n",
            "Unpacking squashfs-tools (1:4.5-3build1) ...\n",
            "Preparing to unpack .../libudev1_249.11-0ubuntu3.15_amd64.deb ...\n",
            "Unpacking libudev1:amd64 (249.11-0ubuntu3.15) over (249.11-0ubuntu3.12) ...\n",
            "Setting up libudev1:amd64 (249.11-0ubuntu3.15) ...\n",
            "Selecting previously unselected package udev.\n",
            "(Reading database ... 126515 files and directories currently installed.)\n",
            "Preparing to unpack .../udev_249.11-0ubuntu3.15_amd64.deb ...\n",
            "Unpacking udev (249.11-0ubuntu3.15) ...\n",
            "Selecting previously unselected package libfuse3-3:amd64.\n",
            "Preparing to unpack .../libfuse3-3_3.10.5-1build1_amd64.deb ...\n",
            "Unpacking libfuse3-3:amd64 (3.10.5-1build1) ...\n",
            "Selecting previously unselected package snapd.\n",
            "Preparing to unpack .../snapd_2.67.1+22.04_amd64.deb ...\n",
            "Unpacking snapd (2.67.1+22.04) ...\n",
            "Setting up apparmor (3.0.4-2ubuntu2.4) ...\n",
            "Created symlink /etc/systemd/system/sysinit.target.wants/apparmor.service → /lib/systemd/system/apparmor.service.\n",
            "Setting up squashfs-tools (1:4.5-3build1) ...\n",
            "Setting up udev (249.11-0ubuntu3.15) ...\n",
            "invoke-rc.d: could not determine current runlevel\n",
            "invoke-rc.d: policy-rc.d denied execution of start.\n",
            "Setting up libfuse3-3:amd64 (3.10.5-1build1) ...\n",
            "Setting up snapd (2.67.1+22.04) ...\n",
            "Created symlink /etc/systemd/system/multi-user.target.wants/snapd.apparmor.service → /lib/systemd/system/snapd.apparmor.service.\n",
            "Created symlink /etc/systemd/system/multi-user.target.wants/snapd.autoimport.service → /lib/systemd/system/snapd.autoimport.service.\n",
            "Created symlink /etc/systemd/system/multi-user.target.wants/snapd.core-fixup.service → /lib/systemd/system/snapd.core-fixup.service.\n",
            "Created symlink /etc/systemd/system/multi-user.target.wants/snapd.recovery-chooser-trigger.service → /lib/systemd/system/snapd.recovery-chooser-trigger.service.\n",
            "Created symlink /etc/systemd/system/multi-user.target.wants/snapd.seeded.service → /lib/systemd/system/snapd.seeded.service.\n",
            "Created symlink /etc/systemd/system/cloud-final.service.wants/snapd.seeded.service → /lib/systemd/system/snapd.seeded.service.\n",
            "Unit /lib/systemd/system/snapd.seeded.service is added as a dependency to a non-existent unit cloud-final.service.\n",
            "Created symlink /etc/systemd/system/multi-user.target.wants/snapd.service → /lib/systemd/system/snapd.service.\n",
            "Created symlink /etc/systemd/system/timers.target.wants/snapd.snap-repair.timer → /lib/systemd/system/snapd.snap-repair.timer.\n",
            "Created symlink /etc/systemd/system/sockets.target.wants/snapd.socket → /lib/systemd/system/snapd.socket.\n",
            "Created symlink /etc/systemd/system/final.target.wants/snapd.system-shutdown.service → /lib/systemd/system/snapd.system-shutdown.service.\n",
            "Selecting previously unselected package chromium-browser.\n",
            "(Reading database ... 126744 files and directories currently installed.)\n",
            "Preparing to unpack .../chromium-browser_1%3a85.0.4183.83-0ubuntu2.22.04.1_amd64.deb ...\n",
            "=> Installing the chromium snap\n",
            "==> Checking connectivity with the snap store\n",
            "===> System doesn't have a working snapd, skipping\n",
            "Unpacking chromium-browser (1:85.0.4183.83-0ubuntu2.22.04.1) ...\n",
            "Selecting previously unselected package chromium-chromedriver.\n",
            "Preparing to unpack .../chromium-chromedriver_1%3a85.0.4183.83-0ubuntu2.22.04.1_amd64.deb ...\n",
            "Unpacking chromium-chromedriver (1:85.0.4183.83-0ubuntu2.22.04.1) ...\n",
            "Selecting previously unselected package systemd-hwe-hwdb.\n",
            "Preparing to unpack .../systemd-hwe-hwdb_249.11.5_all.deb ...\n",
            "Unpacking systemd-hwe-hwdb (249.11.5) ...\n",
            "Setting up systemd-hwe-hwdb (249.11.5) ...\n",
            "Setting up chromium-browser (1:85.0.4183.83-0ubuntu2.22.04.1) ...\n",
            "update-alternatives: using /usr/bin/chromium-browser to provide /usr/bin/x-www-browser (x-www-browser) in auto mode\n",
            "update-alternatives: using /usr/bin/chromium-browser to provide /usr/bin/gnome-www-browser (gnome-www-browser) in auto mode\n",
            "Setting up chromium-chromedriver (1:85.0.4183.83-0ubuntu2.22.04.1) ...\n",
            "Processing triggers for udev (249.11-0ubuntu3.15) ...\n",
            "Processing triggers for mailcap (3.70+nmu1ubuntu1) ...\n",
            "Processing triggers for hicolor-icon-theme (0.17-2) ...\n",
            "Processing triggers for libc-bin (2.35-0ubuntu3.8) ...\n",
            "/sbin/ldconfig.real: /usr/local/lib/libur_adapter_opencl.so.0 is not a symbolic link\n",
            "\n",
            "/sbin/ldconfig.real: /usr/local/lib/libur_loader.so.0 is not a symbolic link\n",
            "\n",
            "/sbin/ldconfig.real: /usr/local/lib/libtbbmalloc.so.2 is not a symbolic link\n",
            "\n",
            "/sbin/ldconfig.real: /usr/local/lib/libtcm.so.1 is not a symbolic link\n",
            "\n",
            "/sbin/ldconfig.real: /usr/local/lib/libumf.so.0 is not a symbolic link\n",
            "\n",
            "/sbin/ldconfig.real: /usr/local/lib/libtcm_debug.so.1 is not a symbolic link\n",
            "\n",
            "/sbin/ldconfig.real: /usr/local/lib/libtbbbind.so.3 is not a symbolic link\n",
            "\n",
            "/sbin/ldconfig.real: /usr/local/lib/libtbb.so.12 is not a symbolic link\n",
            "\n",
            "/sbin/ldconfig.real: /usr/local/lib/libur_adapter_level_zero.so.0 is not a symbolic link\n",
            "\n",
            "/sbin/ldconfig.real: /usr/local/lib/libtbbbind_2_5.so.3 is not a symbolic link\n",
            "\n",
            "/sbin/ldconfig.real: /usr/local/lib/libhwloc.so.15 is not a symbolic link\n",
            "\n",
            "/sbin/ldconfig.real: /usr/local/lib/libtbbbind_2_0.so.3 is not a symbolic link\n",
            "\n",
            "/sbin/ldconfig.real: /usr/local/lib/libtbbmalloc_proxy.so.2 is not a symbolic link\n",
            "\n",
            "Processing triggers for man-db (2.10.2-1) ...\n",
            "Processing triggers for dbus (1.12.20-2ubuntu4.1) ...\n"
          ]
        }
      ]
    },
    {
      "cell_type": "code",
      "source": [
        "!pip install gTTS"
      ],
      "metadata": {
        "colab": {
          "base_uri": "https://localhost:8080/"
        },
        "id": "HVORcSjnqDSB",
        "outputId": "6a39bcd4-850e-4182-b04a-082c36e79238"
      },
      "execution_count": 5,
      "outputs": [
        {
          "output_type": "stream",
          "name": "stdout",
          "text": [
            "Collecting gTTS\n",
            "  Downloading gTTS-2.5.4-py3-none-any.whl.metadata (4.1 kB)\n",
            "Requirement already satisfied: requests<3,>=2.27 in /usr/local/lib/python3.11/dist-packages (from gTTS) (2.32.3)\n",
            "Requirement already satisfied: click<8.2,>=7.1 in /usr/local/lib/python3.11/dist-packages (from gTTS) (8.1.8)\n",
            "Requirement already satisfied: charset-normalizer<4,>=2 in /usr/local/lib/python3.11/dist-packages (from requests<3,>=2.27->gTTS) (3.4.1)\n",
            "Requirement already satisfied: idna<4,>=2.5 in /usr/local/lib/python3.11/dist-packages (from requests<3,>=2.27->gTTS) (3.10)\n",
            "Requirement already satisfied: urllib3<3,>=1.21.1 in /usr/local/lib/python3.11/dist-packages (from requests<3,>=2.27->gTTS) (2.3.0)\n",
            "Requirement already satisfied: certifi>=2017.4.17 in /usr/local/lib/python3.11/dist-packages (from requests<3,>=2.27->gTTS) (2025.1.31)\n",
            "Downloading gTTS-2.5.4-py3-none-any.whl (29 kB)\n",
            "Installing collected packages: gTTS\n",
            "Successfully installed gTTS-2.5.4\n"
          ]
        }
      ]
    },
    {
      "cell_type": "code",
      "source": [
        "from google.colab import drive\n",
        "import os\n",
        "import subprocess\n",
        "import yt_dlp\n",
        "import whisper\n",
        "from langdetect import detect\n",
        "import time\n",
        "from selenium import webdriver\n",
        "from selenium.webdriver.common.by import By\n",
        "from selenium.webdriver.common.keys import Keys\n",
        "from google.colab import drive  # Only needed if using Google Colab"
      ],
      "metadata": {
        "id": "Y7m10aYJV1u4"
      },
      "execution_count": 6,
      "outputs": []
    },
    {
      "cell_type": "code",
      "source": [
        "from google.colab import drive\n",
        "drive.mount('/content/drive')"
      ],
      "metadata": {
        "id": "FD-zg7q3C32Y",
        "colab": {
          "base_uri": "https://localhost:8080/"
        },
        "outputId": "d69481d4-a7fb-4519-8025-8bf17465c456"
      },
      "execution_count": 7,
      "outputs": [
        {
          "output_type": "stream",
          "name": "stdout",
          "text": [
            "Mounted at /content/drive\n"
          ]
        }
      ]
    },
    {
      "cell_type": "markdown",
      "source": [
        "**BEAUTY**"
      ],
      "metadata": {
        "id": "oW6B_KpnLCad"
      }
    },
    {
      "cell_type": "code",
      "source": [
        "from google.colab import drive\n",
        "import os\n",
        "import yt_dlp\n",
        "import whisper\n",
        "\n",
        "# 🔹 Mount Google Drive\n",
        "drive.mount('/content/drive')\n",
        "\n",
        "# 🔹 Define storage paths\n",
        "base_path = \"/content/drive/MyDrive/YouTube_Scraper1\"\n",
        "audio_path = os.path.join(base_path, \"audio\")\n",
        "transcription_file = os.path.join(base_path, \"transcriptions1.txt\")\n",
        "\n",
        "os.makedirs(audio_path, exist_ok=True)\n",
        "\n",
        "# 🔹 Get YouTube Shorts with Speech Only\n",
        "def get_video_links(search_query, max_results=20):\n",
        "    \"\"\"Fetches YouTube Shorts links that have subtitles (indicating speech).\"\"\"\n",
        "    search_url = f\"https://www.youtube.com/results?search_query={search_query.replace(' ', '+')}&sp=EgIoAQ%3D%3D\"  # Filter for videos with subtitles\n",
        "    ydl_opts = {\"quiet\": True, \"extract_flat\": True, \"dump_single_json\": True}\n",
        "\n",
        "    with yt_dlp.YoutubeDL(ydl_opts) as ydl:\n",
        "        result = ydl.extract_info(search_url, download=False)\n",
        "        return [entry[\"url\"] for entry in result.get(\"entries\", []) if entry][:max_results]\n",
        "\n",
        "# 🔹 Extract audio from YouTube video directly\n",
        "def extract_audio_from_youtube(video_url, audio_file):\n",
        "    \"\"\"Extracts audio from YouTube video and saves as an MP3 file.\"\"\"\n",
        "    try:\n",
        "        ydl_opts = {\n",
        "            \"format\": \"bestaudio/best\",  # Extract the best audio\n",
        "            \"outtmpl\": audio_file,  # Output file path\n",
        "            \"quiet\": True\n",
        "        }\n",
        "        with yt_dlp.YoutubeDL(ydl_opts) as ydl:\n",
        "            ydl.download([video_url])\n",
        "        print(f\"✅ Audio extracted for {video_url}\")\n",
        "    except Exception as e:\n",
        "        print(f\"⚠️ Error extracting audio from {video_url}: {e}\")\n",
        "\n",
        "# 🔹 Transcribe audio using Whisper\n",
        "model = whisper.load_model(\"small\")\n",
        "\n",
        "def transcribe_audio(audio_file):\n",
        "    \"\"\"Transcribes an audio file using Whisper.\"\"\"\n",
        "    try:\n",
        "        result = model.transcribe(audio_file)\n",
        "        print(f\"✅ Transcription completed for {audio_file}\")\n",
        "        return result[\"text\"]\n",
        "    except Exception as e:\n",
        "        print(f\"⚠️ Error transcribing {audio_file}: {e}\")\n",
        "        return None\n",
        "\n",
        "# 🔹 Run the entire pipeline\n",
        "search_term = \"beauty hacks shorts\"\n",
        "video_links = get_video_links(search_term)\n",
        "\n",
        "print(f\"🔍 Found {len(video_links)} videos.\")\n",
        "\n",
        "# Extract audio from YouTube videos and save to audio path\n",
        "for link in video_links:\n",
        "    print(f\"📥 Extracting audio from: {link}...\")\n",
        "    audio_file = os.path.join(audio_path, link.split(\"/\")[-1] + \".mp3\")  # Name audio file from the video URL\n",
        "    extract_audio_from_youtube(link, audio_file)\n",
        "\n",
        "print(\"✅ Audio extraction complete.\")\n",
        "\n",
        "# Transcribe audio files and save to transcription file\n",
        "with open(transcription_file, \"w\", encoding=\"utf-8\") as f:\n",
        "    for file in os.listdir(audio_path):\n",
        "        if file.endswith(\".mp3\"):\n",
        "            audio_file = os.path.join(audio_path, file)\n",
        "            print(f\"📝 Transcribing {file}...\")\n",
        "            transcription = transcribe_audio(audio_file)\n",
        "\n",
        "            if transcription:\n",
        "                f.write(f\"{file}:\\n{transcription}\\n\\n\")\n",
        "            else:\n",
        "                print(f\"⚠️ Skipping {file}, no transcription generated.\")\n",
        "\n",
        "print(f\"✅ Transcriptions saved to {transcription_file}\")\n"
      ],
      "metadata": {
        "colab": {
          "base_uri": "https://localhost:8080/"
        },
        "id": "I6uJKb3KHqMR",
        "outputId": "1fdd3303-a367-4003-ceb3-49007c07c35d"
      },
      "execution_count": null,
      "outputs": [
        {
          "output_type": "stream",
          "name": "stdout",
          "text": [
            "Drive already mounted at /content/drive; to attempt to forcibly remount, call drive.mount(\"/content/drive\", force_remount=True).\n"
          ]
        },
        {
          "output_type": "stream",
          "name": "stderr",
          "text": [
            "/usr/local/lib/python3.11/dist-packages/whisper/__init__.py:150: FutureWarning: You are using `torch.load` with `weights_only=False` (the current default value), which uses the default pickle module implicitly. It is possible to construct malicious pickle data which will execute arbitrary code during unpickling (See https://github.com/pytorch/pytorch/blob/main/SECURITY.md#untrusted-models for more details). In a future release, the default value for `weights_only` will be flipped to `True`. This limits the functions that could be executed during unpickling. Arbitrary objects will no longer be allowed to be loaded via this mode unless they are explicitly allowlisted by the user via `torch.serialization.add_safe_globals`. We recommend you start setting `weights_only=True` for any use case where you don't have full control of the loaded file. Please open an issue on GitHub for any issues related to this experimental feature.\n",
            "  checkpoint = torch.load(fp, map_location=device)\n"
          ]
        },
        {
          "output_type": "stream",
          "name": "stdout",
          "text": [
            "🔍 Found 20 videos.\n",
            "📥 Extracting audio from: https://www.youtube.com/shorts/b9-MH2vxOAQ...\n",
            "✅ Audio extracted for https://www.youtube.com/shorts/b9-MH2vxOAQ\n",
            "📥 Extracting audio from: https://www.youtube.com/shorts/9BX04R24KvY...\n",
            "✅ Audio extracted for https://www.youtube.com/shorts/9BX04R24KvY\n",
            "📥 Extracting audio from: https://www.youtube.com/watch?v=iKa3JLIDMuk...\n",
            "✅ Audio extracted for https://www.youtube.com/watch?v=iKa3JLIDMuk\n",
            "📥 Extracting audio from: https://www.youtube.com/shorts/vD-ESlphowE...\n",
            "✅ Audio extracted for https://www.youtube.com/shorts/vD-ESlphowE\n",
            "📥 Extracting audio from: https://www.youtube.com/watch?v=wj9SGqjyabU...\n",
            "✅ Audio extracted for https://www.youtube.com/watch?v=wj9SGqjyabU\n",
            "📥 Extracting audio from: https://www.youtube.com/shorts/WC-pJlFbmiE...\n",
            "✅ Audio extracted for https://www.youtube.com/shorts/WC-pJlFbmiE\n",
            "📥 Extracting audio from: https://www.youtube.com/shorts/PEdkODyrRPQ...\n",
            "✅ Audio extracted for https://www.youtube.com/shorts/PEdkODyrRPQ\n",
            "📥 Extracting audio from: https://www.youtube.com/shorts/-F_yNms0nmI...\n",
            "✅ Audio extracted for https://www.youtube.com/shorts/-F_yNms0nmI\n",
            "📥 Extracting audio from: https://www.youtube.com/watch?v=sPS2rObn4z8...\n",
            "✅ Audio extracted for https://www.youtube.com/watch?v=sPS2rObn4z8\n",
            "📥 Extracting audio from: https://www.youtube.com/shorts/vV-VLvKNYFU...\n",
            "✅ Audio extracted for https://www.youtube.com/shorts/vV-VLvKNYFU\n",
            "📥 Extracting audio from: https://www.youtube.com/watch?v=cwcdGBmqd5E...\n",
            "✅ Audio extracted for https://www.youtube.com/watch?v=cwcdGBmqd5E\n",
            "📥 Extracting audio from: https://www.youtube.com/watch?v=RFeeNDWDYTQ...\n",
            "✅ Audio extracted for https://www.youtube.com/watch?v=RFeeNDWDYTQ\n",
            "📥 Extracting audio from: https://www.youtube.com/shorts/YPyFXy84mTk...\n",
            "✅ Audio extracted for https://www.youtube.com/shorts/YPyFXy84mTk\n",
            "📥 Extracting audio from: https://www.youtube.com/watch?v=z1WxKpVCOJQ...\n",
            "✅ Audio extracted for https://www.youtube.com/watch?v=z1WxKpVCOJQ\n",
            "📥 Extracting audio from: https://www.youtube.com/shorts/jFcix6BkNVc...\n",
            "✅ Audio extracted for https://www.youtube.com/shorts/jFcix6BkNVc\n",
            "📥 Extracting audio from: https://www.youtube.com/shorts/rKW84q8_xVk...\n",
            "✅ Audio extracted for https://www.youtube.com/shorts/rKW84q8_xVk\n",
            "📥 Extracting audio from: https://www.youtube.com/watch?v=xKmZGQp6yng...\n",
            "✅ Audio extracted for https://www.youtube.com/watch?v=xKmZGQp6yng\n",
            "📥 Extracting audio from: https://www.youtube.com/shorts/XAAnwwe_V80...\n",
            "✅ Audio extracted for https://www.youtube.com/shorts/XAAnwwe_V80\n",
            "📥 Extracting audio from: https://www.youtube.com/shorts/g999vkhe_-c...\n",
            "✅ Audio extracted for https://www.youtube.com/shorts/g999vkhe_-c\n",
            "📥 Extracting audio from: https://www.youtube.com/shorts/mG7KCIQWIzI...\n",
            "✅ Audio extracted for https://www.youtube.com/shorts/mG7KCIQWIzI\n",
            "✅ Audio extraction complete.\n",
            "📝 Transcribing Fun makeup hack you NEED to try🥳.mp3...\n",
            "✅ Transcription completed for /content/drive/MyDrive/YouTube_Scraper1/audio/Fun makeup hack you NEED to try🥳.mp3\n",
            "📝 Transcribing Spring ： Summer $ Saving Beauty & Fashion Hacks!.mp3...\n",
            "✅ Transcription completed for /content/drive/MyDrive/YouTube_Scraper1/audio/Spring ： Summer $ Saving Beauty & Fashion Hacks!.mp3\n",
            "📝 Transcribing Long Nails vs Short Nails ｜｜ Awesome Beauty Hacks by Pear Couple.mp3...\n",
            "✅ Transcription completed for /content/drive/MyDrive/YouTube_Scraper1/audio/Long Nails vs Short Nails ｜｜ Awesome Beauty Hacks by Pear Couple.mp3\n",
            "📝 Transcribing b9-MH2vxOAQ.mp3...\n",
            "✅ Transcription completed for /content/drive/MyDrive/YouTube_Scraper1/audio/b9-MH2vxOAQ.mp3\n",
            "📝 Transcribing 9BX04R24KvY.mp3...\n",
            "✅ Transcription completed for /content/drive/MyDrive/YouTube_Scraper1/audio/9BX04R24KvY.mp3\n",
            "📝 Transcribing watch?v=iKa3JLIDMuk.mp3...\n",
            "✅ Transcription completed for /content/drive/MyDrive/YouTube_Scraper1/audio/watch?v=iKa3JLIDMuk.mp3\n",
            "📝 Transcribing vD-ESlphowE.mp3...\n",
            "✅ Transcription completed for /content/drive/MyDrive/YouTube_Scraper1/audio/vD-ESlphowE.mp3\n",
            "📝 Transcribing watch?v=wj9SGqjyabU.mp3...\n",
            "✅ Transcription completed for /content/drive/MyDrive/YouTube_Scraper1/audio/watch?v=wj9SGqjyabU.mp3\n",
            "📝 Transcribing WC-pJlFbmiE.mp3...\n",
            "✅ Transcription completed for /content/drive/MyDrive/YouTube_Scraper1/audio/WC-pJlFbmiE.mp3\n",
            "📝 Transcribing PEdkODyrRPQ.mp3...\n",
            "✅ Transcription completed for /content/drive/MyDrive/YouTube_Scraper1/audio/PEdkODyrRPQ.mp3\n",
            "📝 Transcribing -F_yNms0nmI.mp3...\n",
            "✅ Transcription completed for /content/drive/MyDrive/YouTube_Scraper1/audio/-F_yNms0nmI.mp3\n",
            "📝 Transcribing watch?v=sPS2rObn4z8.mp3...\n",
            "✅ Transcription completed for /content/drive/MyDrive/YouTube_Scraper1/audio/watch?v=sPS2rObn4z8.mp3\n",
            "📝 Transcribing vV-VLvKNYFU.mp3...\n",
            "✅ Transcription completed for /content/drive/MyDrive/YouTube_Scraper1/audio/vV-VLvKNYFU.mp3\n",
            "📝 Transcribing watch?v=cwcdGBmqd5E.mp3...\n",
            "✅ Transcription completed for /content/drive/MyDrive/YouTube_Scraper1/audio/watch?v=cwcdGBmqd5E.mp3\n",
            "📝 Transcribing watch?v=RFeeNDWDYTQ.mp3...\n",
            "✅ Transcription completed for /content/drive/MyDrive/YouTube_Scraper1/audio/watch?v=RFeeNDWDYTQ.mp3\n",
            "📝 Transcribing YPyFXy84mTk.mp3...\n",
            "✅ Transcription completed for /content/drive/MyDrive/YouTube_Scraper1/audio/YPyFXy84mTk.mp3\n",
            "📝 Transcribing watch?v=z1WxKpVCOJQ.mp3...\n",
            "✅ Transcription completed for /content/drive/MyDrive/YouTube_Scraper1/audio/watch?v=z1WxKpVCOJQ.mp3\n",
            "📝 Transcribing jFcix6BkNVc.mp3...\n",
            "✅ Transcription completed for /content/drive/MyDrive/YouTube_Scraper1/audio/jFcix6BkNVc.mp3\n",
            "📝 Transcribing rKW84q8_xVk.mp3...\n",
            "✅ Transcription completed for /content/drive/MyDrive/YouTube_Scraper1/audio/rKW84q8_xVk.mp3\n",
            "📝 Transcribing watch?v=xKmZGQp6yng.mp3...\n",
            "✅ Transcription completed for /content/drive/MyDrive/YouTube_Scraper1/audio/watch?v=xKmZGQp6yng.mp3\n",
            "📝 Transcribing XAAnwwe_V80.mp3...\n",
            "✅ Transcription completed for /content/drive/MyDrive/YouTube_Scraper1/audio/XAAnwwe_V80.mp3\n",
            "📝 Transcribing g999vkhe_-c.mp3...\n",
            "✅ Transcription completed for /content/drive/MyDrive/YouTube_Scraper1/audio/g999vkhe_-c.mp3\n",
            "📝 Transcribing mG7KCIQWIzI.mp3...\n",
            "✅ Transcription completed for /content/drive/MyDrive/YouTube_Scraper1/audio/mG7KCIQWIzI.mp3\n",
            "⚠️ Skipping mG7KCIQWIzI.mp3, no transcription generated.\n",
            "✅ Transcriptions saved to /content/drive/MyDrive/YouTube_Scraper1/transcriptions1.txt\n"
          ]
        }
      ]
    },
    {
      "cell_type": "markdown",
      "source": [
        "**Electronics**"
      ],
      "metadata": {
        "id": "ID6m0MnqLYQm"
      }
    },
    {
      "cell_type": "code",
      "source": [
        "\n",
        "# Storage paths\n",
        "base_path = \"/content/drive/MyDrive/YouTube_Scraper1\"\n",
        "audio_path = os.path.join(base_path, \"audioelectronics\")\n",
        "transcription_file = os.path.join(base_path, \"transcriptionselectronics.txt\")\n",
        "\n",
        "os.makedirs(audio_path, exist_ok=True)\n",
        "\n",
        "# Function to get video links (Shorts with speech, max 50 results)\n",
        "def get_audio_links(search_query, max_results=50):\n",
        "    search_url = f\"https://www.youtube.com/results?search_query={search_query.replace(' ', '+')}&sp=EgIoAQ%3D%3D\"\n",
        "    ydl_opts = {\"quiet\": True, \"extract_flat\": True, \"dump_single_json\": True}\n",
        "\n",
        "    with yt_dlp.YoutubeDL(ydl_opts) as ydl:\n",
        "        result = ydl.extract_info(search_url, download=False)\n",
        "        return [entry[\"url\"] for entry in result.get(\"entries\", []) if entry][:max_results]\n",
        "\n",
        "# Function to download audio only\n",
        "def download_audio(video_url, output_folder):\n",
        "    command = [\"yt-dlp\", \"-f\", \"bestaudio\", \"-x\", \"--audio-format\", \"mp3\", \"-o\", f\"{output_folder}/%(title)s.%(ext)s\", video_url]\n",
        "    subprocess.run(command, check=True)\n",
        "\n",
        "# Load Whisper model\n",
        "model = whisper.load_model(\"small\")\n",
        "\n",
        "def transcribe_audio(audio_file):\n",
        "    try:\n",
        "        result = model.transcribe(audio_file)\n",
        "        print(f\"✅ Transcription completed for {audio_file}\")\n",
        "        return result[\"text\"]\n",
        "    except Exception as e:\n",
        "        print(f\"⚠️ Error transcribing {audio_file}: {e}\")\n",
        "        return None\n",
        "\n",
        "# Run pipeline\n",
        "search_terms = [\"latest electronics\"]\n",
        "video_links = []\n",
        "\n",
        "for term in search_terms:\n",
        "    video_links.extend(get_audio_links(term, max_results=30))\n",
        "\n",
        "print(f\"🔍 Found {len(video_links)} videos.\")\n",
        "\n",
        "# Download audios\n",
        "for link in video_links:\n",
        "    print(f\"🎧 Downloading audio from: {link}...\")\n",
        "    download_audio(link, audio_path)\n",
        "\n",
        "print(\"✅ Audio download complete.\")\n",
        "\n",
        "# Transcribe audios\n",
        "with open(transcription_file, \"w\", encoding=\"utf-8\") as f:\n",
        "    for file in os.listdir(audio_path):\n",
        "        if file.endswith(\".mp3\"):\n",
        "            audio_file = os.path.join(audio_path, file)\n",
        "            print(f\"📝 Transcribing {file}...\")\n",
        "            transcription = transcribe_audio(audio_file)\n",
        "\n",
        "            if transcription:\n",
        "                f.write(f\"{file}:{transcription}\\n\\n\")\n",
        "            else:\n",
        "                print(f\"⚠️ Skipping {file}, no transcription generated.\")\n",
        "\n",
        "print(f\"✅ Transcriptions saved to {transcription_file}\")\n"
      ],
      "metadata": {
        "colab": {
          "base_uri": "https://localhost:8080/"
        },
        "id": "hXRfZi1tLcf2",
        "outputId": "447adfe6-0289-41a2-aff2-985c3c1d0fbc"
      },
      "execution_count": null,
      "outputs": [
        {
          "output_type": "stream",
          "name": "stderr",
          "text": [
            "/usr/local/lib/python3.11/dist-packages/whisper/__init__.py:150: FutureWarning: You are using `torch.load` with `weights_only=False` (the current default value), which uses the default pickle module implicitly. It is possible to construct malicious pickle data which will execute arbitrary code during unpickling (See https://github.com/pytorch/pytorch/blob/main/SECURITY.md#untrusted-models for more details). In a future release, the default value for `weights_only` will be flipped to `True`. This limits the functions that could be executed during unpickling. Arbitrary objects will no longer be allowed to be loaded via this mode unless they are explicitly allowlisted by the user via `torch.serialization.add_safe_globals`. We recommend you start setting `weights_only=True` for any use case where you don't have full control of the loaded file. Please open an issue on GitHub for any issues related to this experimental feature.\n",
            "  checkpoint = torch.load(fp, map_location=device)\n"
          ]
        },
        {
          "output_type": "stream",
          "name": "stdout",
          "text": [
            "🔍 Found 30 videos.\n",
            "🎧 Downloading audio from: https://www.youtube.com/watch?v=mQTQ4utlO90...\n",
            "🎧 Downloading audio from: https://www.youtube.com/watch?v=edFxXvLmrIA...\n",
            "🎧 Downloading audio from: https://www.youtube.com/shorts/gx0YYt66AGk...\n",
            "🎧 Downloading audio from: https://www.youtube.com/watch?v=c0EcglBJqx0...\n",
            "🎧 Downloading audio from: https://www.youtube.com/watch?v=ldz08vg5XB4...\n",
            "🎧 Downloading audio from: https://www.youtube.com/watch?v=OwS9aTE2Go4...\n",
            "🎧 Downloading audio from: https://www.youtube.com/watch?v=v95ihyDtx9c...\n",
            "🎧 Downloading audio from: https://www.youtube.com/watch?v=759bYwbai8w...\n",
            "🎧 Downloading audio from: https://www.youtube.com/watch?v=-EIAcuQNBUg...\n",
            "🎧 Downloading audio from: https://www.youtube.com/watch?v=r-Zyp6jX0HM...\n",
            "🎧 Downloading audio from: https://www.youtube.com/watch?v=dz-eUthnWTU...\n",
            "🎧 Downloading audio from: https://www.youtube.com/watch?v=LzKIizX0ewQ...\n",
            "🎧 Downloading audio from: https://www.youtube.com/watch?v=U19_QlvN-Sg...\n",
            "🎧 Downloading audio from: https://www.youtube.com/watch?v=seyhgMTjmbA...\n",
            "🎧 Downloading audio from: https://www.youtube.com/shorts/E2NWSp9vjQo...\n",
            "🎧 Downloading audio from: https://www.youtube.com/watch?v=VNKNjy3CoZ4...\n",
            "🎧 Downloading audio from: https://www.youtube.com/watch?v=zq9Mj5eMpBw...\n",
            "🎧 Downloading audio from: https://www.youtube.com/watch?v=Td1d5iMF3EQ...\n",
            "🎧 Downloading audio from: https://www.youtube.com/shorts/5-15J66Ibd8...\n",
            "🎧 Downloading audio from: https://www.youtube.com/shorts/9r56luIXYU4...\n",
            "🎧 Downloading audio from: https://www.youtube.com/watch?v=WHqxBlFuIXA...\n",
            "🎧 Downloading audio from: https://www.youtube.com/watch?v=8sMmG9vIJuU...\n",
            "🎧 Downloading audio from: https://www.youtube.com/watch?v=XNsoNWGJzsM...\n",
            "🎧 Downloading audio from: https://www.youtube.com/watch?v=-6fOK8J00pU...\n",
            "🎧 Downloading audio from: https://www.youtube.com/watch?v=1JZG9x_VOwA...\n",
            "🎧 Downloading audio from: https://www.youtube.com/shorts/r4iXRf6KCfE...\n",
            "🎧 Downloading audio from: https://www.youtube.com/shorts/G2n-ArGxbso...\n",
            "🎧 Downloading audio from: https://www.youtube.com/shorts/DSziu5Pjoao...\n",
            "🎧 Downloading audio from: https://www.youtube.com/watch?v=eoYfkYsv1YY...\n",
            "🎧 Downloading audio from: https://www.youtube.com/watch?v=0YoPpEIS3o4...\n",
            "✅ Audio download complete.\n",
            "📝 Transcribing 8 Coolest Tech CES 2025 Day 1.mp3...\n",
            "✅ Transcription completed for /content/drive/MyDrive/YouTube_Scraper1/audioelectronics/8 Coolest Tech CES 2025 Day 1.mp3\n",
            "📝 Transcribing Consumer Electronics Show presents latest products from tech companies.mp3...\n",
            "✅ Transcription completed for /content/drive/MyDrive/YouTube_Scraper1/audioelectronics/Consumer Electronics Show presents latest products from tech companies.mp3\n",
            "📝 Transcribing The book every electronics nerd should own #shorts.mp3...\n",
            "✅ Transcription completed for /content/drive/MyDrive/YouTube_Scraper1/audioelectronics/The book every electronics nerd should own #shorts.mp3\n",
            "📝 Transcribing iPhone 17 Pro Max - First Look!.mp3...\n",
            "✅ Transcription completed for /content/drive/MyDrive/YouTube_Scraper1/audioelectronics/iPhone 17 Pro Max - First Look!.mp3\n",
            "📝 Transcribing China bans exports to U.S. of some materials for electronics manufacturing.mp3...\n",
            "✅ Transcription completed for /content/drive/MyDrive/YouTube_Scraper1/audioelectronics/China bans exports to U.S. of some materials for electronics manufacturing.mp3\n",
            "📝 Transcribing Transistors - The Invention That Changed The World.mp3...\n",
            "✅ Transcription completed for /content/drive/MyDrive/YouTube_Scraper1/audioelectronics/Transistors - The Invention That Changed The World.mp3\n",
            "📝 Transcribing Latest tech at the Consumer Electronics Show.mp3...\n",
            "✅ Transcription completed for /content/drive/MyDrive/YouTube_Scraper1/audioelectronics/Latest tech at the Consumer Electronics Show.mp3\n",
            "📝 Transcribing 10 BANNED GADGETS YOU CAN STILL BUY ON AMAZON.mp3...\n",
            "✅ Transcription completed for /content/drive/MyDrive/YouTube_Scraper1/audioelectronics/10 BANNED GADGETS YOU CAN STILL BUY ON AMAZON.mp3\n",
            "📝 Transcribing Apple commits $500 billion to US manufacturing plans.mp3...\n",
            "✅ Transcription completed for /content/drive/MyDrive/YouTube_Scraper1/audioelectronics/Apple commits $500 billion to US manufacturing plans.mp3\n",
            "📝 Transcribing Are Chainless Digital Drive Bicycles The Future of Cycling？.mp3...\n",
            "✅ Transcription completed for /content/drive/MyDrive/YouTube_Scraper1/audioelectronics/Are Chainless Digital Drive Bicycles The Future of Cycling？.mp3\n",
            "📝 Transcribing 10 ILLEGAL GADGETS YOU CAN BUY!.mp3...\n",
            "✅ Transcription completed for /content/drive/MyDrive/YouTube_Scraper1/audioelectronics/10 ILLEGAL GADGETS YOU CAN BUY!.mp3\n",
            "📝 Transcribing 15 Coolest Gadgets for Men That Are Worth Buying.mp3...\n",
            "✅ Transcription completed for /content/drive/MyDrive/YouTube_Scraper1/audioelectronics/15 Coolest Gadgets for Men That Are Worth Buying.mp3\n",
            "📝 Transcribing Top 10 New Cool Gadgets In Telugu Available on Amazon ｜ Gadgets Under Rs,99 Rs,299 to Rs,500.mp3...\n",
            "✅ Transcription completed for /content/drive/MyDrive/YouTube_Scraper1/audioelectronics/Top 10 New Cool Gadgets In Telugu Available on Amazon ｜ Gadgets Under Rs,99 Rs,299 to Rs,500.mp3\n",
            "📝 Transcribing What's inside COOL TECH of CES 2023？.mp3...\n",
            "✅ Transcription completed for /content/drive/MyDrive/YouTube_Scraper1/audioelectronics/What's inside COOL TECH of CES 2023？.mp3\n",
            "📝 Transcribing Unboxing the Google Pixel Tablet 📦 #PixelTablet #Google #ASMR #shorts.mp3...\n",
            "✅ Transcription completed for /content/drive/MyDrive/YouTube_Scraper1/audioelectronics/Unboxing the Google Pixel Tablet 📦 #PixelTablet #Google #ASMR #shorts.mp3\n",
            "📝 Transcribing The Master Microfixer Teaching the World to Fix iPhones.mp3...\n",
            "✅ Transcription completed for /content/drive/MyDrive/YouTube_Scraper1/audioelectronics/The Master Microfixer Teaching the World to Fix iPhones.mp3\n",
            "📝 Transcribing Engineering the Impossible： The Future of Military Tech.mp3...\n",
            "✅ Transcription completed for /content/drive/MyDrive/YouTube_Scraper1/audioelectronics/Engineering the Impossible： The Future of Military Tech.mp3\n",
            "📝 Transcribing 15 Brilliant IoT Projects for Beginners!.mp3...\n",
            "✅ Transcription completed for /content/drive/MyDrive/YouTube_Scraper1/audioelectronics/15 Brilliant IoT Projects for Beginners!.mp3\n",
            "📝 Transcribing Apple AirPods Pro 2 HIDDEN FEATURE!.mp3...\n",
            "✅ Transcription completed for /content/drive/MyDrive/YouTube_Scraper1/audioelectronics/Apple AirPods Pro 2 HIDDEN FEATURE!.mp3\n",
            "📝 Transcribing before you buy ps5 controllers, check for this.mp3...\n",
            "✅ Transcription completed for /content/drive/MyDrive/YouTube_Scraper1/audioelectronics/before you buy ps5 controllers, check for this.mp3\n",
            "📝 Transcribing How a Traded-In Apple iPhone Gets Refurbished ｜ WSJ.mp3...\n",
            "✅ Transcription completed for /content/drive/MyDrive/YouTube_Scraper1/audioelectronics/How a Traded-In Apple iPhone Gets Refurbished ｜ WSJ.mp3\n",
            "📝 Transcribing Computing Fabrics.mp3...\n",
            "✅ Transcription completed for /content/drive/MyDrive/YouTube_Scraper1/audioelectronics/Computing Fabrics.mp3\n",
            "📝 Transcribing Cheapest Electronic items, Home Appliance & Cheapest Ac in Delhi ｜ Ac, Fridge, Smart led tv & Cooler.mp3...\n",
            "✅ Transcription completed for /content/drive/MyDrive/YouTube_Scraper1/audioelectronics/Cheapest Electronic items, Home Appliance & Cheapest Ac in Delhi ｜ Ac, Fridge, Smart led tv & Cooler.mp3\n",
            "📝 Transcribing Top 5 Latest DIY Electronics 2020.mp3...\n",
            "✅ Transcription completed for /content/drive/MyDrive/YouTube_Scraper1/audioelectronics/Top 5 Latest DIY Electronics 2020.mp3\n",
            "📝 Transcribing How does your mobile phone work？ ｜ ICT #1.mp3...\n",
            "✅ Transcription completed for /content/drive/MyDrive/YouTube_Scraper1/audioelectronics/How does your mobile phone work？ ｜ ICT #1.mp3\n",
            "📝 Transcribing Samsung Galaxy A33 Unboxing.mp3...\n",
            "✅ Transcription completed for /content/drive/MyDrive/YouTube_Scraper1/audioelectronics/Samsung Galaxy A33 Unboxing.mp3\n",
            "📝 Transcribing Samsung Galaxy A54 vs Galaxy S23 Charging Test🪫🔋.mp3...\n",
            "✅ Transcription completed for /content/drive/MyDrive/YouTube_Scraper1/audioelectronics/Samsung Galaxy A54 vs Galaxy S23 Charging Test🪫🔋.mp3\n",
            "📝 Transcribing Spider-Man Skin for PS5 Controller #game #gaming #shorts #spiderman #ps5 #spiderman2 #spiderman2ps5.mp3...\n",
            "✅ Transcription completed for /content/drive/MyDrive/YouTube_Scraper1/audioelectronics/Spider-Man Skin for PS5 Controller #game #gaming #shorts #spiderman #ps5 #spiderman2 #spiderman2ps5.mp3\n",
            "📝 Transcribing Introducing Intel Xeon 6 Processors for Leadership AI and Networking Solutions.mp3...\n",
            "✅ Transcription completed for /content/drive/MyDrive/YouTube_Scraper1/audioelectronics/Introducing Intel Xeon 6 Processors for Leadership AI and Networking Solutions.mp3\n",
            "📝 Transcribing 8 Super Useful Gadgets for Students!.mp3...\n",
            "✅ Transcription completed for /content/drive/MyDrive/YouTube_Scraper1/audioelectronics/8 Super Useful Gadgets for Students!.mp3\n",
            "✅ Transcriptions saved to /content/drive/MyDrive/YouTube_Scraper1/transcriptionselectronics.txt\n"
          ]
        }
      ]
    },
    {
      "cell_type": "code",
      "source": [
        "\n",
        "# Storage paths\n",
        "base_path = \"/content/drive/MyDrive/YouTube_Scraper1\"\n",
        "audio_path = os.path.join(base_path, \"audioelectronics2\")\n",
        "transcription_file = os.path.join(base_path, \"transcriptionselectronics.txt\")\n",
        "\n",
        "os.makedirs(audio_path, exist_ok=True)\n",
        "\n",
        "# Function to get video links (Shorts with speech, max 50 results)\n",
        "def get_audio_links(search_query, max_results=50):\n",
        "    search_url = f\"https://www.youtube.com/results?search_query={search_query.replace(' ', '+')}&sp=EgIoAQ%3D%3D\"\n",
        "    ydl_opts = {\"quiet\": True, \"extract_flat\": True, \"dump_single_json\": True}\n",
        "\n",
        "    with yt_dlp.YoutubeDL(ydl_opts) as ydl:\n",
        "        result = ydl.extract_info(search_url, download=False)\n",
        "        return [entry[\"url\"] for entry in result.get(\"entries\", []) if entry][:max_results]\n",
        "\n",
        "# Function to download audio only\n",
        "def download_audio(video_url, output_folder):\n",
        "    command = [\"yt-dlp\", \"-f\", \"bestaudio\", \"-x\", \"--audio-format\", \"mp3\", \"-o\", f\"{output_folder}/%(title)s.%(ext)s\", video_url]\n",
        "    subprocess.run(command, check=True)\n",
        "\n",
        "# Load Whisper model\n",
        "model = whisper.load_model(\"small\")\n",
        "\n",
        "def transcribe_audio(audio_file):\n",
        "    try:\n",
        "        result = model.transcribe(audio_file)\n",
        "        print(f\"✅ Transcription completed for {audio_file}\")\n",
        "        return result[\"text\"]\n",
        "    except Exception as e:\n",
        "        print(f\"⚠️ Error transcribing {audio_file}: {e}\")\n",
        "        return None\n",
        "\n",
        "# Run pipeline\n",
        "search_terms = [\"latest electronics\"]\n",
        "video_links = []\n",
        "\n",
        "for term in search_terms:\n",
        "    video_links.extend(get_audio_links(term, max_results=30))\n",
        "\n",
        "print(f\"🔍 Found {len(video_links)} videos.\")\n",
        "\n",
        "# Download audios\n",
        "for link in video_links:\n",
        "    print(f\"🎧 Downloading audio from: {link}...\")\n",
        "    download_audio(link, audio_path)\n",
        "\n",
        "print(\"✅ Audio download complete.\")\n",
        "\n",
        "# Transcribe audios\n",
        "with open(transcription_file, \"w\", encoding=\"utf-8\") as f:\n",
        "    for file in os.listdir(audio_path):\n",
        "        if file.endswith(\".mp3\"):\n",
        "            audio_file = os.path.join(audio_path, file)\n",
        "            print(f\"📝 Transcribing {file}...\")\n",
        "            transcription = transcribe_audio(audio_file)\n",
        "\n",
        "            if transcription:\n",
        "                f.write(f\"{file}:{transcription}\\n\\n\")\n",
        "            else:\n",
        "                print(f\"⚠️ Skipping {file}, no transcription generated.\")\n",
        "\n",
        "print(f\"✅ Transcriptions saved to {transcription_file}\")\n"
      ],
      "metadata": {
        "id": "03disju8s7Np"
      },
      "execution_count": null,
      "outputs": []
    },
    {
      "cell_type": "markdown",
      "source": [
        "**FASHION**"
      ],
      "metadata": {
        "id": "JB22QxloWIyz"
      }
    },
    {
      "cell_type": "code",
      "source": [
        "# Storage paths\n",
        "base_path = \"/content/drive/MyDrive/YouTube_Scraper1\"\n",
        "audio_path = os.path.join(base_path, \"audioelFASHION\")\n",
        "transcription_file = os.path.join(base_path, \"transcriptionsFASHION.txt\")\n",
        "\n",
        "os.makedirs(audio_path, exist_ok=True)\n",
        "\n",
        "# Function to get only English Shorts\n",
        "def get_audio_links(search_query, max_results=50):\n",
        "    search_url = f\"https://www.youtube.com/results?search_query={search_query.replace(' ', '+')}&sp=EgIoAQ%3D%3D\"  # Shorts filter\n",
        "    ydl_opts = {\"quiet\": True, \"extract_flat\": True, \"dump_single_json\": True}\n",
        "\n",
        "    with yt_dlp.YoutubeDL(ydl_opts) as ydl:\n",
        "        result = ydl.extract_info(search_url, download=False)\n",
        "\n",
        "        if not result or \"entries\" not in result:\n",
        "            return []\n",
        "\n",
        "        english_videos = []\n",
        "        for entry in result[\"entries\"]:\n",
        "            if entry and \"title\" in entry:\n",
        "                try:\n",
        "                    lang = detect(entry[\"title\"])\n",
        "                    if lang == \"en\":  # Keep only English videos\n",
        "                        english_videos.append(entry[\"url\"])\n",
        "                except:\n",
        "                    continue  # Skip if language detection fails\n",
        "\n",
        "            if len(english_videos) >= max_results:\n",
        "                break\n",
        "\n",
        "        return english_videos\n",
        "\n",
        "# Function to download audio only\n",
        "def download_audio(video_url, output_folder):\n",
        "    try:\n",
        "        command = [\"yt-dlp\", \"-f\", \"bestaudio\", \"-x\", \"--audio-format\", \"mp3\", \"-o\", f\"{output_folder}/%(title)s.%(ext)s\", video_url]\n",
        "        subprocess.run(command, check=True)\n",
        "    except subprocess.CalledProcessError as e:\n",
        "        print(f\"⚠️ Error downloading {video_url}: {e}\")\n",
        "\n",
        "# Load Whisper model\n",
        "model = whisper.load_model(\"small\")\n",
        "\n",
        "def transcribe_audio(audio_file):\n",
        "    try:\n",
        "        result = model.transcribe(audio_file, language=\"en\")\n",
        "        if \"text\" in result and result[\"text\"].strip():\n",
        "            print(f\"✅ Transcription completed for {audio_file}\")\n",
        "            return result[\"text\"]\n",
        "        else:\n",
        "            print(f\"⚠️ No speech detected in {audio_file}\")\n",
        "            return None\n",
        "    except Exception as e:\n",
        "        print(f\"⚠️ Error transcribing {audio_file}: {e}\")\n",
        "        return None\n",
        "\n",
        "# Run pipeline\n",
        "search_terms = [\"fashion\", \"style\", \"fashion blogger\"]\n",
        "video_links = []\n",
        "\n",
        "for term in search_terms:\n",
        "    video_links.extend(get_audio_links(term, max_results=30))\n",
        "\n",
        "print(f\"🔍 Found {len(video_links)} English Shorts.\")\n",
        "\n",
        "# Download audios\n",
        "for link in video_links:\n",
        "    print(f\"🎧 Downloading audio from: {link}...\")\n",
        "    download_audio(link, audio_path)\n",
        "\n",
        "print(\"✅ Audio download complete.\")\n",
        "\n",
        "# Transcribe audios\n",
        "with open(transcription_file, \"w\", encoding=\"utf-8\") as f:\n",
        "    for file in os.listdir(audio_path):\n",
        "        if file.endswith(\".mp3\"):\n",
        "            audio_file = os.path.join(audio_path, file)\n",
        "            print(f\"📝 Transcribing {file}...\")\n",
        "            transcription = transcribe_audio(audio_file)\n",
        "\n",
        "            if transcription:\n",
        "                f.write(f\"{file}:{transcription}\\n\\n\")\n",
        "            else:\n",
        "                print(f\"⚠️ Skipping {file}, no transcription generated.\")\n",
        "\n",
        "print(f\"✅ Transcriptions saved to {transcription_file}\")\n"
      ],
      "metadata": {
        "colab": {
          "base_uri": "https://localhost:8080/"
        },
        "id": "3Z9jP2YgV0Ri",
        "outputId": "ce61d49b-03aa-496a-a067-ca45b4276b17"
      },
      "execution_count": null,
      "outputs": [
        {
          "output_type": "stream",
          "name": "stderr",
          "text": [
            "100%|███████████████████████████████████████| 461M/461M [00:11<00:00, 43.8MiB/s]\n",
            "/usr/local/lib/python3.11/dist-packages/whisper/__init__.py:150: FutureWarning: You are using `torch.load` with `weights_only=False` (the current default value), which uses the default pickle module implicitly. It is possible to construct malicious pickle data which will execute arbitrary code during unpickling (See https://github.com/pytorch/pytorch/blob/main/SECURITY.md#untrusted-models for more details). In a future release, the default value for `weights_only` will be flipped to `True`. This limits the functions that could be executed during unpickling. Arbitrary objects will no longer be allowed to be loaded via this mode unless they are explicitly allowlisted by the user via `torch.serialization.add_safe_globals`. We recommend you start setting `weights_only=True` for any use case where you don't have full control of the loaded file. Please open an issue on GitHub for any issues related to this experimental feature.\n",
            "  checkpoint = torch.load(fp, map_location=device)\n"
          ]
        },
        {
          "output_type": "stream",
          "name": "stdout",
          "text": [
            "🔍 Found 90 English Shorts.\n",
            "🎧 Downloading audio from: https://www.youtube.com/watch?v=JPu7lndyFDs...\n",
            "🎧 Downloading audio from: https://www.youtube.com/watch?v=jcTPSgpQCP8...\n",
            "🎧 Downloading audio from: https://www.youtube.com/watch?v=YhOX4LGMASo...\n",
            "🎧 Downloading audio from: https://www.youtube.com/watch?v=8pIJBoC1e9s...\n",
            "🎧 Downloading audio from: https://www.youtube.com/watch?v=bqfGfbGlUpc...\n",
            "🎧 Downloading audio from: https://www.youtube.com/watch?v=weNiGc6kO5c...\n",
            "🎧 Downloading audio from: https://www.youtube.com/watch?v=vvKNCpRIabk...\n",
            "🎧 Downloading audio from: https://www.youtube.com/watch?v=QHOIiZtO70Y...\n",
            "🎧 Downloading audio from: https://www.youtube.com/watch?v=lmDsEF3sEQA...\n",
            "🎧 Downloading audio from: https://www.youtube.com/watch?v=zjGG3FHAIhQ...\n",
            "🎧 Downloading audio from: https://www.youtube.com/watch?v=MIloRXiBMQo...\n",
            "🎧 Downloading audio from: https://www.youtube.com/watch?v=LqU9CdPs6ek...\n",
            "🎧 Downloading audio from: https://www.youtube.com/watch?v=F-xECqToN84...\n",
            "🎧 Downloading audio from: https://www.youtube.com/watch?v=lWPhEDwdPEs...\n",
            "🎧 Downloading audio from: https://www.youtube.com/watch?v=DuQ7dJIYIhg...\n",
            "⚠️ Error downloading https://www.youtube.com/watch?v=DuQ7dJIYIhg: Command '['yt-dlp', '-f', 'bestaudio', '-x', '--audio-format', 'mp3', '-o', '/content/drive/MyDrive/YouTube_Scraper1/audioelFASHION/%(title)s.%(ext)s', 'https://www.youtube.com/watch?v=DuQ7dJIYIhg']' returned non-zero exit status 1.\n",
            "🎧 Downloading audio from: https://www.youtube.com/watch?v=H0knUm3rjNM...\n",
            "🎧 Downloading audio from: https://www.youtube.com/watch?v=JE4VdrKf40s...\n",
            "🎧 Downloading audio from: https://www.youtube.com/watch?v=a4SFcGd_jVQ...\n",
            "🎧 Downloading audio from: https://www.youtube.com/watch?v=U_TSdbk0A-Y...\n",
            "🎧 Downloading audio from: https://www.youtube.com/watch?v=0yNjUFEuW18...\n",
            "🎧 Downloading audio from: https://www.youtube.com/watch?v=0aqXAYoRqBg...\n",
            "🎧 Downloading audio from: https://www.youtube.com/watch?v=x1FBmEej604...\n",
            "🎧 Downloading audio from: https://www.youtube.com/watch?v=tLfNUD0-8ts...\n",
            "🎧 Downloading audio from: https://www.youtube.com/watch?v=Jh65uUdLCZM...\n",
            "🎧 Downloading audio from: https://www.youtube.com/watch?v=eBfM-7gDK8w...\n",
            "🎧 Downloading audio from: https://www.youtube.com/watch?v=CF_4f_cFbkQ...\n",
            "🎧 Downloading audio from: https://www.youtube.com/watch?v=L_03hWOOgXU...\n",
            "🎧 Downloading audio from: https://www.youtube.com/watch?v=eHBhHlFFdtY...\n",
            "🎧 Downloading audio from: https://www.youtube.com/watch?v=arefpf_2k8Y...\n",
            "🎧 Downloading audio from: https://www.youtube.com/watch?v=wY7L2jl7uDI...\n",
            "🎧 Downloading audio from: https://www.youtube.com/watch?v=-CmadmM5cOk...\n",
            "🎧 Downloading audio from: https://www.youtube.com/watch?v=4OL-Hv8K_7k...\n",
            "🎧 Downloading audio from: https://www.youtube.com/watch?v=uT_Ph0fRBCk...\n",
            "🎧 Downloading audio from: https://www.youtube.com/watch?v=IyYGM62LaOI...\n",
            "🎧 Downloading audio from: https://www.youtube.com/watch?v=djAo2o8BGOk...\n",
            "🎧 Downloading audio from: https://www.youtube.com/watch?v=V5J0_5zHGCc...\n",
            "🎧 Downloading audio from: https://www.youtube.com/watch?v=vSgnNA6CVqY...\n",
            "🎧 Downloading audio from: https://www.youtube.com/watch?v=Bpvdznf9y5I...\n",
            "🎧 Downloading audio from: https://www.youtube.com/watch?v=VVjcDT0pbhY...\n",
            "🎧 Downloading audio from: https://www.youtube.com/watch?v=Up-wTeO7mnY...\n",
            "🎧 Downloading audio from: https://www.youtube.com/watch?v=P3cffdsEXXw...\n",
            "🎧 Downloading audio from: https://www.youtube.com/watch?v=l_b86duruvs...\n",
            "🎧 Downloading audio from: https://www.youtube.com/watch?v=pXtBFiF_32k...\n",
            "🎧 Downloading audio from: https://www.youtube.com/watch?v=qN4ooNx77u0...\n",
            "🎧 Downloading audio from: https://www.youtube.com/watch?v=Jh65uUdLCZM...\n",
            "🎧 Downloading audio from: https://www.youtube.com/watch?v=mtai0UHkCmE...\n",
            "🎧 Downloading audio from: https://www.youtube.com/watch?v=jcTPSgpQCP8...\n",
            "🎧 Downloading audio from: https://www.youtube.com/watch?v=gnwoNdq3hGY...\n",
            "🎧 Downloading audio from: https://www.youtube.com/watch?v=eBBUhSgm2ls...\n",
            "🎧 Downloading audio from: https://www.youtube.com/watch?v=E07s5ZYygMg...\n",
            "⚠️ Error downloading https://www.youtube.com/watch?v=E07s5ZYygMg: Command '['yt-dlp', '-f', 'bestaudio', '-x', '--audio-format', 'mp3', '-o', '/content/drive/MyDrive/YouTube_Scraper1/audioelFASHION/%(title)s.%(ext)s', 'https://www.youtube.com/watch?v=E07s5ZYygMg']' returned non-zero exit status 1.\n",
            "🎧 Downloading audio from: https://www.youtube.com/watch?v=b4gsyRxMoRk...\n",
            "⚠️ Error downloading https://www.youtube.com/watch?v=b4gsyRxMoRk: Command '['yt-dlp', '-f', 'bestaudio', '-x', '--audio-format', 'mp3', '-o', '/content/drive/MyDrive/YouTube_Scraper1/audioelFASHION/%(title)s.%(ext)s', 'https://www.youtube.com/watch?v=b4gsyRxMoRk']' returned non-zero exit status 1.\n",
            "🎧 Downloading audio from: https://www.youtube.com/watch?v=JR9UdZLFhPQ...\n",
            "🎧 Downloading audio from: https://www.youtube.com/shorts/tnSTFIpo7GU...\n",
            "🎧 Downloading audio from: https://www.youtube.com/watch?v=H5v3kku4y6Q...\n",
            "🎧 Downloading audio from: https://www.youtube.com/watch?v=w5Fd8c0EUAA...\n",
            "🎧 Downloading audio from: https://www.youtube.com/shorts/yqv43VVYPM8...\n",
            "🎧 Downloading audio from: https://www.youtube.com/shorts/m6Ya2zF19KY...\n",
            "🎧 Downloading audio from: https://www.youtube.com/watch?v=DWmnbUo8dlA...\n",
            "🎧 Downloading audio from: https://www.youtube.com/watch?v=olGSAVOkkTI...\n",
            "🎧 Downloading audio from: https://www.youtube.com/watch?v=VF-r5TtlT9w...\n",
            "🎧 Downloading audio from: https://www.youtube.com/watch?v=LZQPBKz1KwM...\n",
            "🎧 Downloading audio from: https://www.youtube.com/watch?v=pXtBFiF_32k...\n",
            "🎧 Downloading audio from: https://www.youtube.com/watch?v=Om6KKDutkNs...\n",
            "🎧 Downloading audio from: https://www.youtube.com/watch?v=e-HZ2TIVULI...\n",
            "🎧 Downloading audio from: https://www.youtube.com/watch?v=6sWKQ5CTmB4...\n",
            "🎧 Downloading audio from: https://www.youtube.com/watch?v=0DCTRqga3_E...\n",
            "🎧 Downloading audio from: https://www.youtube.com/watch?v=pugXas5dNDc...\n",
            "🎧 Downloading audio from: https://www.youtube.com/watch?v=fsMc4bBUBMk...\n",
            "🎧 Downloading audio from: https://www.youtube.com/watch?v=M9llTDXEUSo...\n",
            "🎧 Downloading audio from: https://www.youtube.com/watch?v=acqiPOVaRP4...\n",
            "🎧 Downloading audio from: https://www.youtube.com/watch?v=8tAZ_OwK-Z0...\n",
            "🎧 Downloading audio from: https://www.youtube.com/watch?v=OO9BcpEuIqo...\n",
            "🎧 Downloading audio from: https://www.youtube.com/watch?v=9bfpv7fsq5M...\n",
            "🎧 Downloading audio from: https://www.youtube.com/watch?v=cIr6fV5njPY...\n",
            "🎧 Downloading audio from: https://www.youtube.com/watch?v=vKM3kx42HKw...\n",
            "🎧 Downloading audio from: https://www.youtube.com/watch?v=yxwP6IQUUxY...\n",
            "🎧 Downloading audio from: https://www.youtube.com/watch?v=KDyFXddtdmY...\n",
            "🎧 Downloading audio from: https://www.youtube.com/watch?v=5UKcmreLniI...\n",
            "🎧 Downloading audio from: https://www.youtube.com/watch?v=NVNLDQFci8c...\n",
            "🎧 Downloading audio from: https://www.youtube.com/watch?v=X-YENcHD34s...\n",
            "🎧 Downloading audio from: https://www.youtube.com/watch?v=BbrJHJ2hNFc...\n",
            "🎧 Downloading audio from: https://www.youtube.com/shorts/Jzt-mJQHrNI...\n",
            "🎧 Downloading audio from: https://www.youtube.com/watch?v=BD9AarmQctI...\n",
            "🎧 Downloading audio from: https://www.youtube.com/watch?v=t4IM8IIG0rw...\n",
            "🎧 Downloading audio from: https://www.youtube.com/watch?v=_m_TQbRZFRU...\n",
            "🎧 Downloading audio from: https://www.youtube.com/watch?v=AAHpdyLuRDU...\n",
            "🎧 Downloading audio from: https://www.youtube.com/watch?v=UsXkSI0kX0E...\n",
            "🎧 Downloading audio from: https://www.youtube.com/watch?v=8uqPvTKYhHE...\n",
            "🎧 Downloading audio from: https://www.youtube.com/watch?v=Rf8GPlfPG_M...\n",
            "🎧 Downloading audio from: https://www.youtube.com/shorts/SL7T379laLM...\n",
            "✅ Audio download complete.\n",
            "📝 Transcribing Colors in Leather Fashion ｜ New Biker Jacket.mp3...\n",
            "✅ Transcription completed for /content/drive/MyDrive/YouTube_Scraper1/audioelFASHION/Colors in Leather Fashion ｜ New Biker Jacket.mp3\n",
            "📝 Transcribing What Are People Wearing in New York？ (Fashion Trends 2025 NYC Street Style Ep.157).mp3...\n",
            "✅ Transcription completed for /content/drive/MyDrive/YouTube_Scraper1/audioelFASHION/What Are People Wearing in New York？ (Fashion Trends 2025 NYC Street Style Ep.157).mp3\n",
            "📝 Transcribing 15 Best ＊WEARABLE＊ Fashion Trends of 2025!.mp3...\n",
            "✅ Transcription completed for /content/drive/MyDrive/YouTube_Scraper1/audioelFASHION/15 Best ＊WEARABLE＊ Fashion Trends of 2025!.mp3\n",
            "📝 Transcribing Fashion Trends that will Dominate 2025.mp3...\n",
            "✅ Transcription completed for /content/drive/MyDrive/YouTube_Scraper1/audioelFASHION/Fashion Trends that will Dominate 2025.mp3\n",
            "📝 Transcribing BRILLIANT CLOTHES HACKS FOR SMART GIRLS ｜｜ Easy DIY Ideas by 123 GO!.mp3...\n",
            "✅ Transcription completed for /content/drive/MyDrive/YouTube_Scraper1/audioelFASHION/BRILLIANT CLOTHES HACKS FOR SMART GIRLS ｜｜ Easy DIY Ideas by 123 GO!.mp3\n",
            "📝 Transcribing Top 30 Spring 2025 Fashion Trends ｜ Celebrity Inspirations & Outfit Ideas.mp3...\n",
            "✅ Transcription completed for /content/drive/MyDrive/YouTube_Scraper1/audioelFASHION/Top 30 Spring 2025 Fashion Trends ｜ Celebrity Inspirations & Outfit Ideas.mp3\n",
            "📝 Transcribing The HOTTEST Shoe Trends of 2025!🔥.mp3...\n",
            "✅ Transcription completed for /content/drive/MyDrive/YouTube_Scraper1/audioelFASHION/The HOTTEST Shoe Trends of 2025!🔥.mp3\n",
            "📝 Transcribing Handmade dreams： Iowa fashion designer goes global.mp3...\n",
            "✅ Transcription completed for /content/drive/MyDrive/YouTube_Scraper1/audioelFASHION/Handmade dreams： Iowa fashion designer goes global.mp3\n",
            "📝 Transcribing MARCH 2025 ITALIAN STREET FASHION ｜ HOW TO LOOK ELEGANT LIKE ITALIANS ｜ NEWEST SPRING OUTFITS TRENDS.mp3...\n",
            "✅ Transcription completed for /content/drive/MyDrive/YouTube_Scraper1/audioelFASHION/MARCH 2025 ITALIAN STREET FASHION ｜ HOW TO LOOK ELEGANT LIKE ITALIANS ｜ NEWEST SPRING OUTFITS TRENDS.mp3\n",
            "📝 Transcribing Luxury Fashion Haul!!-- Sleeping with the Enemy ｜ Dark History with Bailey Sarian.mp3...\n",
            "✅ Transcription completed for /content/drive/MyDrive/YouTube_Scraper1/audioelFASHION/Luxury Fashion Haul!!-- Sleeping with the Enemy ｜ Dark History with Bailey Sarian.mp3\n",
            "📝 Transcribing Trendy vs Timeless Pt.2 (How to build a timeless wardrobe).mp3...\n",
            "✅ Transcription completed for /content/drive/MyDrive/YouTube_Scraper1/audioelFASHION/Trendy vs Timeless Pt.2 (How to build a timeless wardrobe).mp3\n",
            "📝 Transcribing I Wore $5 Clothes From Romwe For A Week.mp3...\n",
            "✅ Transcription completed for /content/drive/MyDrive/YouTube_Scraper1/audioelFASHION/I Wore $5 Clothes From Romwe For A Week.mp3\n",
            "📝 Transcribing Wearing $5 Clothes From Wish For A Week.mp3...\n",
            "✅ Transcription completed for /content/drive/MyDrive/YouTube_Scraper1/audioelFASHION/Wearing $5 Clothes From Wish For A Week.mp3\n",
            "📝 Transcribing I Bought the World's RAREST Fashion.mp3...\n",
            "✅ Transcription completed for /content/drive/MyDrive/YouTube_Scraper1/audioelFASHION/I Bought the World's RAREST Fashion.mp3\n",
            "📝 Transcribing Top 30 Fashion Trends 2025 ｜ Style Guide, Celebrity Inspirations & Outfit Ideas.mp3...\n",
            "✅ Transcription completed for /content/drive/MyDrive/YouTube_Scraper1/audioelFASHION/Top 30 Fashion Trends 2025 ｜ Style Guide, Celebrity Inspirations & Outfit Ideas.mp3\n",
            "📝 Transcribing Fashion Coward - SNL.mp3...\n",
            "✅ Transcription completed for /content/drive/MyDrive/YouTube_Scraper1/audioelFASHION/Fashion Coward - SNL.mp3\n",
            "📝 Transcribing London with Dior, Fashion Week Chaos Starts With Shopping Spree!.mp3...\n",
            "✅ Transcription completed for /content/drive/MyDrive/YouTube_Scraper1/audioelFASHION/London with Dior, Fashion Week Chaos Starts With Shopping Spree!.mp3\n",
            "📝 Transcribing What Are People Wearing in Tokyo？ (Fashion Trends 2025 Street Style Ep.153).mp3...\n",
            "✅ Transcription completed for /content/drive/MyDrive/YouTube_Scraper1/audioelFASHION/What Are People Wearing in Tokyo？ (Fashion Trends 2025 Street Style Ep.153).mp3\n",
            "📝 Transcribing The Extraordinary King of Luxury Fashion.mp3...\n",
            "✅ Transcription completed for /content/drive/MyDrive/YouTube_Scraper1/audioelFASHION/The Extraordinary King of Luxury Fashion.mp3\n",
            "📝 Transcribing 7 Ways to LOOK Expensive (on a BUDGET) ｜ 2025 Fashion.mp3...\n",
            "✅ Transcription completed for /content/drive/MyDrive/YouTube_Scraper1/audioelFASHION/7 Ways to LOOK Expensive (on a BUDGET) ｜ 2025 Fashion.mp3\n",
            "📝 Transcribing Top Men's Fashion Trends in London 2025 ｜ Street Styled.mp3...\n",
            "✅ Transcription completed for /content/drive/MyDrive/YouTube_Scraper1/audioelFASHION/Top Men's Fashion Trends in London 2025 ｜ Street Styled.mp3\n",
            "📝 Transcribing The true cost of fast fashion.mp3...\n",
            "✅ Transcription completed for /content/drive/MyDrive/YouTube_Scraper1/audioelFASHION/The true cost of fast fashion.mp3\n",
            "📝 Transcribing How To Make Your Outfits BETTER ｜ Elevate Your Style ✨️.mp3...\n",
            "✅ Transcription completed for /content/drive/MyDrive/YouTube_Scraper1/audioelFASHION/How To Make Your Outfits BETTER ｜ Elevate Your Style ✨️.mp3\n",
            "📝 Transcribing Top Men's Fashion Trends in London 2024 ｜ Street Styled.mp3...\n",
            "✅ Transcription completed for /content/drive/MyDrive/YouTube_Scraper1/audioelFASHION/Top Men's Fashion Trends in London 2024 ｜ Street Styled.mp3\n",
            "📝 Transcribing How to look extremely elegant & classy： 10 Effortless fashion tips for women 50, 60, 70.mp3...\n",
            "✅ Transcription completed for /content/drive/MyDrive/YouTube_Scraper1/audioelFASHION/How to look extremely elegant & classy： 10 Effortless fashion tips for women 50, 60, 70.mp3\n",
            "📝 Transcribing Women’s Fashion Campaign： The Iconic GO-14 and Capucines Bags ｜ LOUIS VUITTON.mp3...\n",
            "✅ Transcription completed for /content/drive/MyDrive/YouTube_Scraper1/audioelFASHION/Women’s Fashion Campaign： The Iconic GO-14 and Capucines Bags ｜ LOUIS VUITTON.mp3\n",
            "📝 Transcribing How To A Style Slip Skirt - 2025 Wearable Fashion Trends.mp3...\n",
            "✅ Transcription completed for /content/drive/MyDrive/YouTube_Scraper1/audioelFASHION/How To A Style Slip Skirt - 2025 Wearable Fashion Trends.mp3\n",
            "📝 Transcribing 7 Reasons Your ZARA Clothes Look Cheap.mp3...\n",
            "✅ Transcription completed for /content/drive/MyDrive/YouTube_Scraper1/audioelFASHION/7 Reasons Your ZARA Clothes Look Cheap.mp3\n",
            "📝 Transcribing Milan Street Style🇮🇹Italian Luxury Fashion：Elegant Classy Outfits #vogue #vanityfair.mp3...\n",
            "✅ Transcription completed for /content/drive/MyDrive/YouTube_Scraper1/audioelFASHION/Milan Street Style🇮🇹Italian Luxury Fashion：Elegant Classy Outfits #vogue #vanityfair.mp3\n",
            "📝 Transcribing Taylor Swift - Style.mp3...\n",
            "✅ Transcription completed for /content/drive/MyDrive/YouTube_Scraper1/audioelFASHION/Taylor Swift - Style.mp3\n",
            "📝 Transcribing [Remastered 4K] Style - Taylor Swift - 1989 World Tour 2015 - EAS Channel.mp3...\n",
            "✅ Transcription completed for /content/drive/MyDrive/YouTube_Scraper1/audioelFASHION/[Remastered 4K] Style - Taylor Swift - 1989 World Tour 2015 - EAS Channel.mp3\n",
            "📝 Transcribing [Remastered 4K] Style • The Victoria's Secret Fashion Show #VSFashionShow 2014 • EAS Channel.mp3...\n",
            "✅ Transcription completed for /content/drive/MyDrive/YouTube_Scraper1/audioelFASHION/[Remastered 4K] Style • The Victoria's Secret Fashion Show #VSFashionShow 2014 • EAS Channel.mp3\n",
            "📝 Transcribing STYLE - PIA Pounds X JOHN BLAQ (Official Video).mp3...\n",
            "✅ Transcription completed for /content/drive/MyDrive/YouTube_Scraper1/audioelFASHION/STYLE - PIA Pounds X JOHN BLAQ (Official Video).mp3\n",
            "📝 Transcribing A WW2-style attack aircraft？ In the 21st century？.mp3...\n",
            "✅ Transcription completed for /content/drive/MyDrive/YouTube_Scraper1/audioelFASHION/A WW2-style attack aircraft？ In the 21st century？.mp3\n",
            "📝 Transcribing AJ Styles and Andrew Schulz make fun of Logan Paul： Raw highlights, March 10, 2025.mp3...\n",
            "✅ Transcription completed for /content/drive/MyDrive/YouTube_Scraper1/audioelFASHION/AJ Styles and Andrew Schulz make fun of Logan Paul： Raw highlights, March 10, 2025.mp3\n",
            "📝 Transcribing 🏔☔️＊＊＂Dividing love in the style of nomads;  🍞⛈️How did Ashraf spread kindness？＂＊＊.mp3...\n",
            "✅ Transcription completed for /content/drive/MyDrive/YouTube_Scraper1/audioelFASHION/🏔☔️＊＊＂Dividing love in the style of nomads;  🍞⛈️How did Ashraf spread kindness？＂＊＊.mp3\n",
            "📝 Transcribing MaxMara 🇮🇹Street Style Milan Fashion Week 2025⧸2026： Best Elegant Fashionistas and Top Models #vogue.mp3...\n",
            "✅ Transcription completed for /content/drive/MyDrive/YouTube_Scraper1/audioelFASHION/MaxMara 🇮🇹Street Style Milan Fashion Week 2025⧸2026： Best Elegant Fashionistas and Top Models #vogue.mp3\n",
            "📝 Transcribing Taylor Swift - Style ( cover by J.Fla ).mp3...\n",
            "✅ Transcription completed for /content/drive/MyDrive/YouTube_Scraper1/audioelFASHION/Taylor Swift - Style ( cover by J.Fla ).mp3\n",
            "📝 Transcribing Every way to style an Angular component (but funny)😂.mp3...\n",
            "✅ Transcription completed for /content/drive/MyDrive/YouTube_Scraper1/audioelFASHION/Every way to style an Angular component (but funny)😂.mp3\n",
            "📝 Transcribing Harry Styles - Golden (Official Video).mp3...\n",
            "✅ Transcription completed for /content/drive/MyDrive/YouTube_Scraper1/audioelFASHION/Harry Styles - Golden (Official Video).mp3\n",
            "📝 Transcribing The anatomy of Taylor Swift’s “Style”.mp3...\n",
            "✅ Transcription completed for /content/drive/MyDrive/YouTube_Scraper1/audioelFASHION/The anatomy of Taylor Swift’s “Style”.mp3\n",
            "📝 Transcribing the death of personal style.mp3...\n",
            "✅ Transcription completed for /content/drive/MyDrive/YouTube_Scraper1/audioelFASHION/the death of personal style.mp3\n",
            "📝 Transcribing Harry Styles - Sign of the Times (Official Video).mp3...\n",
            "✅ Transcription completed for /content/drive/MyDrive/YouTube_Scraper1/audioelFASHION/Harry Styles - Sign of the Times (Official Video).mp3\n",
            "📝 Transcribing Why Does POPFLEX Keep Getting Ripped Off？ ｜ Style Theory.mp3...\n",
            "✅ Transcription completed for /content/drive/MyDrive/YouTube_Scraper1/audioelFASHION/Why Does POPFLEX Keep Getting Ripped Off？ ｜ Style Theory.mp3\n",
            "📝 Transcribing Mozart (B²TSM)  - 'Papa Wolfgang Style' Official MV.mp3...\n",
            "✅ Transcription completed for /content/drive/MyDrive/YouTube_Scraper1/audioelFASHION/Mozart (B²TSM)  - 'Papa Wolfgang Style' Official MV.mp3\n",
            "📝 Transcribing 'A new style of coup'： Historian reacts to Trump-Musk federal government takeover.mp3...\n",
            "✅ Transcription completed for /content/drive/MyDrive/YouTube_Scraper1/audioelFASHION/'A new style of coup'： Historian reacts to Trump-Musk federal government takeover.mp3\n",
            "📝 Transcribing 10 Old House Styles No Longer Built Today.mp3...\n",
            "✅ Transcription completed for /content/drive/MyDrive/YouTube_Scraper1/audioelFASHION/10 Old House Styles No Longer Built Today.mp3\n",
            "📝 Transcribing 😎 Street Style! Two Handsome Guys, One Mongol Robe! How Will We Survive？ #StreetStyle #StyleGoals.mp3...\n",
            "✅ Transcription completed for /content/drive/MyDrive/YouTube_Scraper1/audioelFASHION/😎 Street Style! Two Handsome Guys, One Mongol Robe! How Will We Survive？ #StreetStyle #StyleGoals.mp3\n",
            "📝 Transcribing Harry Styles - As It Was (Official Video).mp3...\n",
            "✅ Transcription completed for /content/drive/MyDrive/YouTube_Scraper1/audioelFASHION/Harry Styles - As It Was (Official Video).mp3\n",
            "📝 Transcribing How to Pick the Best Glasses for Your Face Shape ｜ Style Theory.mp3...\n",
            "✅ Transcription completed for /content/drive/MyDrive/YouTube_Scraper1/audioelFASHION/How to Pick the Best Glasses for Your Face Shape ｜ Style Theory.mp3\n",
            "📝 Transcribing History of Black ｜ Fashion History ｜ Styling Tips ｜ Over Fifty Fashion ｜ Carla Rockmore.mp3...\n",
            "✅ Transcription completed for /content/drive/MyDrive/YouTube_Scraper1/audioelFASHION/History of Black ｜ Fashion History ｜ Styling Tips ｜ Over Fifty Fashion ｜ Carla Rockmore.mp3\n",
            "📝 Transcribing Follow the Fashion Breadcrumbs ｜ Over-Fifty Fashion ｜ Fashion Advice ｜ Style Tips ｜ Carla Rockmore.mp3...\n",
            "✅ Transcription completed for /content/drive/MyDrive/YouTube_Scraper1/audioelFASHION/Follow the Fashion Breadcrumbs ｜ Over-Fifty Fashion ｜ Fashion Advice ｜ Style Tips ｜ Carla Rockmore.mp3\n",
            "📝 Transcribing Why Great Outfits Understand Layering.mp3...\n",
            "✅ Transcription completed for /content/drive/MyDrive/YouTube_Scraper1/audioelFASHION/Why Great Outfits Understand Layering.mp3\n",
            "📝 Transcribing Harry Styles - Falling (Official Video).mp3...\n",
            "✅ Transcription completed for /content/drive/MyDrive/YouTube_Scraper1/audioelFASHION/Harry Styles - Falling (Official Video).mp3\n",
            "📝 Transcribing Harry Styles - Adore You (Official Video).mp3...\n",
            "✅ Transcription completed for /content/drive/MyDrive/YouTube_Scraper1/audioelFASHION/Harry Styles - Adore You (Official Video).mp3\n",
            "📝 Transcribing RHYME SO - Fashion Blogger (Official Music Video).mp3...\n",
            "✅ Transcription completed for /content/drive/MyDrive/YouTube_Scraper1/audioelFASHION/RHYME SO - Fashion Blogger (Official Music Video).mp3\n",
            "📝 Transcribing Fashion blogger for a day. Guide for the perfect Instagram photo..mp3...\n",
            "✅ Transcription completed for /content/drive/MyDrive/YouTube_Scraper1/audioelFASHION/Fashion blogger for a day. Guide for the perfect Instagram photo..mp3\n",
            "📝 Transcribing A Day in the Life of Fashion Designer Thom Browne ｜ Vogue.mp3...\n",
            "✅ Transcription completed for /content/drive/MyDrive/YouTube_Scraper1/audioelFASHION/A Day in the Life of Fashion Designer Thom Browne ｜ Vogue.mp3\n",
            "📝 Transcribing How To Start A Men's Fashion Blog ｜ Fashion Blogging For Beginners.mp3...\n",
            "✅ Transcription completed for /content/drive/MyDrive/YouTube_Scraper1/audioelFASHION/How To Start A Men's Fashion Blog ｜ Fashion Blogging For Beginners.mp3\n",
            "📝 Transcribing 8 Ways To Dress Like a Fashion Blogger ＊look more STYLISH＊.mp3...\n",
            "✅ Transcription completed for /content/drive/MyDrive/YouTube_Scraper1/audioelFASHION/8 Ways To Dress Like a Fashion Blogger ＊look more STYLISH＊.mp3\n",
            "📝 Transcribing What Most ＂Fashion Influencers＂ Don't Tell You.mp3...\n",
            "✅ Transcription completed for /content/drive/MyDrive/YouTube_Scraper1/audioelFASHION/What Most ＂Fashion Influencers＂ Don't Tell You.mp3\n",
            "📝 Transcribing How To Start A Fashion And Clothing Blog ｜ Fashion Blogging 101.mp3...\n",
            "✅ Transcription completed for /content/drive/MyDrive/YouTube_Scraper1/audioelFASHION/How To Start A Fashion And Clothing Blog ｜ Fashion Blogging 101.mp3\n",
            "📝 Transcribing The Untold Story of Vega Thompson： United States model & Instergram star.mp3...\n",
            "✅ Transcription completed for /content/drive/MyDrive/YouTube_Scraper1/audioelFASHION/The Untold Story of Vega Thompson： United States model & Instergram star.mp3\n",
            "📝 Transcribing Everyday Essentials of NYC Fashion and Lifestyle Blogger Monroe Steele.mp3...\n",
            "✅ Transcription completed for /content/drive/MyDrive/YouTube_Scraper1/audioelFASHION/Everyday Essentials of NYC Fashion and Lifestyle Blogger Monroe Steele.mp3\n",
            "📝 Transcribing Interview with Fashion Blogger & Content Creator Chris Han  ｜ interview with influencers in LA.mp3...\n",
            "✅ Transcription completed for /content/drive/MyDrive/YouTube_Scraper1/audioelFASHION/Interview with Fashion Blogger & Content Creator Chris Han  ｜ interview with influencers in LA.mp3\n",
            "📝 Transcribing Messing with Fashion Blogger The Sartorialist.mp3...\n",
            "✅ Transcription completed for /content/drive/MyDrive/YouTube_Scraper1/audioelFASHION/Messing with Fashion Blogger The Sartorialist.mp3\n",
            "📝 Transcribing Daniela Ramirez – Bi-lingual Fashion Blogger ｜ JCPenney.mp3...\n",
            "✅ Transcription completed for /content/drive/MyDrive/YouTube_Scraper1/audioelFASHION/Daniela Ramirez – Bi-lingual Fashion Blogger ｜ JCPenney.mp3\n",
            "📝 Transcribing what is fashion ｜ fashion blogger ｜ fashion 2022 ｜ fashion youtubers ｜ fashion blog ｜ jeffyboi #madx.mp3...\n",
            "✅ Transcription completed for /content/drive/MyDrive/YouTube_Scraper1/audioelFASHION/what is fashion ｜ fashion blogger ｜ fashion 2022 ｜ fashion youtubers ｜ fashion blog ｜ jeffyboi #madx.mp3\n",
            "📝 Transcribing VLOG 16 - TEACHING KITE TO A FASHION BLOGGER - Antoine Auriol - 4K.mp3...\n",
            "✅ Transcription completed for /content/drive/MyDrive/YouTube_Scraper1/audioelFASHION/VLOG 16 - TEACHING KITE TO A FASHION BLOGGER - Antoine Auriol - 4K.mp3\n",
            "📝 Transcribing Seattle fashion blogger shares 4 tips for mastering the art of the Instagram photo - New Day NW.mp3...\n",
            "✅ Transcription completed for /content/drive/MyDrive/YouTube_Scraper1/audioelFASHION/Seattle fashion blogger shares 4 tips for mastering the art of the Instagram photo - New Day NW.mp3\n",
            "📝 Transcribing A Day in the Life of a Fashion Blogger.mp3...\n",
            "✅ Transcription completed for /content/drive/MyDrive/YouTube_Scraper1/audioelFASHION/A Day in the Life of a Fashion Blogger.mp3\n",
            "📝 Transcribing Fashion blogger Kelsey Kaplan shares her tips for looking stylish and feeling confident.mp3...\n",
            "✅ Transcription completed for /content/drive/MyDrive/YouTube_Scraper1/audioelFASHION/Fashion blogger Kelsey Kaplan shares her tips for looking stylish and feeling confident.mp3\n",
            "📝 Transcribing Little Fashion Blogger With Big Style ｜ BORN DIFFERENT.mp3...\n",
            "✅ Transcription completed for /content/drive/MyDrive/YouTube_Scraper1/audioelFASHION/Little Fashion Blogger With Big Style ｜ BORN DIFFERENT.mp3\n",
            "📝 Transcribing Triad fashion blogger shares how to build a capsule wardrobe.mp3...\n",
            "✅ Transcription completed for /content/drive/MyDrive/YouTube_Scraper1/audioelFASHION/Triad fashion blogger shares how to build a capsule wardrobe.mp3\n",
            "📝 Transcribing Houston fashion blogger shares 3 ways to style the comeback fanny pack ｜ HOUSTON LIFE ｜ KPRC 2.mp3...\n",
            "✅ Transcription completed for /content/drive/MyDrive/YouTube_Scraper1/audioelFASHION/Houston fashion blogger shares 3 ways to style the comeback fanny pack ｜ HOUSTON LIFE ｜ KPRC 2.mp3\n",
            "📝 Transcribing Work outfit for 2024 inspired by Andy Sachs ｜ #fashionblogger #outfitideas #fashion.mp3...\n",
            "✅ Transcription completed for /content/drive/MyDrive/YouTube_Scraper1/audioelFASHION/Work outfit for 2024 inspired by Andy Sachs ｜ #fashionblogger #outfitideas #fashion.mp3\n",
            "📝 Transcribing Women Instagram Like Fashion Bloggers For A Week.mp3...\n",
            "✅ Transcription completed for /content/drive/MyDrive/YouTube_Scraper1/audioelFASHION/Women Instagram Like Fashion Bloggers For A Week.mp3\n",
            "📝 Transcribing French Beauty Secrets from Fashion Blogger Julia Comil ｜ An Interview with Dr. Winnie.mp3...\n",
            "✅ Transcription completed for /content/drive/MyDrive/YouTube_Scraper1/audioelFASHION/French Beauty Secrets from Fashion Blogger Julia Comil ｜ An Interview with Dr. Winnie.mp3\n",
            "📝 Transcribing What Are People Wearing in New York？ (Fashion Trends 2025 NYC Street Style Ep.149).mp3...\n",
            "✅ Transcription completed for /content/drive/MyDrive/YouTube_Scraper1/audioelFASHION/What Are People Wearing in New York？ (Fashion Trends 2025 NYC Street Style Ep.149).mp3\n",
            "📝 Transcribing Dove ｜ Jessica’s story #MyBeautyMySay.mp3...\n",
            "✅ Transcription completed for /content/drive/MyDrive/YouTube_Scraper1/audioelFASHION/Dove ｜ Jessica’s story #MyBeautyMySay.mp3\n",
            "📝 Transcribing Milano, the capital of fashion, belezzaireland, stylist fashion,  blogger.mp3...\n",
            "✅ Transcription completed for /content/drive/MyDrive/YouTube_Scraper1/audioelFASHION/Milano, the capital of fashion, belezzaireland, stylist fashion,  blogger.mp3\n",
            "📝 Transcribing How to Start a Fashion Blog in 2025..mp3...\n",
            "✅ Transcription completed for /content/drive/MyDrive/YouTube_Scraper1/audioelFASHION/How to Start a Fashion Blog in 2025..mp3\n",
            "📝 Transcribing Triad fashion blogger says these are must-have pieces for your fall wardrobe.mp3...\n",
            "✅ Transcription completed for /content/drive/MyDrive/YouTube_Scraper1/audioelFASHION/Triad fashion blogger says these are must-have pieces for your fall wardrobe.mp3\n",
            "📝 Transcribing that's better？ 😏 #shorts #fashionblogger #shortsvideo #shortsfashion.mp3...\n",
            "✅ Transcription completed for /content/drive/MyDrive/YouTube_Scraper1/audioelFASHION/that's better？ 😏 #shorts #fashionblogger #shortsvideo #shortsfashion.mp3\n",
            "✅ Transcriptions saved to /content/drive/MyDrive/YouTube_Scraper1/transcriptionsFASHION.txt\n"
          ]
        }
      ]
    },
    {
      "cell_type": "markdown",
      "source": [
        "**RADIO**"
      ],
      "metadata": {
        "id": "m2tWr8JtoWId"
      }
    },
    {
      "cell_type": "markdown",
      "source": [],
      "metadata": {
        "id": "wqoytqgxtNs_"
      }
    },
    {
      "cell_type": "code",
      "source": [
        "import requests\n",
        "from bs4 import BeautifulSoup\n",
        "import os\n",
        "import time\n",
        "import whisper  # Whisper model for transcription\n",
        "\n",
        "# URL of the Internet Archive page\n",
        "URL = \"https://archive.org/details/RadioCommercialsShows\"\n",
        "\n",
        "# Create a folder to store downloads\n",
        "download_folder = \"/content/drive/MyDrive/radio_T\"  # Change this path if needed\n",
        "os.makedirs(download_folder, exist_ok=True)\n",
        "\n",
        "# Create a folder to store transcriptions\n",
        "transcription_folder = \"/content/drive/MyDrive/transcriptionsRadio\"\n",
        "os.makedirs(transcription_folder, exist_ok=True)\n",
        "\n",
        "# Fetch the webpage\n",
        "response = requests.get(URL)\n",
        "soup = BeautifulSoup(response.text, \"html.parser\")\n",
        "\n",
        "# Find all audio file links\n",
        "audio_links = []\n",
        "for link in soup.find_all(\"a\", href=True):\n",
        "    if link[\"href\"].endswith(\".mp3\") or link[\"href\"].endswith(\".ogg\"):\n",
        "        audio_links.append(\"https://archive.org\" + link[\"href\"])\n",
        "\n",
        "# Initialize the Whisper model (you can use different models like 'base', 'small', etc.)\n",
        "model = whisper.load_model(\"small\")\n",
        "\n",
        "# Function to download audio with retries\n",
        "def download_audio(url, file_name, retries=3):\n",
        "    for attempt in range(retries):\n",
        "        try:\n",
        "            audio_data = requests.get(url).content\n",
        "            with open(file_name, \"wb\") as f:\n",
        "                f.write(audio_data)\n",
        "            print(f\"✅ Downloaded: {file_name}\")\n",
        "            return\n",
        "        except requests.RequestException as e:\n",
        "            print(f\"⚠️ Error downloading {file_name}: {e}\")\n",
        "            if attempt < retries - 1:\n",
        "                print(\"Retrying...\")\n",
        "                time.sleep(2)\n",
        "            else:\n",
        "                print(f\"❌ Failed to download after {retries} attempts\")\n",
        "\n",
        "# Function to transcribe audio files\n",
        "def transcribe_audio(file_path):\n",
        "    try:\n",
        "        result = model.transcribe(file_path)\n",
        "        transcription = result['text']\n",
        "        print(f\"✅ Transcription completed for {file_path}\")\n",
        "        return transcription\n",
        "    except Exception as e:\n",
        "        print(f\"⚠️ Error transcribing {file_path}: {e}\")\n",
        "        return None\n",
        "\n",
        "# Download the first 50 radio ads as an example and transcribe them\n",
        "for i, audio_url in enumerate(audio_links[:50]):\n",
        "    file_name = os.path.join(download_folder, f\"radio_ad_{i+1}.mp3\" if \".mp3\" in audio_url else f\"radio_ad_{i+1}.ogg\")\n",
        "    download_audio(audio_url, file_name)\n",
        "\n",
        "    # Transcribe the downloaded audio\n",
        "    transcription = transcribe_audio(file_name)\n",
        "\n",
        "    if transcription:\n",
        "        # Save transcription to a file\n",
        "        transcription_file = os.path.join(transcription_folder, f\"radio_ad_{i+1}_transcription.txt\")\n",
        "        with open(transcription_file, \"w\", encoding=\"utf-8\") as f:\n",
        "            f.write(transcription)\n",
        "        print(f\"✅ Transcription saved: {transcription_file}\")\n",
        "\n",
        "print(\"✅ All downloads and transcriptions complete.\")\n"
      ],
      "metadata": {
        "colab": {
          "base_uri": "https://localhost:8080/"
        },
        "id": "4LPi50ujnUQn",
        "outputId": "4c9eabaf-62b8-4e44-e1ee-bb3627e81710"
      },
      "execution_count": null,
      "outputs": [
        {
          "output_type": "stream",
          "name": "stderr",
          "text": [
            "/usr/local/lib/python3.11/dist-packages/whisper/__init__.py:150: FutureWarning: You are using `torch.load` with `weights_only=False` (the current default value), which uses the default pickle module implicitly. It is possible to construct malicious pickle data which will execute arbitrary code during unpickling (See https://github.com/pytorch/pytorch/blob/main/SECURITY.md#untrusted-models for more details). In a future release, the default value for `weights_only` will be flipped to `True`. This limits the functions that could be executed during unpickling. Arbitrary objects will no longer be allowed to be loaded via this mode unless they are explicitly allowlisted by the user via `torch.serialization.add_safe_globals`. We recommend you start setting `weights_only=True` for any use case where you don't have full control of the loaded file. Please open an issue on GitHub for any issues related to this experimental feature.\n",
            "  checkpoint = torch.load(fp, map_location=device)\n"
          ]
        },
        {
          "output_type": "stream",
          "name": "stdout",
          "text": [
            "✅ Downloaded: /content/drive/MyDrive/radio_T/radio_ad_1.mp3\n",
            "✅ Transcription completed for /content/drive/MyDrive/radio_T/radio_ad_1.mp3\n",
            "✅ Transcription saved: /content/drive/MyDrive/transcriptionsRadio/radio_ad_1_transcription.txt\n",
            "✅ Downloaded: /content/drive/MyDrive/radio_T/radio_ad_2.mp3\n",
            "✅ Transcription completed for /content/drive/MyDrive/radio_T/radio_ad_2.mp3\n",
            "✅ Transcription saved: /content/drive/MyDrive/transcriptionsRadio/radio_ad_2_transcription.txt\n",
            "✅ Downloaded: /content/drive/MyDrive/radio_T/radio_ad_3.mp3\n",
            "✅ Transcription completed for /content/drive/MyDrive/radio_T/radio_ad_3.mp3\n",
            "✅ Transcription saved: /content/drive/MyDrive/transcriptionsRadio/radio_ad_3_transcription.txt\n",
            "✅ Downloaded: /content/drive/MyDrive/radio_T/radio_ad_4.mp3\n",
            "✅ Transcription completed for /content/drive/MyDrive/radio_T/radio_ad_4.mp3\n",
            "✅ Transcription saved: /content/drive/MyDrive/transcriptionsRadio/radio_ad_4_transcription.txt\n",
            "✅ Downloaded: /content/drive/MyDrive/radio_T/radio_ad_5.mp3\n",
            "✅ Transcription completed for /content/drive/MyDrive/radio_T/radio_ad_5.mp3\n",
            "✅ Transcription saved: /content/drive/MyDrive/transcriptionsRadio/radio_ad_5_transcription.txt\n",
            "✅ Downloaded: /content/drive/MyDrive/radio_T/radio_ad_6.mp3\n",
            "✅ Transcription completed for /content/drive/MyDrive/radio_T/radio_ad_6.mp3\n",
            "✅ Transcription saved: /content/drive/MyDrive/transcriptionsRadio/radio_ad_6_transcription.txt\n",
            "✅ Downloaded: /content/drive/MyDrive/radio_T/radio_ad_7.mp3\n",
            "✅ Transcription completed for /content/drive/MyDrive/radio_T/radio_ad_7.mp3\n",
            "✅ Transcription saved: /content/drive/MyDrive/transcriptionsRadio/radio_ad_7_transcription.txt\n",
            "✅ Downloaded: /content/drive/MyDrive/radio_T/radio_ad_8.mp3\n",
            "✅ Transcription completed for /content/drive/MyDrive/radio_T/radio_ad_8.mp3\n",
            "✅ Transcription saved: /content/drive/MyDrive/transcriptionsRadio/radio_ad_8_transcription.txt\n",
            "✅ Downloaded: /content/drive/MyDrive/radio_T/radio_ad_9.mp3\n",
            "✅ Transcription completed for /content/drive/MyDrive/radio_T/radio_ad_9.mp3\n",
            "✅ Transcription saved: /content/drive/MyDrive/transcriptionsRadio/radio_ad_9_transcription.txt\n",
            "✅ Downloaded: /content/drive/MyDrive/radio_T/radio_ad_10.mp3\n",
            "✅ Transcription completed for /content/drive/MyDrive/radio_T/radio_ad_10.mp3\n",
            "✅ Transcription saved: /content/drive/MyDrive/transcriptionsRadio/radio_ad_10_transcription.txt\n",
            "✅ Downloaded: /content/drive/MyDrive/radio_T/radio_ad_11.mp3\n",
            "✅ Transcription completed for /content/drive/MyDrive/radio_T/radio_ad_11.mp3\n",
            "✅ Transcription saved: /content/drive/MyDrive/transcriptionsRadio/radio_ad_11_transcription.txt\n",
            "✅ Downloaded: /content/drive/MyDrive/radio_T/radio_ad_12.mp3\n",
            "✅ Transcription completed for /content/drive/MyDrive/radio_T/radio_ad_12.mp3\n",
            "✅ Transcription saved: /content/drive/MyDrive/transcriptionsRadio/radio_ad_12_transcription.txt\n",
            "✅ Downloaded: /content/drive/MyDrive/radio_T/radio_ad_13.mp3\n",
            "✅ Transcription completed for /content/drive/MyDrive/radio_T/radio_ad_13.mp3\n",
            "✅ Transcription saved: /content/drive/MyDrive/transcriptionsRadio/radio_ad_13_transcription.txt\n",
            "✅ Downloaded: /content/drive/MyDrive/radio_T/radio_ad_14.mp3\n",
            "✅ Transcription completed for /content/drive/MyDrive/radio_T/radio_ad_14.mp3\n",
            "✅ Transcription saved: /content/drive/MyDrive/transcriptionsRadio/radio_ad_14_transcription.txt\n",
            "✅ Downloaded: /content/drive/MyDrive/radio_T/radio_ad_15.mp3\n",
            "✅ Transcription completed for /content/drive/MyDrive/radio_T/radio_ad_15.mp3\n",
            "✅ Transcription saved: /content/drive/MyDrive/transcriptionsRadio/radio_ad_15_transcription.txt\n",
            "✅ Downloaded: /content/drive/MyDrive/radio_T/radio_ad_16.mp3\n",
            "✅ Transcription completed for /content/drive/MyDrive/radio_T/radio_ad_16.mp3\n",
            "✅ Transcription saved: /content/drive/MyDrive/transcriptionsRadio/radio_ad_16_transcription.txt\n",
            "✅ Downloaded: /content/drive/MyDrive/radio_T/radio_ad_17.mp3\n",
            "✅ Transcription completed for /content/drive/MyDrive/radio_T/radio_ad_17.mp3\n",
            "✅ Transcription saved: /content/drive/MyDrive/transcriptionsRadio/radio_ad_17_transcription.txt\n",
            "✅ Downloaded: /content/drive/MyDrive/radio_T/radio_ad_18.mp3\n",
            "✅ Transcription completed for /content/drive/MyDrive/radio_T/radio_ad_18.mp3\n",
            "✅ Transcription saved: /content/drive/MyDrive/transcriptionsRadio/radio_ad_18_transcription.txt\n",
            "✅ Downloaded: /content/drive/MyDrive/radio_T/radio_ad_19.mp3\n",
            "✅ Transcription completed for /content/drive/MyDrive/radio_T/radio_ad_19.mp3\n",
            "✅ Transcription saved: /content/drive/MyDrive/transcriptionsRadio/radio_ad_19_transcription.txt\n",
            "✅ Downloaded: /content/drive/MyDrive/radio_T/radio_ad_20.mp3\n",
            "✅ Transcription completed for /content/drive/MyDrive/radio_T/radio_ad_20.mp3\n",
            "✅ Transcription saved: /content/drive/MyDrive/transcriptionsRadio/radio_ad_20_transcription.txt\n",
            "✅ Downloaded: /content/drive/MyDrive/radio_T/radio_ad_21.mp3\n",
            "✅ Transcription completed for /content/drive/MyDrive/radio_T/radio_ad_21.mp3\n",
            "✅ Transcription saved: /content/drive/MyDrive/transcriptionsRadio/radio_ad_21_transcription.txt\n",
            "✅ Downloaded: /content/drive/MyDrive/radio_T/radio_ad_22.mp3\n",
            "✅ Transcription completed for /content/drive/MyDrive/radio_T/radio_ad_22.mp3\n",
            "✅ Transcription saved: /content/drive/MyDrive/transcriptionsRadio/radio_ad_22_transcription.txt\n",
            "✅ Downloaded: /content/drive/MyDrive/radio_T/radio_ad_23.mp3\n",
            "✅ Transcription completed for /content/drive/MyDrive/radio_T/radio_ad_23.mp3\n",
            "✅ Transcription saved: /content/drive/MyDrive/transcriptionsRadio/radio_ad_23_transcription.txt\n",
            "✅ Downloaded: /content/drive/MyDrive/radio_T/radio_ad_24.mp3\n",
            "✅ Transcription completed for /content/drive/MyDrive/radio_T/radio_ad_24.mp3\n",
            "✅ Transcription saved: /content/drive/MyDrive/transcriptionsRadio/radio_ad_24_transcription.txt\n",
            "✅ Downloaded: /content/drive/MyDrive/radio_T/radio_ad_25.mp3\n",
            "✅ Transcription completed for /content/drive/MyDrive/radio_T/radio_ad_25.mp3\n",
            "✅ Transcription saved: /content/drive/MyDrive/transcriptionsRadio/radio_ad_25_transcription.txt\n",
            "✅ Downloaded: /content/drive/MyDrive/radio_T/radio_ad_26.mp3\n",
            "✅ Transcription completed for /content/drive/MyDrive/radio_T/radio_ad_26.mp3\n",
            "✅ Transcription saved: /content/drive/MyDrive/transcriptionsRadio/radio_ad_26_transcription.txt\n",
            "✅ Downloaded: /content/drive/MyDrive/radio_T/radio_ad_27.mp3\n",
            "✅ Transcription completed for /content/drive/MyDrive/radio_T/radio_ad_27.mp3\n",
            "✅ Transcription saved: /content/drive/MyDrive/transcriptionsRadio/radio_ad_27_transcription.txt\n",
            "✅ Downloaded: /content/drive/MyDrive/radio_T/radio_ad_28.mp3\n",
            "✅ Transcription completed for /content/drive/MyDrive/radio_T/radio_ad_28.mp3\n",
            "✅ Transcription saved: /content/drive/MyDrive/transcriptionsRadio/radio_ad_28_transcription.txt\n",
            "✅ Downloaded: /content/drive/MyDrive/radio_T/radio_ad_29.mp3\n",
            "✅ Transcription completed for /content/drive/MyDrive/radio_T/radio_ad_29.mp3\n",
            "✅ Transcription saved: /content/drive/MyDrive/transcriptionsRadio/radio_ad_29_transcription.txt\n",
            "✅ Downloaded: /content/drive/MyDrive/radio_T/radio_ad_30.mp3\n",
            "✅ Transcription completed for /content/drive/MyDrive/radio_T/radio_ad_30.mp3\n",
            "✅ Transcription saved: /content/drive/MyDrive/transcriptionsRadio/radio_ad_30_transcription.txt\n",
            "✅ Downloaded: /content/drive/MyDrive/radio_T/radio_ad_31.mp3\n",
            "✅ Transcription completed for /content/drive/MyDrive/radio_T/radio_ad_31.mp3\n",
            "✅ Transcription saved: /content/drive/MyDrive/transcriptionsRadio/radio_ad_31_transcription.txt\n",
            "✅ Downloaded: /content/drive/MyDrive/radio_T/radio_ad_32.mp3\n",
            "✅ Transcription completed for /content/drive/MyDrive/radio_T/radio_ad_32.mp3\n",
            "✅ Transcription saved: /content/drive/MyDrive/transcriptionsRadio/radio_ad_32_transcription.txt\n",
            "✅ Downloaded: /content/drive/MyDrive/radio_T/radio_ad_33.mp3\n",
            "✅ Transcription completed for /content/drive/MyDrive/radio_T/radio_ad_33.mp3\n",
            "✅ Transcription saved: /content/drive/MyDrive/transcriptionsRadio/radio_ad_33_transcription.txt\n",
            "✅ Downloaded: /content/drive/MyDrive/radio_T/radio_ad_34.mp3\n",
            "✅ Transcription completed for /content/drive/MyDrive/radio_T/radio_ad_34.mp3\n",
            "✅ Transcription saved: /content/drive/MyDrive/transcriptionsRadio/radio_ad_34_transcription.txt\n",
            "✅ Downloaded: /content/drive/MyDrive/radio_T/radio_ad_35.mp3\n",
            "✅ Transcription completed for /content/drive/MyDrive/radio_T/radio_ad_35.mp3\n",
            "✅ Transcription saved: /content/drive/MyDrive/transcriptionsRadio/radio_ad_35_transcription.txt\n",
            "✅ Downloaded: /content/drive/MyDrive/radio_T/radio_ad_36.mp3\n",
            "✅ Transcription completed for /content/drive/MyDrive/radio_T/radio_ad_36.mp3\n",
            "✅ Transcription saved: /content/drive/MyDrive/transcriptionsRadio/radio_ad_36_transcription.txt\n",
            "✅ Downloaded: /content/drive/MyDrive/radio_T/radio_ad_37.mp3\n",
            "✅ Transcription completed for /content/drive/MyDrive/radio_T/radio_ad_37.mp3\n",
            "✅ Transcription saved: /content/drive/MyDrive/transcriptionsRadio/radio_ad_37_transcription.txt\n",
            "✅ Downloaded: /content/drive/MyDrive/radio_T/radio_ad_38.mp3\n",
            "✅ Transcription completed for /content/drive/MyDrive/radio_T/radio_ad_38.mp3\n",
            "✅ Transcription saved: /content/drive/MyDrive/transcriptionsRadio/radio_ad_38_transcription.txt\n",
            "✅ Downloaded: /content/drive/MyDrive/radio_T/radio_ad_39.mp3\n",
            "✅ Transcription completed for /content/drive/MyDrive/radio_T/radio_ad_39.mp3\n",
            "✅ Transcription saved: /content/drive/MyDrive/transcriptionsRadio/radio_ad_39_transcription.txt\n",
            "✅ Downloaded: /content/drive/MyDrive/radio_T/radio_ad_40.mp3\n",
            "✅ Transcription completed for /content/drive/MyDrive/radio_T/radio_ad_40.mp3\n",
            "✅ Transcription saved: /content/drive/MyDrive/transcriptionsRadio/radio_ad_40_transcription.txt\n",
            "✅ Downloaded: /content/drive/MyDrive/radio_T/radio_ad_41.mp3\n",
            "✅ Transcription completed for /content/drive/MyDrive/radio_T/radio_ad_41.mp3\n",
            "✅ Transcription saved: /content/drive/MyDrive/transcriptionsRadio/radio_ad_41_transcription.txt\n",
            "✅ Downloaded: /content/drive/MyDrive/radio_T/radio_ad_42.mp3\n",
            "✅ Transcription completed for /content/drive/MyDrive/radio_T/radio_ad_42.mp3\n",
            "✅ Transcription saved: /content/drive/MyDrive/transcriptionsRadio/radio_ad_42_transcription.txt\n",
            "✅ Downloaded: /content/drive/MyDrive/radio_T/radio_ad_43.mp3\n",
            "✅ Transcription completed for /content/drive/MyDrive/radio_T/radio_ad_43.mp3\n",
            "✅ Transcription saved: /content/drive/MyDrive/transcriptionsRadio/radio_ad_43_transcription.txt\n",
            "✅ Downloaded: /content/drive/MyDrive/radio_T/radio_ad_44.mp3\n",
            "✅ Transcription completed for /content/drive/MyDrive/radio_T/radio_ad_44.mp3\n",
            "✅ Transcription saved: /content/drive/MyDrive/transcriptionsRadio/radio_ad_44_transcription.txt\n",
            "✅ Downloaded: /content/drive/MyDrive/radio_T/radio_ad_45.mp3\n",
            "✅ Transcription completed for /content/drive/MyDrive/radio_T/radio_ad_45.mp3\n",
            "✅ Transcription saved: /content/drive/MyDrive/transcriptionsRadio/radio_ad_45_transcription.txt\n",
            "✅ Downloaded: /content/drive/MyDrive/radio_T/radio_ad_46.mp3\n",
            "✅ Transcription completed for /content/drive/MyDrive/radio_T/radio_ad_46.mp3\n",
            "✅ Transcription saved: /content/drive/MyDrive/transcriptionsRadio/radio_ad_46_transcription.txt\n",
            "✅ Downloaded: /content/drive/MyDrive/radio_T/radio_ad_47.mp3\n",
            "✅ Transcription completed for /content/drive/MyDrive/radio_T/radio_ad_47.mp3\n",
            "✅ Transcription saved: /content/drive/MyDrive/transcriptionsRadio/radio_ad_47_transcription.txt\n",
            "✅ Downloaded: /content/drive/MyDrive/radio_T/radio_ad_48.mp3\n",
            "✅ Transcription completed for /content/drive/MyDrive/radio_T/radio_ad_48.mp3\n",
            "✅ Transcription saved: /content/drive/MyDrive/transcriptionsRadio/radio_ad_48_transcription.txt\n",
            "✅ Downloaded: /content/drive/MyDrive/radio_T/radio_ad_49.mp3\n",
            "✅ Transcription completed for /content/drive/MyDrive/radio_T/radio_ad_49.mp3\n",
            "✅ Transcription saved: /content/drive/MyDrive/transcriptionsRadio/radio_ad_49_transcription.txt\n",
            "✅ Downloaded: /content/drive/MyDrive/radio_T/radio_ad_50.mp3\n",
            "✅ Transcription completed for /content/drive/MyDrive/radio_T/radio_ad_50.mp3\n",
            "✅ Transcription saved: /content/drive/MyDrive/transcriptionsRadio/radio_ad_50_transcription.txt\n",
            "✅ All downloads and transcriptions complete.\n"
          ]
        }
      ]
    },
    {
      "cell_type": "code",
      "source": [
        "# Count the number of audio files in the 'audio' folder\n",
        "!ls /content/drive/MyDrive/YouTube_Scraper1/audio | grep -E \"\\.(mp3|ogg)$\" | wc -l\n",
        "\n",
        "# Count the number of audio files in the 'audiofashion' folder\n",
        "!ls /content/drive/MyDrive/YouTube_Scraper1/audioelFASHION | grep -E \"\\.(mp3|ogg)$\" | wc -l\n",
        "\n",
        "# Count the number of audio files in the 'audioelectronics' folder\n",
        "!ls /content/drive/MyDrive/YouTube_Scraper1/audioelectronics | grep -E \"\\.(mp3|ogg)$\" | wc -l\n",
        "\n",
        "# Count the number of audio files in the 'Slogans_Audio' folder\n",
        "!ls /content/drive/MyDrive/Slogans_Audio | grep -E \"\\.(mp3|ogg)$\" | wc -l\n",
        "\n",
        "# Count the number of audio files in the 'radio_T' folder\n",
        "!ls /content/drive/MyDrive/radio_T | grep -E \"\\.(mp3|ogg)$\" | wc -l\n",
        "\n",
        "!ls /content/drive/MyDrive/YouTube_Scraper1/audiotech | grep -E \"\\.(mp3|ogg)$\" | wc -l\n"
      ],
      "metadata": {
        "colab": {
          "base_uri": "https://localhost:8080/"
        },
        "id": "qD01SGxcpPM_",
        "outputId": "c48387d7-61f4-40f0-eb57-c140a1775d71"
      },
      "execution_count": null,
      "outputs": [
        {
          "output_type": "stream",
          "name": "stdout",
          "text": [
            "23\n",
            "84\n",
            "30\n",
            "246\n",
            "50\n",
            "101\n"
          ]
        }
      ]
    },
    {
      "cell_type": "markdown",
      "source": [
        "**generating slogans**"
      ],
      "metadata": {
        "id": "HRpS0gPSqLdE"
      }
    },
    {
      "cell_type": "code",
      "source": [
        "from gtts import gTTS\n",
        "import os\n",
        "from google.colab import drive\n",
        "\n",
        "\n",
        "\n",
        "# Directory where audio files will be saved in Google Drive\n",
        "save_directory = \"/content/drive/MyDrive/Slogans_Audio\"\n",
        "os.makedirs(save_directory, exist_ok=True)\n",
        "\n",
        "# List of slogans\n",
        "slogans = [\n",
        "    \"The best choice for your future.\",\n",
        "    \"Innovation leads to success.\",\n",
        "    \"Quality matters most.\",\n",
        "    \"Together, we achieve more.\",\n",
        "    \"Every moment counts.\",\n",
        "    \"Changing the world, one step at a time.\",\n",
        "    \"Your dream, our mission.\",\n",
        "    \"Empowering your tomorrow.\",\n",
        "    \"Driven by excellence.\",\n",
        "    \"Crafting experiences, creating memories.\",\n",
        "    \"Bringing ideas to life.\",\n",
        "    \"Creating the future today.\",\n",
        "    \"Success starts here.\",\n",
        "    \"Redefining possibilities.\",\n",
        "    \"Beyond innovation.\",\n",
        "    \"Turning visions into reality.\",\n",
        "    \"Strength in simplicity.\",\n",
        "    \"Where your success begins.\",\n",
        "    \"Creating connections that matter.\",\n",
        "    \"Your journey, our purpose.\",\n",
        "    \"Excellence in everything we do.\",\n",
        "    \"Building better futures.\",\n",
        "    \"Raising standards, exceeding expectations.\",\n",
        "    \"Your potential, unleashed.\",\n",
        "    \"Succeed with us.\",\n",
        "    \"Revolutionizing industries.\",\n",
        "    \"Shaping tomorrow’s leaders.\",\n",
        "    \"For a smarter future.\",\n",
        "    \"Where creativity meets success.\",\n",
        "    \"A world of possibilities.\",\n",
        "    \"Designed for your success.\",\n",
        "    \"Innovative solutions, lasting impact.\",\n",
        "    \"Building bridges to success.\",\n",
        "    \"Together, we rise.\",\n",
        "    \"Creating lasting value.\",\n",
        "    \"Future-proof your business.\",\n",
        "    \"The future of innovation.\",\n",
        "    \"Your path to success.\",\n",
        "    \"Crafting a better tomorrow.\",\n",
        "    \"Driving change, inspiring growth.\",\n",
        "    \"Solutions that work.\",\n",
        "    \"Your success is our business.\",\n",
        "    \"A partnership for progress.\",\n",
        "    \"Unlocking new opportunities.\",\n",
        "    \"Innovate, create, inspire.\",\n",
        "    \"Efficiency at its best.\",\n",
        "    \"Transforming challenges into opportunities.\",\n",
        "    \"Exceeding expectations every time.\",\n",
        "    \"Where great ideas flourish.\",\n",
        "    \"Unleashing potential worldwide.\",\n",
        "    \"We bring your ideas to life.\",\n",
        "    \"Leading with passion.\",\n",
        "    \"Commitment to excellence.\",\n",
        "    \"Experience the difference.\",\n",
        "    \"Innovate your future.\",\n",
        "    \"Your success is our priority.\",\n",
        "    \"Together, we innovate.\",\n",
        "    \"Innovative ideas, meaningful results.\",\n",
        "    \"Creating success stories.\",\n",
        "    \"A better world through innovation.\",\n",
        "    \"Shaping the future, today.\",\n",
        "    \"Where innovation never stops.\",\n",
        "    \"Solutions for tomorrow’s challenges.\",\n",
        "    \"Inspiring success at every turn.\",\n",
        "    \"Your future, our vision.\",\n",
        "    \"Driving growth, building success.\",\n",
        "    \"Leading with integrity.\",\n",
        "    \"Creating a better future together.\",\n",
        "    \"Innovating for a brighter tomorrow.\",\n",
        "    \"Designing success.\",\n",
        "    \"Empowering possibilities.\",\n",
        "    \"Where success begins.\",\n",
        "    \"Your success, our commitment.\",\n",
        "    \"Turning challenges into opportunities.\",\n",
        "    \"Transforming industries with innovation.\",\n",
        "    \"Achieving more, together.\",\n",
        "    \"Solutions that inspire.\",\n",
        "    \"Future-focused, innovation-driven.\",\n",
        "    \"Taking your business to new heights.\",\n",
        "    \"Achieving excellence, together.\",\n",
        "    \"Your success is our mission.\",\n",
        "    \"Creating growth, driving change.\",\n",
        "    \"Transforming the future with technology.\",\n",
        "    \"Innovating for your success.\",\n",
        "    \"Success through innovation.\",\n",
        "    \"Where passion meets progress.\",\n",
        "    \"The power of possibility.\",\n",
        "    \"We make things happen.\",\n",
        "    \"Solutions designed for you.\",\n",
        "    \"Where dreams become reality.\",\n",
        "    \"Driving innovation for a better world.\",\n",
        "    \"Unlocking tomorrow’s opportunities today.\",\n",
        "    \"Leading through innovation.\",\n",
        "    \"Bringing ideas to life, one step at a time.\",\n",
        "    \"Inspiring greatness in all we do.\",\n",
        "    \"Together, we make a difference.\",\n",
        "    \"Innovative solutions for a changing world.\",\n",
        "    \"Success made simple.\",\n",
        "    \"Shaping success, together.\",\n",
        "    \"Success starts with us.\",\n",
        "    \"Creating the future of business.\",\n",
        "    \"Driving success, delivering results.\",\n",
        "    \"Achieving more, together.\",\n",
        "    \"Future-focused solutions.\",\n",
        "    \"Your partner in progress.\",\n",
        "    \"Redefining the future of business.\",\n",
        "    \"Innovation begins with us.\",\n",
        "    \"Achieving excellence together.\",\n",
        "    \"Empowering businesses to thrive.\",\n",
        "    \"Innovate, inspire, succeed.\",\n",
        "    \"Shaping the future of success.\",\n",
        "    \"Together, we innovate and grow.\",\n",
        "    \"Innovative solutions for a better tomorrow.\",\n",
        "    \"Success begins with collaboration.\",\n",
        "    \"Empowering your business with innovation.\",\n",
        "    \"Shaping success, one idea at a time.\",\n",
        "    \"Driven by passion, guided by purpose.\",\n",
        "    \"The future is now.\",\n",
        "    \"Empowering ideas to grow.\",\n",
        "    \"Redefining what's possible.\",\n",
        "    \"Innovation that moves you forward.\",\n",
        "    \"Leading innovation, driving results.\",\n",
        "    \"Your success, our strategy.\",\n",
        "    \"Bringing your vision to life.\",\n",
        "    \"Creating a smarter future.\",\n",
        "    \"Success through collaboration.\",\n",
        "    \"Innovating the future together.\",\n",
        "    \"Where passion leads to success.\",\n",
        "    \"Turning ideas into reality.\",\n",
        "    \"Building success with every step.\",\n",
        "    \"Innovation for a changing world.\",\n",
        "    \"Creating opportunities for growth.\",\n",
        "    \"Driven by success.\",\n",
        "    \"Future-ready, innovation-driven.\",\n",
        "    \"Where vision meets action.\",\n",
        "    \"Leading through innovation.\",\n",
        "    \"Innovation at its best.\",\n",
        "    \"Your growth, our mission.\",\n",
        "    \"Success, powered by innovation.\",\n",
        "    \"Making success happen.\",\n",
        "    \"Creating solutions that work.\",\n",
        "    \"Success is in our DNA.\",\n",
        "    \"Shaping a better future for all.\",\n",
        "    \"The path to success starts here.\",\n",
        "    \"Innovation that drives success.\",\n",
        "    \"Together, we create solutions.\",\n",
        "    \"Tomorrow’s solutions, today.\",\n",
        "    \"Leading the way in innovation.\",\n",
        "    \"Together, we drive progress.\",\n",
        "    \"Your growth, our expertise.\",\n",
        "    \"Innovation for today’s challenges.\",\n",
        "    \"Driven by success and innovation.\",\n",
        "    \"The power of teamwork.\",\n",
        "    \"Creating success, one idea at a time.\",\n",
        "    \"Transforming ideas into results.\",\n",
        "    \"Building the future with innovation.\",\n",
        "    \"Driving growth through innovation.\",\n",
        "    \"Innovate to lead.\",\n",
        "    \"Shaping tomorrow’s possibilities.\",\n",
        "    \"Innovation for a sustainable future.\",\n",
        "    \"Where success never stops.\",\n",
        "    \"Creating value, delivering results.\",\n",
        "    \"Success through innovation.\",\n",
        "    \"Innovation at the speed of thought.\",\n",
        "    \"The future starts here.\",\n",
        "    \"Together, we achieve more.\",\n",
        "    \"Transforming ideas into success.\",\n",
        "    \"Where tomorrow begins today.\",\n",
        "    \"Unlocking your potential.\",\n",
        "    \"Innovation starts with us.\",\n",
        "    \"Driven by innovation, guided by purpose.\",\n",
        "    \"Shaping the future of business.\",\n",
        "    \"Redefining success, together.\",\n",
        "    \"We turn dreams into reality.\",\n",
        "    \"Leading with innovation.\",\n",
        "    \"Innovation that drives progress.\",\n",
        "    \"Success through teamwork.\",\n",
        "    \"Solutions for tomorrow’s world.\",\n",
        "    \"The future of business is here.\",\n",
        "    \"Empowering businesses to succeed.\",\n",
        "    \"Shaping success, driving growth.\",\n",
        "    \"Innovation that leads the way.\",\n",
        "    \"Your vision, our purpose.\",\n",
        "    \"Redefining success for the future.\",\n",
        "    \"Where passion drives progress.\",\n",
        "    \"Innovate today, succeed tomorrow.\",\n",
        "    \"Shaping the future of success.\",\n",
        "    \"Inspiring success in every field.\",\n",
        "    \"Together, we create the future.\",\n",
        "    \"The future of business is bright.\",\n",
        "    \"Innovation for a better world.\",\n",
        "    \"Shaping success with every idea.\",\n",
        "    \"Innovation that matters.\",\n",
        "    \"Together, we grow.\",\n",
        "    \"A smarter future starts now.\",\n",
        "    \"Your future, our commitment.\",\n",
        "    \"Empowering your journey.\",\n",
        "    \"Success powered by innovation.\",\n",
        "    \"Where progress meets purpose.\",\n",
        "    \"Innovation that drives results.\",\n",
        "    \"Unlocking the future, today.\",\n",
        "    \"Solutions for every challenge.\",\n",
        "    \"Together, we create change.\",\n",
        "    \"Innovation in action.\",\n",
        "    \"Shaping success, one idea at a time.\",\n",
        "    \"Building a smarter tomorrow.\",\n",
        "    \"Creating better solutions for today.\",\n",
        "    \"Innovating for the future.\",\n",
        "    \"Where vision becomes reality.\",\n",
        "    \"Success begins with us.\",\n",
        "    \"Innovation at its finest.\",\n",
        "    \"We bring your ideas to life.\",\n",
        "    \"Empowering businesses to thrive.\",\n",
        "    \"Together, we innovate and succeed.\",\n",
        "    \"Shaping the future through innovation.\",\n",
        "    \"Innovating the world, together.\",\n",
        "    \"Where great ideas flourish.\",\n",
        "    \"Your future, powered by innovation.\",\n",
        "    \"Shaping success with every innovation.\",\n",
        "    \"Innovation that makes a difference.\",\n",
        "    \"Solutions that inspire change.\",\n",
        "    \"The future of innovation is here.\",\n",
        "    \"Innovate to achieve greatness.\",\n",
        "    \"Success begins with great ideas.\",\n",
        "    \"Together, we build success.\",\n",
        "    \"Innovation for a brighter tomorrow.\",\n",
        "    \"Crafting success through innovation.\",\n",
        "    \"Your success, our innovation.\",\n",
        "    \"Shaping tomorrow, today.\",\n",
        "    \"Where your dreams come to life.\",\n",
        "    \"Innovative solutions for your future.\",\n",
        "    \"Success through collaboration.\",\n",
        "    \"Innovation is the key to success.\",\n",
        "    \"Empowering your future.\",\n",
        "    \"Innovation that creates opportunity.\",\n",
        "    \"Building a better tomorrow, today.\",\n",
        "    \"Shaping success through teamwork.\",\n",
        "    \"Innovation for every business.\",\n",
        "    \"Where tomorrow’s ideas are born.\",\n",
        "    \"Success through innovation and creativity.\",\n",
        "    \"Innovation that unlocks potential.\",\n",
        "    \"Building better futures together.\",\n",
        "    \"Shaping success with every step.\",\n",
        "    \"Innovate for a better world.\",\n",
        "    \"Together, we innovate and grow.\",\n",
        "    \"Crafting your future with innovation.\"\n",
        "]\n",
        "\n",
        "\n",
        "# Generate and save audio files to Google Drive\n",
        "for i, slogan in enumerate(slogans, 1):\n",
        "    tts = gTTS(text=slogan, lang='en', slow=False)\n",
        "    file_name = f\"{save_directory}/slogan_{i}.mp3\"\n",
        "    tts.save(file_name)\n",
        "    print(f\"Generated speech for: {slogan[:30]}... saved as {file_name}\")\n",
        "\n",
        "print(\"All slogans have been converted to speech and saved to Google Drive!\")\n"
      ],
      "metadata": {
        "colab": {
          "base_uri": "https://localhost:8080/"
        },
        "id": "ipSGBZwjqOSd",
        "outputId": "3d2d21d4-c14e-44f2-c2d2-a50bd205d894"
      },
      "execution_count": null,
      "outputs": [
        {
          "output_type": "stream",
          "name": "stdout",
          "text": [
            "Generated speech for: The best choice for your futur... saved as /content/drive/MyDrive/Slogans_Audio/slogan_1.mp3\n",
            "Generated speech for: Innovation leads to success.... saved as /content/drive/MyDrive/Slogans_Audio/slogan_2.mp3\n",
            "Generated speech for: Quality matters most.... saved as /content/drive/MyDrive/Slogans_Audio/slogan_3.mp3\n",
            "Generated speech for: Together, we achieve more.... saved as /content/drive/MyDrive/Slogans_Audio/slogan_4.mp3\n",
            "Generated speech for: Every moment counts.... saved as /content/drive/MyDrive/Slogans_Audio/slogan_5.mp3\n",
            "Generated speech for: Changing the world, one step a... saved as /content/drive/MyDrive/Slogans_Audio/slogan_6.mp3\n",
            "Generated speech for: Your dream, our mission.... saved as /content/drive/MyDrive/Slogans_Audio/slogan_7.mp3\n",
            "Generated speech for: Empowering your tomorrow.... saved as /content/drive/MyDrive/Slogans_Audio/slogan_8.mp3\n",
            "Generated speech for: Driven by excellence.... saved as /content/drive/MyDrive/Slogans_Audio/slogan_9.mp3\n",
            "Generated speech for: Crafting experiences, creating... saved as /content/drive/MyDrive/Slogans_Audio/slogan_10.mp3\n",
            "Generated speech for: Bringing ideas to life.... saved as /content/drive/MyDrive/Slogans_Audio/slogan_11.mp3\n",
            "Generated speech for: Creating the future today.... saved as /content/drive/MyDrive/Slogans_Audio/slogan_12.mp3\n",
            "Generated speech for: Success starts here.... saved as /content/drive/MyDrive/Slogans_Audio/slogan_13.mp3\n",
            "Generated speech for: Redefining possibilities.... saved as /content/drive/MyDrive/Slogans_Audio/slogan_14.mp3\n",
            "Generated speech for: Beyond innovation.... saved as /content/drive/MyDrive/Slogans_Audio/slogan_15.mp3\n",
            "Generated speech for: Turning visions into reality.... saved as /content/drive/MyDrive/Slogans_Audio/slogan_16.mp3\n",
            "Generated speech for: Strength in simplicity.... saved as /content/drive/MyDrive/Slogans_Audio/slogan_17.mp3\n",
            "Generated speech for: Where your success begins.... saved as /content/drive/MyDrive/Slogans_Audio/slogan_18.mp3\n",
            "Generated speech for: Creating connections that matt... saved as /content/drive/MyDrive/Slogans_Audio/slogan_19.mp3\n",
            "Generated speech for: Your journey, our purpose.... saved as /content/drive/MyDrive/Slogans_Audio/slogan_20.mp3\n",
            "Generated speech for: Excellence in everything we do... saved as /content/drive/MyDrive/Slogans_Audio/slogan_21.mp3\n",
            "Generated speech for: Building better futures.... saved as /content/drive/MyDrive/Slogans_Audio/slogan_22.mp3\n",
            "Generated speech for: Raising standards, exceeding e... saved as /content/drive/MyDrive/Slogans_Audio/slogan_23.mp3\n",
            "Generated speech for: Your potential, unleashed.... saved as /content/drive/MyDrive/Slogans_Audio/slogan_24.mp3\n",
            "Generated speech for: Succeed with us.... saved as /content/drive/MyDrive/Slogans_Audio/slogan_25.mp3\n",
            "Generated speech for: Revolutionizing industries.... saved as /content/drive/MyDrive/Slogans_Audio/slogan_26.mp3\n",
            "Generated speech for: Shaping tomorrow’s leaders.... saved as /content/drive/MyDrive/Slogans_Audio/slogan_27.mp3\n",
            "Generated speech for: For a smarter future.... saved as /content/drive/MyDrive/Slogans_Audio/slogan_28.mp3\n",
            "Generated speech for: Where creativity meets success... saved as /content/drive/MyDrive/Slogans_Audio/slogan_29.mp3\n",
            "Generated speech for: A world of possibilities.... saved as /content/drive/MyDrive/Slogans_Audio/slogan_30.mp3\n",
            "Generated speech for: Designed for your success.... saved as /content/drive/MyDrive/Slogans_Audio/slogan_31.mp3\n",
            "Generated speech for: Innovative solutions, lasting ... saved as /content/drive/MyDrive/Slogans_Audio/slogan_32.mp3\n",
            "Generated speech for: Building bridges to success.... saved as /content/drive/MyDrive/Slogans_Audio/slogan_33.mp3\n",
            "Generated speech for: Together, we rise.... saved as /content/drive/MyDrive/Slogans_Audio/slogan_34.mp3\n",
            "Generated speech for: Creating lasting value.... saved as /content/drive/MyDrive/Slogans_Audio/slogan_35.mp3\n",
            "Generated speech for: Future-proof your business.... saved as /content/drive/MyDrive/Slogans_Audio/slogan_36.mp3\n",
            "Generated speech for: The future of innovation.... saved as /content/drive/MyDrive/Slogans_Audio/slogan_37.mp3\n",
            "Generated speech for: Your path to success.... saved as /content/drive/MyDrive/Slogans_Audio/slogan_38.mp3\n",
            "Generated speech for: Crafting a better tomorrow.... saved as /content/drive/MyDrive/Slogans_Audio/slogan_39.mp3\n",
            "Generated speech for: Driving change, inspiring grow... saved as /content/drive/MyDrive/Slogans_Audio/slogan_40.mp3\n",
            "Generated speech for: Solutions that work.... saved as /content/drive/MyDrive/Slogans_Audio/slogan_41.mp3\n",
            "Generated speech for: Your success is our business.... saved as /content/drive/MyDrive/Slogans_Audio/slogan_42.mp3\n",
            "Generated speech for: A partnership for progress.... saved as /content/drive/MyDrive/Slogans_Audio/slogan_43.mp3\n",
            "Generated speech for: Unlocking new opportunities.... saved as /content/drive/MyDrive/Slogans_Audio/slogan_44.mp3\n",
            "Generated speech for: Innovate, create, inspire.... saved as /content/drive/MyDrive/Slogans_Audio/slogan_45.mp3\n",
            "Generated speech for: Efficiency at its best.... saved as /content/drive/MyDrive/Slogans_Audio/slogan_46.mp3\n",
            "Generated speech for: Transforming challenges into o... saved as /content/drive/MyDrive/Slogans_Audio/slogan_47.mp3\n",
            "Generated speech for: Exceeding expectations every t... saved as /content/drive/MyDrive/Slogans_Audio/slogan_48.mp3\n",
            "Generated speech for: Where great ideas flourish.... saved as /content/drive/MyDrive/Slogans_Audio/slogan_49.mp3\n",
            "Generated speech for: Unleashing potential worldwide... saved as /content/drive/MyDrive/Slogans_Audio/slogan_50.mp3\n",
            "Generated speech for: We bring your ideas to life.... saved as /content/drive/MyDrive/Slogans_Audio/slogan_51.mp3\n",
            "Generated speech for: Leading with passion.... saved as /content/drive/MyDrive/Slogans_Audio/slogan_52.mp3\n",
            "Generated speech for: Commitment to excellence.... saved as /content/drive/MyDrive/Slogans_Audio/slogan_53.mp3\n",
            "Generated speech for: Experience the difference.... saved as /content/drive/MyDrive/Slogans_Audio/slogan_54.mp3\n",
            "Generated speech for: Innovate your future.... saved as /content/drive/MyDrive/Slogans_Audio/slogan_55.mp3\n",
            "Generated speech for: Your success is our priority.... saved as /content/drive/MyDrive/Slogans_Audio/slogan_56.mp3\n",
            "Generated speech for: Together, we innovate.... saved as /content/drive/MyDrive/Slogans_Audio/slogan_57.mp3\n",
            "Generated speech for: Innovative ideas, meaningful r... saved as /content/drive/MyDrive/Slogans_Audio/slogan_58.mp3\n",
            "Generated speech for: Creating success stories.... saved as /content/drive/MyDrive/Slogans_Audio/slogan_59.mp3\n",
            "Generated speech for: A better world through innovat... saved as /content/drive/MyDrive/Slogans_Audio/slogan_60.mp3\n",
            "Generated speech for: Shaping the future, today.... saved as /content/drive/MyDrive/Slogans_Audio/slogan_61.mp3\n",
            "Generated speech for: Where innovation never stops.... saved as /content/drive/MyDrive/Slogans_Audio/slogan_62.mp3\n",
            "Generated speech for: Solutions for tomorrow’s chall... saved as /content/drive/MyDrive/Slogans_Audio/slogan_63.mp3\n",
            "Generated speech for: Inspiring success at every tur... saved as /content/drive/MyDrive/Slogans_Audio/slogan_64.mp3\n",
            "Generated speech for: Your future, our vision.... saved as /content/drive/MyDrive/Slogans_Audio/slogan_65.mp3\n",
            "Generated speech for: Driving growth, building succe... saved as /content/drive/MyDrive/Slogans_Audio/slogan_66.mp3\n",
            "Generated speech for: Leading with integrity.... saved as /content/drive/MyDrive/Slogans_Audio/slogan_67.mp3\n",
            "Generated speech for: Creating a better future toget... saved as /content/drive/MyDrive/Slogans_Audio/slogan_68.mp3\n",
            "Generated speech for: Innovating for a brighter tomo... saved as /content/drive/MyDrive/Slogans_Audio/slogan_69.mp3\n",
            "Generated speech for: Designing success.... saved as /content/drive/MyDrive/Slogans_Audio/slogan_70.mp3\n",
            "Generated speech for: Empowering possibilities.... saved as /content/drive/MyDrive/Slogans_Audio/slogan_71.mp3\n",
            "Generated speech for: Where success begins.... saved as /content/drive/MyDrive/Slogans_Audio/slogan_72.mp3\n",
            "Generated speech for: Your success, our commitment.... saved as /content/drive/MyDrive/Slogans_Audio/slogan_73.mp3\n",
            "Generated speech for: Turning challenges into opport... saved as /content/drive/MyDrive/Slogans_Audio/slogan_74.mp3\n",
            "Generated speech for: Transforming industries with i... saved as /content/drive/MyDrive/Slogans_Audio/slogan_75.mp3\n",
            "Generated speech for: Achieving more, together.... saved as /content/drive/MyDrive/Slogans_Audio/slogan_76.mp3\n",
            "Generated speech for: Solutions that inspire.... saved as /content/drive/MyDrive/Slogans_Audio/slogan_77.mp3\n",
            "Generated speech for: Future-focused, innovation-dri... saved as /content/drive/MyDrive/Slogans_Audio/slogan_78.mp3\n",
            "Generated speech for: Taking your business to new he... saved as /content/drive/MyDrive/Slogans_Audio/slogan_79.mp3\n",
            "Generated speech for: Achieving excellence, together... saved as /content/drive/MyDrive/Slogans_Audio/slogan_80.mp3\n",
            "Generated speech for: Your success is our mission.... saved as /content/drive/MyDrive/Slogans_Audio/slogan_81.mp3\n",
            "Generated speech for: Creating growth, driving chang... saved as /content/drive/MyDrive/Slogans_Audio/slogan_82.mp3\n",
            "Generated speech for: Transforming the future with t... saved as /content/drive/MyDrive/Slogans_Audio/slogan_83.mp3\n",
            "Generated speech for: Innovating for your success.... saved as /content/drive/MyDrive/Slogans_Audio/slogan_84.mp3\n",
            "Generated speech for: Success through innovation.... saved as /content/drive/MyDrive/Slogans_Audio/slogan_85.mp3\n",
            "Generated speech for: Where passion meets progress.... saved as /content/drive/MyDrive/Slogans_Audio/slogan_86.mp3\n",
            "Generated speech for: The power of possibility.... saved as /content/drive/MyDrive/Slogans_Audio/slogan_87.mp3\n",
            "Generated speech for: We make things happen.... saved as /content/drive/MyDrive/Slogans_Audio/slogan_88.mp3\n",
            "Generated speech for: Solutions designed for you.... saved as /content/drive/MyDrive/Slogans_Audio/slogan_89.mp3\n",
            "Generated speech for: Where dreams become reality.... saved as /content/drive/MyDrive/Slogans_Audio/slogan_90.mp3\n",
            "Generated speech for: Driving innovation for a bette... saved as /content/drive/MyDrive/Slogans_Audio/slogan_91.mp3\n",
            "Generated speech for: Unlocking tomorrow’s opportuni... saved as /content/drive/MyDrive/Slogans_Audio/slogan_92.mp3\n",
            "Generated speech for: Leading through innovation.... saved as /content/drive/MyDrive/Slogans_Audio/slogan_93.mp3\n",
            "Generated speech for: Bringing ideas to life, one st... saved as /content/drive/MyDrive/Slogans_Audio/slogan_94.mp3\n",
            "Generated speech for: Inspiring greatness in all we ... saved as /content/drive/MyDrive/Slogans_Audio/slogan_95.mp3\n",
            "Generated speech for: Together, we make a difference... saved as /content/drive/MyDrive/Slogans_Audio/slogan_96.mp3\n",
            "Generated speech for: Innovative solutions for a cha... saved as /content/drive/MyDrive/Slogans_Audio/slogan_97.mp3\n",
            "Generated speech for: Success made simple.... saved as /content/drive/MyDrive/Slogans_Audio/slogan_98.mp3\n",
            "Generated speech for: Shaping success, together.... saved as /content/drive/MyDrive/Slogans_Audio/slogan_99.mp3\n",
            "Generated speech for: Success starts with us.... saved as /content/drive/MyDrive/Slogans_Audio/slogan_100.mp3\n",
            "Generated speech for: Creating the future of busines... saved as /content/drive/MyDrive/Slogans_Audio/slogan_101.mp3\n",
            "Generated speech for: Driving success, delivering re... saved as /content/drive/MyDrive/Slogans_Audio/slogan_102.mp3\n",
            "Generated speech for: Achieving more, together.... saved as /content/drive/MyDrive/Slogans_Audio/slogan_103.mp3\n",
            "Generated speech for: Future-focused solutions.... saved as /content/drive/MyDrive/Slogans_Audio/slogan_104.mp3\n",
            "Generated speech for: Your partner in progress.... saved as /content/drive/MyDrive/Slogans_Audio/slogan_105.mp3\n",
            "Generated speech for: Redefining the future of busin... saved as /content/drive/MyDrive/Slogans_Audio/slogan_106.mp3\n",
            "Generated speech for: Innovation begins with us.... saved as /content/drive/MyDrive/Slogans_Audio/slogan_107.mp3\n",
            "Generated speech for: Achieving excellence together.... saved as /content/drive/MyDrive/Slogans_Audio/slogan_108.mp3\n",
            "Generated speech for: Empowering businesses to thriv... saved as /content/drive/MyDrive/Slogans_Audio/slogan_109.mp3\n",
            "Generated speech for: Innovate, inspire, succeed.... saved as /content/drive/MyDrive/Slogans_Audio/slogan_110.mp3\n",
            "Generated speech for: Shaping the future of success.... saved as /content/drive/MyDrive/Slogans_Audio/slogan_111.mp3\n",
            "Generated speech for: Together, we innovate and grow... saved as /content/drive/MyDrive/Slogans_Audio/slogan_112.mp3\n",
            "Generated speech for: Innovative solutions for a bet... saved as /content/drive/MyDrive/Slogans_Audio/slogan_113.mp3\n",
            "Generated speech for: Success begins with collaborat... saved as /content/drive/MyDrive/Slogans_Audio/slogan_114.mp3\n",
            "Generated speech for: Empowering your business with ... saved as /content/drive/MyDrive/Slogans_Audio/slogan_115.mp3\n",
            "Generated speech for: Shaping success, one idea at a... saved as /content/drive/MyDrive/Slogans_Audio/slogan_116.mp3\n",
            "Generated speech for: Driven by passion, guided by p... saved as /content/drive/MyDrive/Slogans_Audio/slogan_117.mp3\n",
            "Generated speech for: The future is now.... saved as /content/drive/MyDrive/Slogans_Audio/slogan_118.mp3\n",
            "Generated speech for: Empowering ideas to grow.... saved as /content/drive/MyDrive/Slogans_Audio/slogan_119.mp3\n",
            "Generated speech for: Redefining what's possible.... saved as /content/drive/MyDrive/Slogans_Audio/slogan_120.mp3\n",
            "Generated speech for: Innovation that moves you forw... saved as /content/drive/MyDrive/Slogans_Audio/slogan_121.mp3\n",
            "Generated speech for: Leading innovation, driving re... saved as /content/drive/MyDrive/Slogans_Audio/slogan_122.mp3\n",
            "Generated speech for: Your success, our strategy.... saved as /content/drive/MyDrive/Slogans_Audio/slogan_123.mp3\n",
            "Generated speech for: Bringing your vision to life.... saved as /content/drive/MyDrive/Slogans_Audio/slogan_124.mp3\n",
            "Generated speech for: Creating a smarter future.... saved as /content/drive/MyDrive/Slogans_Audio/slogan_125.mp3\n",
            "Generated speech for: Success through collaboration.... saved as /content/drive/MyDrive/Slogans_Audio/slogan_126.mp3\n",
            "Generated speech for: Innovating the future together... saved as /content/drive/MyDrive/Slogans_Audio/slogan_127.mp3\n",
            "Generated speech for: Where passion leads to success... saved as /content/drive/MyDrive/Slogans_Audio/slogan_128.mp3\n",
            "Generated speech for: Turning ideas into reality.... saved as /content/drive/MyDrive/Slogans_Audio/slogan_129.mp3\n",
            "Generated speech for: Building success with every st... saved as /content/drive/MyDrive/Slogans_Audio/slogan_130.mp3\n",
            "Generated speech for: Innovation for a changing worl... saved as /content/drive/MyDrive/Slogans_Audio/slogan_131.mp3\n",
            "Generated speech for: Creating opportunities for gro... saved as /content/drive/MyDrive/Slogans_Audio/slogan_132.mp3\n",
            "Generated speech for: Driven by success.... saved as /content/drive/MyDrive/Slogans_Audio/slogan_133.mp3\n",
            "Generated speech for: Future-ready, innovation-drive... saved as /content/drive/MyDrive/Slogans_Audio/slogan_134.mp3\n",
            "Generated speech for: Where vision meets action.... saved as /content/drive/MyDrive/Slogans_Audio/slogan_135.mp3\n",
            "Generated speech for: Leading through innovation.... saved as /content/drive/MyDrive/Slogans_Audio/slogan_136.mp3\n",
            "Generated speech for: Innovation at its best.... saved as /content/drive/MyDrive/Slogans_Audio/slogan_137.mp3\n",
            "Generated speech for: Your growth, our mission.... saved as /content/drive/MyDrive/Slogans_Audio/slogan_138.mp3\n",
            "Generated speech for: Success, powered by innovation... saved as /content/drive/MyDrive/Slogans_Audio/slogan_139.mp3\n",
            "Generated speech for: Making success happen.... saved as /content/drive/MyDrive/Slogans_Audio/slogan_140.mp3\n",
            "Generated speech for: Creating solutions that work.... saved as /content/drive/MyDrive/Slogans_Audio/slogan_141.mp3\n",
            "Generated speech for: Success is in our DNA.... saved as /content/drive/MyDrive/Slogans_Audio/slogan_142.mp3\n",
            "Generated speech for: Shaping a better future for al... saved as /content/drive/MyDrive/Slogans_Audio/slogan_143.mp3\n",
            "Generated speech for: The path to success starts her... saved as /content/drive/MyDrive/Slogans_Audio/slogan_144.mp3\n",
            "Generated speech for: Innovation that drives success... saved as /content/drive/MyDrive/Slogans_Audio/slogan_145.mp3\n",
            "Generated speech for: Together, we create solutions.... saved as /content/drive/MyDrive/Slogans_Audio/slogan_146.mp3\n",
            "Generated speech for: Tomorrow’s solutions, today.... saved as /content/drive/MyDrive/Slogans_Audio/slogan_147.mp3\n",
            "Generated speech for: Leading the way in innovation.... saved as /content/drive/MyDrive/Slogans_Audio/slogan_148.mp3\n",
            "Generated speech for: Together, we drive progress.... saved as /content/drive/MyDrive/Slogans_Audio/slogan_149.mp3\n",
            "Generated speech for: Your growth, our expertise.... saved as /content/drive/MyDrive/Slogans_Audio/slogan_150.mp3\n",
            "Generated speech for: Innovation for today’s challen... saved as /content/drive/MyDrive/Slogans_Audio/slogan_151.mp3\n",
            "Generated speech for: Driven by success and innovati... saved as /content/drive/MyDrive/Slogans_Audio/slogan_152.mp3\n",
            "Generated speech for: The power of teamwork.... saved as /content/drive/MyDrive/Slogans_Audio/slogan_153.mp3\n",
            "Generated speech for: Creating success, one idea at ... saved as /content/drive/MyDrive/Slogans_Audio/slogan_154.mp3\n",
            "Generated speech for: Transforming ideas into result... saved as /content/drive/MyDrive/Slogans_Audio/slogan_155.mp3\n",
            "Generated speech for: Building the future with innov... saved as /content/drive/MyDrive/Slogans_Audio/slogan_156.mp3\n",
            "Generated speech for: Driving growth through innovat... saved as /content/drive/MyDrive/Slogans_Audio/slogan_157.mp3\n",
            "Generated speech for: Innovate to lead.... saved as /content/drive/MyDrive/Slogans_Audio/slogan_158.mp3\n",
            "Generated speech for: Shaping tomorrow’s possibiliti... saved as /content/drive/MyDrive/Slogans_Audio/slogan_159.mp3\n",
            "Generated speech for: Innovation for a sustainable f... saved as /content/drive/MyDrive/Slogans_Audio/slogan_160.mp3\n",
            "Generated speech for: Where success never stops.... saved as /content/drive/MyDrive/Slogans_Audio/slogan_161.mp3\n",
            "Generated speech for: Creating value, delivering res... saved as /content/drive/MyDrive/Slogans_Audio/slogan_162.mp3\n",
            "Generated speech for: Success through innovation.... saved as /content/drive/MyDrive/Slogans_Audio/slogan_163.mp3\n",
            "Generated speech for: Innovation at the speed of tho... saved as /content/drive/MyDrive/Slogans_Audio/slogan_164.mp3\n",
            "Generated speech for: The future starts here.... saved as /content/drive/MyDrive/Slogans_Audio/slogan_165.mp3\n",
            "Generated speech for: Together, we achieve more.... saved as /content/drive/MyDrive/Slogans_Audio/slogan_166.mp3\n",
            "Generated speech for: Transforming ideas into succes... saved as /content/drive/MyDrive/Slogans_Audio/slogan_167.mp3\n",
            "Generated speech for: Where tomorrow begins today.... saved as /content/drive/MyDrive/Slogans_Audio/slogan_168.mp3\n",
            "Generated speech for: Unlocking your potential.... saved as /content/drive/MyDrive/Slogans_Audio/slogan_169.mp3\n",
            "Generated speech for: Innovation starts with us.... saved as /content/drive/MyDrive/Slogans_Audio/slogan_170.mp3\n",
            "Generated speech for: Driven by innovation, guided b... saved as /content/drive/MyDrive/Slogans_Audio/slogan_171.mp3\n",
            "Generated speech for: Shaping the future of business... saved as /content/drive/MyDrive/Slogans_Audio/slogan_172.mp3\n",
            "Generated speech for: Redefining success, together.... saved as /content/drive/MyDrive/Slogans_Audio/slogan_173.mp3\n",
            "Generated speech for: We turn dreams into reality.... saved as /content/drive/MyDrive/Slogans_Audio/slogan_174.mp3\n",
            "Generated speech for: Leading with innovation.... saved as /content/drive/MyDrive/Slogans_Audio/slogan_175.mp3\n",
            "Generated speech for: Innovation that drives progres... saved as /content/drive/MyDrive/Slogans_Audio/slogan_176.mp3\n",
            "Generated speech for: Success through teamwork.... saved as /content/drive/MyDrive/Slogans_Audio/slogan_177.mp3\n",
            "Generated speech for: Solutions for tomorrow’s world... saved as /content/drive/MyDrive/Slogans_Audio/slogan_178.mp3\n",
            "Generated speech for: The future of business is here... saved as /content/drive/MyDrive/Slogans_Audio/slogan_179.mp3\n",
            "Generated speech for: Empowering businesses to succe... saved as /content/drive/MyDrive/Slogans_Audio/slogan_180.mp3\n",
            "Generated speech for: Shaping success, driving growt... saved as /content/drive/MyDrive/Slogans_Audio/slogan_181.mp3\n",
            "Generated speech for: Innovation that leads the way.... saved as /content/drive/MyDrive/Slogans_Audio/slogan_182.mp3\n",
            "Generated speech for: Your vision, our purpose.... saved as /content/drive/MyDrive/Slogans_Audio/slogan_183.mp3\n",
            "Generated speech for: Redefining success for the fut... saved as /content/drive/MyDrive/Slogans_Audio/slogan_184.mp3\n",
            "Generated speech for: Where passion drives progress.... saved as /content/drive/MyDrive/Slogans_Audio/slogan_185.mp3\n",
            "Generated speech for: Innovate today, succeed tomorr... saved as /content/drive/MyDrive/Slogans_Audio/slogan_186.mp3\n",
            "Generated speech for: Shaping the future of success.... saved as /content/drive/MyDrive/Slogans_Audio/slogan_187.mp3\n",
            "Generated speech for: Inspiring success in every fie... saved as /content/drive/MyDrive/Slogans_Audio/slogan_188.mp3\n",
            "Generated speech for: Together, we create the future... saved as /content/drive/MyDrive/Slogans_Audio/slogan_189.mp3\n",
            "Generated speech for: The future of business is brig... saved as /content/drive/MyDrive/Slogans_Audio/slogan_190.mp3\n",
            "Generated speech for: Innovation for a better world.... saved as /content/drive/MyDrive/Slogans_Audio/slogan_191.mp3\n",
            "Generated speech for: Shaping success with every ide... saved as /content/drive/MyDrive/Slogans_Audio/slogan_192.mp3\n",
            "Generated speech for: Innovation that matters.... saved as /content/drive/MyDrive/Slogans_Audio/slogan_193.mp3\n",
            "Generated speech for: Together, we grow.... saved as /content/drive/MyDrive/Slogans_Audio/slogan_194.mp3\n",
            "Generated speech for: A smarter future starts now.... saved as /content/drive/MyDrive/Slogans_Audio/slogan_195.mp3\n",
            "Generated speech for: Your future, our commitment.... saved as /content/drive/MyDrive/Slogans_Audio/slogan_196.mp3\n",
            "Generated speech for: Empowering your journey.... saved as /content/drive/MyDrive/Slogans_Audio/slogan_197.mp3\n",
            "Generated speech for: Success powered by innovation.... saved as /content/drive/MyDrive/Slogans_Audio/slogan_198.mp3\n",
            "Generated speech for: Where progress meets purpose.... saved as /content/drive/MyDrive/Slogans_Audio/slogan_199.mp3\n",
            "Generated speech for: Innovation that drives results... saved as /content/drive/MyDrive/Slogans_Audio/slogan_200.mp3\n",
            "Generated speech for: Unlocking the future, today.... saved as /content/drive/MyDrive/Slogans_Audio/slogan_201.mp3\n",
            "Generated speech for: Solutions for every challenge.... saved as /content/drive/MyDrive/Slogans_Audio/slogan_202.mp3\n",
            "Generated speech for: Together, we create change.... saved as /content/drive/MyDrive/Slogans_Audio/slogan_203.mp3\n",
            "Generated speech for: Innovation in action.... saved as /content/drive/MyDrive/Slogans_Audio/slogan_204.mp3\n",
            "Generated speech for: Shaping success, one idea at a... saved as /content/drive/MyDrive/Slogans_Audio/slogan_205.mp3\n",
            "Generated speech for: Building a smarter tomorrow.... saved as /content/drive/MyDrive/Slogans_Audio/slogan_206.mp3\n",
            "Generated speech for: Creating better solutions for ... saved as /content/drive/MyDrive/Slogans_Audio/slogan_207.mp3\n",
            "Generated speech for: Innovating for the future.... saved as /content/drive/MyDrive/Slogans_Audio/slogan_208.mp3\n",
            "Generated speech for: Where vision becomes reality.... saved as /content/drive/MyDrive/Slogans_Audio/slogan_209.mp3\n",
            "Generated speech for: Success begins with us.... saved as /content/drive/MyDrive/Slogans_Audio/slogan_210.mp3\n",
            "Generated speech for: Innovation at its finest.... saved as /content/drive/MyDrive/Slogans_Audio/slogan_211.mp3\n",
            "Generated speech for: We bring your ideas to life.... saved as /content/drive/MyDrive/Slogans_Audio/slogan_212.mp3\n",
            "Generated speech for: Empowering businesses to thriv... saved as /content/drive/MyDrive/Slogans_Audio/slogan_213.mp3\n",
            "Generated speech for: Together, we innovate and succ... saved as /content/drive/MyDrive/Slogans_Audio/slogan_214.mp3\n",
            "Generated speech for: Shaping the future through inn... saved as /content/drive/MyDrive/Slogans_Audio/slogan_215.mp3\n",
            "Generated speech for: Innovating the world, together... saved as /content/drive/MyDrive/Slogans_Audio/slogan_216.mp3\n",
            "Generated speech for: Where great ideas flourish.... saved as /content/drive/MyDrive/Slogans_Audio/slogan_217.mp3\n",
            "Generated speech for: Your future, powered by innova... saved as /content/drive/MyDrive/Slogans_Audio/slogan_218.mp3\n",
            "Generated speech for: Shaping success with every inn... saved as /content/drive/MyDrive/Slogans_Audio/slogan_219.mp3\n",
            "Generated speech for: Innovation that makes a differ... saved as /content/drive/MyDrive/Slogans_Audio/slogan_220.mp3\n",
            "Generated speech for: Solutions that inspire change.... saved as /content/drive/MyDrive/Slogans_Audio/slogan_221.mp3\n",
            "Generated speech for: The future of innovation is he... saved as /content/drive/MyDrive/Slogans_Audio/slogan_222.mp3\n",
            "Generated speech for: Innovate to achieve greatness.... saved as /content/drive/MyDrive/Slogans_Audio/slogan_223.mp3\n",
            "Generated speech for: Success begins with great idea... saved as /content/drive/MyDrive/Slogans_Audio/slogan_224.mp3\n",
            "Generated speech for: Together, we build success.... saved as /content/drive/MyDrive/Slogans_Audio/slogan_225.mp3\n",
            "Generated speech for: Innovation for a brighter tomo... saved as /content/drive/MyDrive/Slogans_Audio/slogan_226.mp3\n",
            "Generated speech for: Crafting success through innov... saved as /content/drive/MyDrive/Slogans_Audio/slogan_227.mp3\n",
            "Generated speech for: Your success, our innovation.... saved as /content/drive/MyDrive/Slogans_Audio/slogan_228.mp3\n",
            "Generated speech for: Shaping tomorrow, today.... saved as /content/drive/MyDrive/Slogans_Audio/slogan_229.mp3\n",
            "Generated speech for: Where your dreams come to life... saved as /content/drive/MyDrive/Slogans_Audio/slogan_230.mp3\n",
            "Generated speech for: Innovative solutions for your ... saved as /content/drive/MyDrive/Slogans_Audio/slogan_231.mp3\n",
            "Generated speech for: Success through collaboration.... saved as /content/drive/MyDrive/Slogans_Audio/slogan_232.mp3\n",
            "Generated speech for: Innovation is the key to succe... saved as /content/drive/MyDrive/Slogans_Audio/slogan_233.mp3\n",
            "Generated speech for: Empowering your future.... saved as /content/drive/MyDrive/Slogans_Audio/slogan_234.mp3\n",
            "Generated speech for: Innovation that creates opport... saved as /content/drive/MyDrive/Slogans_Audio/slogan_235.mp3\n",
            "Generated speech for: Building a better tomorrow, to... saved as /content/drive/MyDrive/Slogans_Audio/slogan_236.mp3\n",
            "Generated speech for: Shaping success through teamwo... saved as /content/drive/MyDrive/Slogans_Audio/slogan_237.mp3\n",
            "Generated speech for: Innovation for every business.... saved as /content/drive/MyDrive/Slogans_Audio/slogan_238.mp3\n",
            "Generated speech for: Where tomorrow’s ideas are bor... saved as /content/drive/MyDrive/Slogans_Audio/slogan_239.mp3\n",
            "Generated speech for: Success through innovation and... saved as /content/drive/MyDrive/Slogans_Audio/slogan_240.mp3\n",
            "Generated speech for: Innovation that unlocks potent... saved as /content/drive/MyDrive/Slogans_Audio/slogan_241.mp3\n",
            "Generated speech for: Building better futures togeth... saved as /content/drive/MyDrive/Slogans_Audio/slogan_242.mp3\n",
            "Generated speech for: Shaping success with every ste... saved as /content/drive/MyDrive/Slogans_Audio/slogan_243.mp3\n",
            "Generated speech for: Innovate for a better world.... saved as /content/drive/MyDrive/Slogans_Audio/slogan_244.mp3\n",
            "Generated speech for: Together, we innovate and grow... saved as /content/drive/MyDrive/Slogans_Audio/slogan_245.mp3\n",
            "Generated speech for: Crafting your future with inno... saved as /content/drive/MyDrive/Slogans_Audio/slogan_246.mp3\n",
            "All slogans have been converted to speech and saved to Google Drive!\n"
          ]
        }
      ]
    },
    {
      "cell_type": "markdown",
      "source": [
        "**Tech**"
      ],
      "metadata": {
        "id": "zIk7_-u0tPoF"
      }
    },
    {
      "cell_type": "code",
      "source": [
        "import yt_dlp\n",
        "import os\n",
        "import subprocess\n",
        "import whisper\n",
        "from langdetect import detect\n",
        "\n",
        "# Storage paths\n",
        "base_path = \"/content/drive/MyDrive/YouTube_Scraper1\"\n",
        "audio_path = os.path.join(base_path, \"audiotech\")  # Change this to save audio for technology\n",
        "transcription_file = os.path.join(base_path, \"transcriptionsTECH.txt\")  # Transcriptions file\n",
        "\n",
        "# Make sure the audio folder exists\n",
        "os.makedirs(audio_path, exist_ok=True)\n",
        "\n",
        "# Function to get only English Shorts\n",
        "def get_audio_links(search_query, max_results=50):\n",
        "    search_url = f\"https://www.youtube.com/results?search_query={search_query.replace(' ', '+')}&sp=EgIoAQ%3D%3D\"  # Shorts filter\n",
        "    ydl_opts = {\"quiet\": True, \"extract_flat\": True, \"dump_single_json\": True}\n",
        "\n",
        "    with yt_dlp.YoutubeDL(ydl_opts) as ydl:\n",
        "        result = ydl.extract_info(search_url, download=False)\n",
        "\n",
        "        if not result or \"entries\" not in result:\n",
        "            return []\n",
        "\n",
        "        english_videos = []\n",
        "        for entry in result[\"entries\"]:\n",
        "            if entry and \"title\" in entry:\n",
        "                try:\n",
        "                    lang = detect(entry[\"title\"])\n",
        "                    if lang == \"en\":  # Keep only English videos\n",
        "                        english_videos.append(entry[\"url\"])\n",
        "                except:\n",
        "                    continue  # Skip if language detection fails\n",
        "\n",
        "            if len(english_videos) >= max_results:\n",
        "                break\n",
        "\n",
        "        return english_videos\n",
        "\n",
        "# Function to download audio only\n",
        "def download_audio(video_url, output_folder):\n",
        "    try:\n",
        "        command = [\"yt-dlp\", \"-f\", \"bestaudio\", \"-x\", \"--audio-format\", \"mp3\", \"-o\", f\"{output_folder}/%(title)s.%(ext)s\", video_url]\n",
        "        subprocess.run(command, check=True)\n",
        "    except subprocess.CalledProcessError as e:\n",
        "        print(f\"⚠️ Error downloading {video_url}: {e}\")\n",
        "\n",
        "# Load Whisper model\n",
        "model = whisper.load_model(\"small\")\n",
        "\n",
        "def transcribe_audio(audio_file):\n",
        "    try:\n",
        "        result = model.transcribe(audio_file, language=\"en\")\n",
        "        if \"text\" in result and result[\"text\"].strip():\n",
        "            print(f\"✅ Transcription completed for {audio_file}\")\n",
        "            return result[\"text\"]\n",
        "        else:\n",
        "            print(f\"⚠️ No speech detected in {audio_file}\")\n",
        "            return None\n",
        "    except Exception as e:\n",
        "        print(f\"⚠️ Error transcribing {audio_file}: {e}\")\n",
        "        return None\n",
        "\n",
        "# Run pipeline\n",
        "search_terms = [\"technology\", \"tech news\", \"latest tech\", \"gadgets\", \"tech innovations\", \"future tech\", \"AI technology\"]\n",
        "video_links = []\n",
        "\n",
        "# Fetch the video links for each search term\n",
        "for term in search_terms:\n",
        "    video_links.extend(get_audio_links(term, max_results=30))\n",
        "\n",
        "print(f\"🔍 Found {len(video_links)} English Technology Shorts.\")\n",
        "\n",
        "# Download audios\n",
        "for link in video_links:\n",
        "    print(f\"🎧 Downloading audio from: {link}...\")\n",
        "    download_audio(link, audio_path)\n",
        "\n",
        "print(\"✅ Audio download complete.\")\n",
        "\n",
        "# Transcribe audios and save to transcription file\n",
        "with open(transcription_file, \"w\", encoding=\"utf-8\") as f:\n",
        "    for file in os.listdir(audio_path):\n",
        "        if file.endswith(\".mp3\"):\n",
        "            audio_file = os.path.join(audio_path, file)\n",
        "            print(f\"📝 Transcribing {file}...\")\n",
        "            transcription = transcribe_audio(audio_file)\n",
        "\n",
        "            if transcription:\n",
        "                f.write(f\"{file}:{transcription}\\n\\n\")\n",
        "            else:\n",
        "                print(f\"⚠️ Skipping {file}, no transcription generated.\")\n",
        "\n",
        "print(f\"✅ Transcriptions saved to {transcription_file}\")\n"
      ],
      "metadata": {
        "colab": {
          "base_uri": "https://localhost:8080/"
        },
        "id": "ZyUbLx4ItRJ-",
        "outputId": "bc0526ef-8efe-440f-decb-929944a40da5"
      },
      "execution_count": null,
      "outputs": [
        {
          "output_type": "stream",
          "name": "stderr",
          "text": [
            "/usr/local/lib/python3.11/dist-packages/whisper/__init__.py:150: FutureWarning: You are using `torch.load` with `weights_only=False` (the current default value), which uses the default pickle module implicitly. It is possible to construct malicious pickle data which will execute arbitrary code during unpickling (See https://github.com/pytorch/pytorch/blob/main/SECURITY.md#untrusted-models for more details). In a future release, the default value for `weights_only` will be flipped to `True`. This limits the functions that could be executed during unpickling. Arbitrary objects will no longer be allowed to be loaded via this mode unless they are explicitly allowlisted by the user via `torch.serialization.add_safe_globals`. We recommend you start setting `weights_only=True` for any use case where you don't have full control of the loaded file. Please open an issue on GitHub for any issues related to this experimental feature.\n",
            "  checkpoint = torch.load(fp, map_location=device)\n"
          ]
        },
        {
          "output_type": "stream",
          "name": "stdout",
          "text": [
            "🔍 Found 210 English Technology Shorts.\n",
            "🎧 Downloading audio from: https://www.youtube.com/watch?v=Pj9QnO9rZkE...\n",
            "🎧 Downloading audio from: https://www.youtube.com/watch?v=Oa0ZHfcalCM...\n",
            "🎧 Downloading audio from: https://www.youtube.com/watch?v=X7SJxF_JsNA...\n",
            "🎧 Downloading audio from: https://www.youtube.com/shorts/E0H6ojmnMHo...\n",
            "🎧 Downloading audio from: https://www.youtube.com/watch?v=hmV2oLyJ81M...\n",
            "🎧 Downloading audio from: https://www.youtube.com/watch?v=yNej008WIbQ...\n",
            "🎧 Downloading audio from: https://www.youtube.com/watch?v=K3uiMsqptOs...\n",
            "🎧 Downloading audio from: https://www.youtube.com/watch?v=xcq611TOkBc...\n",
            "🎧 Downloading audio from: https://www.youtube.com/watch?v=nXpKZ_sHo6w...\n",
            "🎧 Downloading audio from: https://www.youtube.com/watch?v=ISs03Cc4SLk...\n",
            "🎧 Downloading audio from: https://www.youtube.com/watch?v=g9ch8yHthP4...\n",
            "🎧 Downloading audio from: https://www.youtube.com/shorts/ppS6QMI5p88...\n",
            "🎧 Downloading audio from: https://www.youtube.com/watch?v=-T__YWoq45I...\n",
            "🎧 Downloading audio from: https://www.youtube.com/watch?v=lpFgvGeEQlA...\n",
            "🎧 Downloading audio from: https://www.youtube.com/shorts/ya1znubyfdk...\n",
            "🎧 Downloading audio from: https://www.youtube.com/watch?v=Q_03FWDBZG0...\n",
            "🎧 Downloading audio from: https://www.youtube.com/watch?v=plbB42EUIUU...\n",
            "🎧 Downloading audio from: https://www.youtube.com/shorts/bAtuUeRWV3w...\n",
            "🎧 Downloading audio from: https://www.youtube.com/watch?v=y2kg3MOk1sY...\n",
            "🎧 Downloading audio from: https://www.youtube.com/watch?v=jE8C0FHWuks...\n",
            "🎧 Downloading audio from: https://www.youtube.com/watch?v=DD4F5it7a5M...\n",
            "🎧 Downloading audio from: https://www.youtube.com/watch?v=z7do1hhb6fE...\n",
            "🎧 Downloading audio from: https://www.youtube.com/watch?v=RiLaqm8LHJA...\n",
            "🎧 Downloading audio from: https://www.youtube.com/watch?v=jrMiqEkSk48...\n",
            "🎧 Downloading audio from: https://www.youtube.com/watch?v=ff04ecF9Dfw...\n",
            "🎧 Downloading audio from: https://www.youtube.com/watch?v=IKLVSxhkZeg...\n",
            "🎧 Downloading audio from: https://www.youtube.com/watch?v=HnMuNCl7tZ8...\n",
            "🎧 Downloading audio from: https://www.youtube.com/watch?v=6Pwbn07wKVA...\n",
            "🎧 Downloading audio from: https://www.youtube.com/watch?v=osvVHE9l_IE...\n",
            "🎧 Downloading audio from: https://www.youtube.com/shorts/_utuiCPnurg...\n",
            "🎧 Downloading audio from: https://www.youtube.com/watch?v=23JmJW8jPaU...\n",
            "🎧 Downloading audio from: https://www.youtube.com/watch?v=Er4grsl2OI8...\n",
            "🎧 Downloading audio from: https://www.youtube.com/watch?v=SzMiJFOa6w8...\n",
            "🎧 Downloading audio from: https://www.youtube.com/watch?v=MlD2atGMZzw...\n",
            "🎧 Downloading audio from: https://www.youtube.com/watch?v=TtQb8owBFEw...\n",
            "🎧 Downloading audio from: https://www.youtube.com/watch?v=Oa0ZHfcalCM...\n",
            "🎧 Downloading audio from: https://www.youtube.com/watch?v=iXFhcyXwPKc...\n",
            "🎧 Downloading audio from: https://www.youtube.com/watch?v=-THm4MDBtRI...\n",
            "🎧 Downloading audio from: https://www.youtube.com/watch?v=2e4U1UAlN60...\n",
            "🎧 Downloading audio from: https://www.youtube.com/watch?v=osvVHE9l_IE...\n",
            "🎧 Downloading audio from: https://www.youtube.com/watch?v=D0cFmunygNc...\n",
            "🎧 Downloading audio from: https://www.youtube.com/watch?v=z7do1hhb6fE...\n",
            "🎧 Downloading audio from: https://www.youtube.com/watch?v=UJ8Be7eA84I...\n",
            "🎧 Downloading audio from: https://www.youtube.com/watch?v=LryZ79zHUgs...\n",
            "🎧 Downloading audio from: https://www.youtube.com/watch?v=1OaKfv9aUj4...\n",
            "🎧 Downloading audio from: https://www.youtube.com/watch?v=eOJTVzbxpmg...\n",
            "🎧 Downloading audio from: https://www.youtube.com/watch?v=58zHJL1dKtw...\n",
            "🎧 Downloading audio from: https://www.youtube.com/watch?v=V-Fla5hxMRg...\n",
            "🎧 Downloading audio from: https://www.youtube.com/watch?v=cIFN1mYwFnc...\n",
            "🎧 Downloading audio from: https://www.youtube.com/watch?v=WcSXF5VDYZ4...\n",
            "🎧 Downloading audio from: https://www.youtube.com/watch?v=ub27Ol4igwY...\n",
            "🎧 Downloading audio from: https://www.youtube.com/shorts/bAtuUeRWV3w...\n",
            "🎧 Downloading audio from: https://www.youtube.com/watch?v=uzcn05nVqvU...\n",
            "🎧 Downloading audio from: https://www.youtube.com/watch?v=ISXdF42QHTQ...\n",
            "🎧 Downloading audio from: https://www.youtube.com/watch?v=Du8mbxGQ9Ek...\n",
            "🎧 Downloading audio from: https://www.youtube.com/watch?v=HW3fvSG1cyc...\n",
            "🎧 Downloading audio from: https://www.youtube.com/watch?v=bgxhq2iP1Sc...\n",
            "🎧 Downloading audio from: https://www.youtube.com/watch?v=eR_4nY3oXCI...\n",
            "🎧 Downloading audio from: https://www.youtube.com/watch?v=JbZUIkoP6pQ...\n",
            "🎧 Downloading audio from: https://www.youtube.com/watch?v=BW4AuqXsn-o...\n",
            "🎧 Downloading audio from: https://www.youtube.com/watch?v=1-SWfY7Dkfc...\n",
            "🎧 Downloading audio from: https://www.youtube.com/watch?v=SzMiJFOa6w8...\n",
            "🎧 Downloading audio from: https://www.youtube.com/watch?v=nXpKZ_sHo6w...\n",
            "🎧 Downloading audio from: https://www.youtube.com/shorts/ppS6QMI5p88...\n",
            "🎧 Downloading audio from: https://www.youtube.com/watch?v=pOuBCk8XMC8...\n",
            "🎧 Downloading audio from: https://www.youtube.com/shorts/9rPualI9C_4...\n",
            "🎧 Downloading audio from: https://www.youtube.com/watch?v=mQTQ4utlO90...\n",
            "🎧 Downloading audio from: https://www.youtube.com/shorts/VsI9I33foKA...\n",
            "🎧 Downloading audio from: https://www.youtube.com/watch?v=kIDL0cCTjG4...\n",
            "🎧 Downloading audio from: https://www.youtube.com/watch?v=wzjEgrwim1k...\n",
            "🎧 Downloading audio from: https://www.youtube.com/shorts/kf3x1VD0osc...\n",
            "🎧 Downloading audio from: https://www.youtube.com/watch?v=5qhGsJ2uxQA...\n",
            "🎧 Downloading audio from: https://www.youtube.com/watch?v=ZKFrG1MUQ00...\n",
            "🎧 Downloading audio from: https://www.youtube.com/watch?v=bTeSuZvvKRE...\n",
            "🎧 Downloading audio from: https://www.youtube.com/watch?v=Oa0ZHfcalCM...\n",
            "🎧 Downloading audio from: https://www.youtube.com/watch?v=52gHVemsiqQ...\n",
            "🎧 Downloading audio from: https://www.youtube.com/shorts/w2Zp4GxuZh0...\n",
            "🎧 Downloading audio from: https://www.youtube.com/watch?v=eAFjZtY_7c0...\n",
            "🎧 Downloading audio from: https://www.youtube.com/watch?v=aVhEUN3RAoY...\n",
            "🎧 Downloading audio from: https://www.youtube.com/watch?v=cdOwWuU0WLA...\n",
            "🎧 Downloading audio from: https://www.youtube.com/watch?v=5MOFXENrfXI...\n",
            "🎧 Downloading audio from: https://www.youtube.com/watch?v=YE1T3XuOpow...\n",
            "🎧 Downloading audio from: https://www.youtube.com/watch?v=IfvrQ-S6i3g...\n",
            "🎧 Downloading audio from: https://www.youtube.com/watch?v=Er4grsl2OI8...\n",
            "🎧 Downloading audio from: https://www.youtube.com/watch?v=JTXcVLznu8s...\n",
            "🎧 Downloading audio from: https://www.youtube.com/watch?v=VvrVOrVwKGI...\n",
            "🎧 Downloading audio from: https://www.youtube.com/watch?v=DD4F5it7a5M...\n",
            "🎧 Downloading audio from: https://www.youtube.com/watch?v=yNej008WIbQ...\n",
            "🎧 Downloading audio from: https://www.youtube.com/watch?v=tye9mnAVYCo...\n",
            "🎧 Downloading audio from: https://www.youtube.com/watch?v=aNGSS00Dmxw...\n",
            "🎧 Downloading audio from: https://www.youtube.com/watch?v=ZUFDHmH13Y8...\n",
            "🎧 Downloading audio from: https://www.youtube.com/watch?v=9lnRJKpknXM...\n",
            "🎧 Downloading audio from: https://www.youtube.com/watch?v=yFRoKxOkNSk...\n",
            "🎧 Downloading audio from: https://www.youtube.com/watch?v=tZh3VzqXxBQ...\n",
            "🎧 Downloading audio from: https://www.youtube.com/watch?v=H6jlL08nrjY...\n",
            "⚠️ Error downloading https://www.youtube.com/watch?v=H6jlL08nrjY: Command '['yt-dlp', '-f', 'bestaudio', '-x', '--audio-format', 'mp3', '-o', '/content/drive/MyDrive/YouTube_Scraper1/audiotech/%(title)s.%(ext)s', 'https://www.youtube.com/watch?v=H6jlL08nrjY']' returned non-zero exit status 1.\n",
            "🎧 Downloading audio from: https://www.youtube.com/watch?v=cs0agy2mo24...\n",
            "🎧 Downloading audio from: https://www.youtube.com/watch?v=EYfDda8hFUo...\n",
            "🎧 Downloading audio from: https://www.youtube.com/watch?v=PtSgoStW-70...\n",
            "🎧 Downloading audio from: https://www.youtube.com/watch?v=Nd8vBwvEeuk...\n",
            "🎧 Downloading audio from: https://www.youtube.com/watch?v=igDl2kWLXR0...\n",
            "🎧 Downloading audio from: https://www.youtube.com/watch?v=CGK9hp1srx4...\n",
            "🎧 Downloading audio from: https://www.youtube.com/watch?v=FwNSO93vD8k...\n",
            "🎧 Downloading audio from: https://www.youtube.com/watch?v=hXL27kf9lAQ...\n",
            "🎧 Downloading audio from: https://www.youtube.com/watch?v=psTR26qTMNE...\n",
            "🎧 Downloading audio from: https://www.youtube.com/shorts/IZhlZVYsZLI...\n",
            "🎧 Downloading audio from: https://www.youtube.com/shorts/EB_S8TVQrcI...\n",
            "🎧 Downloading audio from: https://www.youtube.com/watch?v=myHeo54NtdI...\n",
            "🎧 Downloading audio from: https://www.youtube.com/watch?v=626C1G0FQsE...\n",
            "🎧 Downloading audio from: https://www.youtube.com/watch?v=mbbc0nEF6gk...\n",
            "🎧 Downloading audio from: https://www.youtube.com/watch?v=LMJJz0wp8zI...\n",
            "🎧 Downloading audio from: https://www.youtube.com/watch?v=XsklVhJlKnE...\n",
            "🎧 Downloading audio from: https://www.youtube.com/watch?v=Lr3rUOYtdO8...\n",
            "🎧 Downloading audio from: https://www.youtube.com/watch?v=d96C9idJdfg...\n",
            "🎧 Downloading audio from: https://www.youtube.com/watch?v=8cSitSymePA...\n"
          ]
        },
        {
          "output_type": "stream",
          "name": "stderr",
          "text": [
            "ERROR:root:Internal Python error in the inspect module.\n",
            "Below is the traceback from this internal error.\n",
            "\n"
          ]
        },
        {
          "output_type": "stream",
          "name": "stdout",
          "text": [
            "Traceback (most recent call last):\n",
            "  File \"/usr/lib/python3.11/subprocess.py\", line 1264, in wait\n",
            "    return self._wait(timeout=timeout)\n",
            "           ^^^^^^^^^^^^^^^^^^^^^^^^^^^\n",
            "  File \"/usr/lib/python3.11/subprocess.py\", line 2053, in _wait\n",
            "    (pid, sts) = self._try_wait(0)\n",
            "                 ^^^^^^^^^^^^^^^^^\n",
            "  File \"/usr/lib/python3.11/subprocess.py\", line 2011, in _try_wait\n",
            "    (pid, sts) = os.waitpid(self.pid, wait_flags)\n",
            "                 ^^^^^^^^^^^^^^^^^^^^^^^^^^^^^^^^\n",
            "KeyboardInterrupt\n",
            "\n",
            "During handling of the above exception, another exception occurred:\n",
            "\n",
            "Traceback (most recent call last):\n",
            "  File \"/usr/local/lib/python3.11/dist-packages/IPython/core/interactiveshell.py\", line 3553, in run_code\n",
            "    exec(code_obj, self.user_global_ns, self.user_ns)\n",
            "  File \"<ipython-input-22-eefe79365ed6>\", line 78, in <cell line: 0>\n",
            "    download_audio(link, audio_path)\n",
            "  File \"<ipython-input-22-eefe79365ed6>\", line 45, in download_audio\n",
            "    subprocess.run(command, check=True)\n",
            "  File \"/usr/lib/python3.11/subprocess.py\", line 550, in run\n",
            "    stdout, stderr = process.communicate(input, timeout=timeout)\n",
            "                     ^^^^^^^^^^^^^^^^^^^^^^^^^^^^^^^^^^^^^^^^^^^\n",
            "  File \"/usr/lib/python3.11/subprocess.py\", line 1201, in communicate\n",
            "    self.wait()\n",
            "  File \"/usr/lib/python3.11/subprocess.py\", line 1277, in wait\n",
            "    self._wait(timeout=sigint_timeout)\n",
            "  File \"/usr/lib/python3.11/subprocess.py\", line 2047, in _wait\n",
            "    time.sleep(delay)\n",
            "KeyboardInterrupt\n",
            "\n",
            "During handling of the above exception, another exception occurred:\n",
            "\n",
            "Traceback (most recent call last):\n",
            "  File \"/usr/local/lib/python3.11/dist-packages/IPython/core/interactiveshell.py\", line 2099, in showtraceback\n",
            "    stb = value._render_traceback_()\n",
            "          ^^^^^^^^^^^^^^^^^^^^^^^^\n",
            "AttributeError: 'KeyboardInterrupt' object has no attribute '_render_traceback_'\n",
            "\n",
            "During handling of the above exception, another exception occurred:\n",
            "\n",
            "Traceback (most recent call last):\n",
            "  File \"/usr/local/lib/python3.11/dist-packages/IPython/core/ultratb.py\", line 1101, in get_records\n",
            "    return _fixed_getinnerframes(etb, number_of_lines_of_context, tb_offset)\n",
            "           ^^^^^^^^^^^^^^^^^^^^^^^^^^^^^^^^^^^^^^^^^^^^^^^^^^^^^^^^^^^^^^^^^\n",
            "  File \"/usr/local/lib/python3.11/dist-packages/IPython/core/ultratb.py\", line 248, in wrapped\n",
            "    return f(*args, **kwargs)\n",
            "           ^^^^^^^^^^^^^^^^^^\n",
            "  File \"/usr/local/lib/python3.11/dist-packages/IPython/core/ultratb.py\", line 281, in _fixed_getinnerframes\n",
            "    records = fix_frame_records_filenames(inspect.getinnerframes(etb, context))\n",
            "                                          ^^^^^^^^^^^^^^^^^^^^^^^^^^^^^^^^^^^^\n",
            "  File \"/usr/lib/python3.11/inspect.py\", line 1739, in getinnerframes\n",
            "    traceback_info = getframeinfo(tb, context)\n",
            "                     ^^^^^^^^^^^^^^^^^^^^^^^^^\n",
            "  File \"/usr/lib/python3.11/inspect.py\", line 1684, in getframeinfo\n",
            "    filename = getsourcefile(frame) or getfile(frame)\n",
            "               ^^^^^^^^^^^^^^^^^^^^\n",
            "  File \"/usr/lib/python3.11/inspect.py\", line 948, in getsourcefile\n",
            "    module = getmodule(object, filename)\n",
            "             ^^^^^^^^^^^^^^^^^^^^^^^^^^^\n",
            "  File \"/usr/lib/python3.11/inspect.py\", line 994, in getmodule\n",
            "    f = getabsfile(module)\n",
            "        ^^^^^^^^^^^^^^^^^^\n",
            "  File \"/usr/lib/python3.11/inspect.py\", line 963, in getabsfile\n",
            "    _filename = getsourcefile(object) or getfile(object)\n",
            "                ^^^^^^^^^^^^^^^^^^^^^\n",
            "  File \"/usr/lib/python3.11/inspect.py\", line 945, in getsourcefile\n",
            "    if os.path.exists(filename):\n",
            "       ^^^^^^^^^^^^^^^^^^^^^^^^\n",
            "  File \"<frozen genericpath>\", line 19, in exists\n",
            "KeyboardInterrupt\n"
          ]
        },
        {
          "output_type": "stream",
          "name": "stderr",
          "text": [
            "\n",
            "KeyboardInterrupt\n",
            "\n"
          ]
        }
      ]
    },
    {
      "cell_type": "markdown",
      "source": [
        "**TRANSCRIPTIONS FOR TECH AUDIO AND SLOGANS **"
      ],
      "metadata": {
        "id": "ZM8D2zcb_dcN"
      }
    },
    {
      "cell_type": "code",
      "source": [
        "import whisper\n",
        "import os\n",
        "\n",
        "# Load Whisper model\n",
        "model = whisper.load_model(\"small\")  # or \"medium\" for better quality\n",
        "\n",
        "# --- 1. Transcribe all audio files in solagans_audio and combine ---\n",
        "# Storage paths\n",
        "base_path = \"/content/drive/MyDrive/YouTube_Scraper1\"\n",
        "slogans_folder = os.path.join(base_path, \"Slogans_Audio\")\n",
        "transcription_file = os.path.join(base_path, \"transcriptionsSlogans.txt\")\n",
        "\n",
        "os.makedirs(slogans_folder, exist_ok=True)\n",
        "\n",
        "# Transcribe and write all transcriptions\n",
        "with open(transcription_file, \"w\", encoding=\"utf-8\") as all_slogans_file:\n",
        "    for filename in os.listdir(slogans_folder):\n",
        "        if filename.lower().endswith(\".mp3\"):\n",
        "            audio_path = os.path.join(slogans_folder, filename)\n",
        "            print(f\"🎙️ Transcribing slogan audio: {filename}\")\n",
        "            result = model.transcribe(audio_path)\n",
        "            text = result[\"text\"]\n",
        "            all_slogans_file.write(f\"--- {filename} ---\\n{text}\\n\\n\")\n",
        "            print(f\"✅ Added {filename} to transcriptionsSlogans.txt\")\n",
        "\n",
        "\n"
      ],
      "metadata": {
        "colab": {
          "base_uri": "https://localhost:8080/"
        },
        "id": "mPs6WitN-PQW",
        "outputId": "ce414dd4-399f-4fc0-b86e-a0e12223ee42"
      },
      "execution_count": null,
      "outputs": [
        {
          "output_type": "stream",
          "name": "stdout",
          "text": [
            "🎙️ Transcribing slogan audio: slogan_1.mp3\n",
            "✅ Added slogan_1.mp3 to transcriptionsSlogans.txt\n",
            "🎙️ Transcribing slogan audio: slogan_2.mp3\n",
            "✅ Added slogan_2.mp3 to transcriptionsSlogans.txt\n",
            "🎙️ Transcribing slogan audio: slogan_3.mp3\n",
            "✅ Added slogan_3.mp3 to transcriptionsSlogans.txt\n",
            "🎙️ Transcribing slogan audio: slogan_4.mp3\n",
            "✅ Added slogan_4.mp3 to transcriptionsSlogans.txt\n",
            "🎙️ Transcribing slogan audio: slogan_5.mp3\n",
            "✅ Added slogan_5.mp3 to transcriptionsSlogans.txt\n",
            "🎙️ Transcribing slogan audio: slogan_6.mp3\n",
            "✅ Added slogan_6.mp3 to transcriptionsSlogans.txt\n",
            "🎙️ Transcribing slogan audio: slogan_7.mp3\n",
            "✅ Added slogan_7.mp3 to transcriptionsSlogans.txt\n",
            "🎙️ Transcribing slogan audio: slogan_8.mp3\n",
            "✅ Added slogan_8.mp3 to transcriptionsSlogans.txt\n",
            "🎙️ Transcribing slogan audio: slogan_9.mp3\n",
            "✅ Added slogan_9.mp3 to transcriptionsSlogans.txt\n",
            "🎙️ Transcribing slogan audio: slogan_10.mp3\n",
            "✅ Added slogan_10.mp3 to transcriptionsSlogans.txt\n",
            "🎙️ Transcribing slogan audio: slogan_11.mp3\n",
            "✅ Added slogan_11.mp3 to transcriptionsSlogans.txt\n",
            "🎙️ Transcribing slogan audio: slogan_12.mp3\n",
            "✅ Added slogan_12.mp3 to transcriptionsSlogans.txt\n",
            "🎙️ Transcribing slogan audio: slogan_13.mp3\n",
            "✅ Added slogan_13.mp3 to transcriptionsSlogans.txt\n",
            "🎙️ Transcribing slogan audio: slogan_14.mp3\n",
            "✅ Added slogan_14.mp3 to transcriptionsSlogans.txt\n",
            "🎙️ Transcribing slogan audio: slogan_15.mp3\n",
            "✅ Added slogan_15.mp3 to transcriptionsSlogans.txt\n",
            "🎙️ Transcribing slogan audio: slogan_16.mp3\n",
            "✅ Added slogan_16.mp3 to transcriptionsSlogans.txt\n",
            "🎙️ Transcribing slogan audio: slogan_17.mp3\n",
            "✅ Added slogan_17.mp3 to transcriptionsSlogans.txt\n",
            "🎙️ Transcribing slogan audio: slogan_18.mp3\n",
            "✅ Added slogan_18.mp3 to transcriptionsSlogans.txt\n",
            "🎙️ Transcribing slogan audio: slogan_19.mp3\n",
            "✅ Added slogan_19.mp3 to transcriptionsSlogans.txt\n",
            "🎙️ Transcribing slogan audio: slogan_20.mp3\n",
            "✅ Added slogan_20.mp3 to transcriptionsSlogans.txt\n",
            "🎙️ Transcribing slogan audio: slogan_21.mp3\n",
            "✅ Added slogan_21.mp3 to transcriptionsSlogans.txt\n",
            "🎙️ Transcribing slogan audio: slogan_22.mp3\n",
            "✅ Added slogan_22.mp3 to transcriptionsSlogans.txt\n",
            "🎙️ Transcribing slogan audio: slogan_23.mp3\n",
            "✅ Added slogan_23.mp3 to transcriptionsSlogans.txt\n",
            "🎙️ Transcribing slogan audio: slogan_24.mp3\n",
            "✅ Added slogan_24.mp3 to transcriptionsSlogans.txt\n",
            "🎙️ Transcribing slogan audio: slogan_25.mp3\n",
            "✅ Added slogan_25.mp3 to transcriptionsSlogans.txt\n",
            "🎙️ Transcribing slogan audio: slogan_26.mp3\n",
            "✅ Added slogan_26.mp3 to transcriptionsSlogans.txt\n",
            "🎙️ Transcribing slogan audio: slogan_27.mp3\n",
            "✅ Added slogan_27.mp3 to transcriptionsSlogans.txt\n",
            "🎙️ Transcribing slogan audio: slogan_28.mp3\n",
            "✅ Added slogan_28.mp3 to transcriptionsSlogans.txt\n",
            "🎙️ Transcribing slogan audio: slogan_29.mp3\n",
            "✅ Added slogan_29.mp3 to transcriptionsSlogans.txt\n",
            "🎙️ Transcribing slogan audio: slogan_30.mp3\n",
            "✅ Added slogan_30.mp3 to transcriptionsSlogans.txt\n",
            "🎙️ Transcribing slogan audio: slogan_31.mp3\n",
            "✅ Added slogan_31.mp3 to transcriptionsSlogans.txt\n",
            "🎙️ Transcribing slogan audio: slogan_32.mp3\n",
            "✅ Added slogan_32.mp3 to transcriptionsSlogans.txt\n",
            "🎙️ Transcribing slogan audio: slogan_33.mp3\n",
            "✅ Added slogan_33.mp3 to transcriptionsSlogans.txt\n",
            "🎙️ Transcribing slogan audio: slogan_34.mp3\n",
            "✅ Added slogan_34.mp3 to transcriptionsSlogans.txt\n",
            "🎙️ Transcribing slogan audio: slogan_35.mp3\n",
            "✅ Added slogan_35.mp3 to transcriptionsSlogans.txt\n",
            "🎙️ Transcribing slogan audio: slogan_36.mp3\n",
            "✅ Added slogan_36.mp3 to transcriptionsSlogans.txt\n",
            "🎙️ Transcribing slogan audio: slogan_37.mp3\n",
            "✅ Added slogan_37.mp3 to transcriptionsSlogans.txt\n",
            "🎙️ Transcribing slogan audio: slogan_38.mp3\n",
            "✅ Added slogan_38.mp3 to transcriptionsSlogans.txt\n",
            "🎙️ Transcribing slogan audio: slogan_39.mp3\n",
            "✅ Added slogan_39.mp3 to transcriptionsSlogans.txt\n",
            "🎙️ Transcribing slogan audio: slogan_40.mp3\n",
            "✅ Added slogan_40.mp3 to transcriptionsSlogans.txt\n",
            "🎙️ Transcribing slogan audio: slogan_41.mp3\n",
            "✅ Added slogan_41.mp3 to transcriptionsSlogans.txt\n",
            "🎙️ Transcribing slogan audio: slogan_42.mp3\n",
            "✅ Added slogan_42.mp3 to transcriptionsSlogans.txt\n",
            "🎙️ Transcribing slogan audio: slogan_43.mp3\n",
            "✅ Added slogan_43.mp3 to transcriptionsSlogans.txt\n",
            "🎙️ Transcribing slogan audio: slogan_44.mp3\n",
            "✅ Added slogan_44.mp3 to transcriptionsSlogans.txt\n",
            "🎙️ Transcribing slogan audio: slogan_45.mp3\n",
            "✅ Added slogan_45.mp3 to transcriptionsSlogans.txt\n",
            "🎙️ Transcribing slogan audio: slogan_46.mp3\n",
            "✅ Added slogan_46.mp3 to transcriptionsSlogans.txt\n",
            "🎙️ Transcribing slogan audio: slogan_47.mp3\n",
            "✅ Added slogan_47.mp3 to transcriptionsSlogans.txt\n",
            "🎙️ Transcribing slogan audio: slogan_48.mp3\n",
            "✅ Added slogan_48.mp3 to transcriptionsSlogans.txt\n",
            "🎙️ Transcribing slogan audio: slogan_49.mp3\n",
            "✅ Added slogan_49.mp3 to transcriptionsSlogans.txt\n",
            "🎙️ Transcribing slogan audio: slogan_50.mp3\n",
            "✅ Added slogan_50.mp3 to transcriptionsSlogans.txt\n",
            "🎙️ Transcribing slogan audio: slogan_51.mp3\n",
            "✅ Added slogan_51.mp3 to transcriptionsSlogans.txt\n",
            "🎙️ Transcribing slogan audio: slogan_52.mp3\n",
            "✅ Added slogan_52.mp3 to transcriptionsSlogans.txt\n",
            "🎙️ Transcribing slogan audio: slogan_53.mp3\n",
            "✅ Added slogan_53.mp3 to transcriptionsSlogans.txt\n",
            "🎙️ Transcribing slogan audio: slogan_54.mp3\n",
            "✅ Added slogan_54.mp3 to transcriptionsSlogans.txt\n",
            "🎙️ Transcribing slogan audio: slogan_55.mp3\n",
            "✅ Added slogan_55.mp3 to transcriptionsSlogans.txt\n",
            "🎙️ Transcribing slogan audio: slogan_56.mp3\n",
            "✅ Added slogan_56.mp3 to transcriptionsSlogans.txt\n",
            "🎙️ Transcribing slogan audio: slogan_57.mp3\n",
            "✅ Added slogan_57.mp3 to transcriptionsSlogans.txt\n",
            "🎙️ Transcribing slogan audio: slogan_58.mp3\n",
            "✅ Added slogan_58.mp3 to transcriptionsSlogans.txt\n",
            "🎙️ Transcribing slogan audio: slogan_59.mp3\n",
            "✅ Added slogan_59.mp3 to transcriptionsSlogans.txt\n",
            "🎙️ Transcribing slogan audio: slogan_60.mp3\n",
            "✅ Added slogan_60.mp3 to transcriptionsSlogans.txt\n",
            "🎙️ Transcribing slogan audio: slogan_61.mp3\n",
            "✅ Added slogan_61.mp3 to transcriptionsSlogans.txt\n",
            "🎙️ Transcribing slogan audio: slogan_62.mp3\n",
            "✅ Added slogan_62.mp3 to transcriptionsSlogans.txt\n",
            "🎙️ Transcribing slogan audio: slogan_63.mp3\n",
            "✅ Added slogan_63.mp3 to transcriptionsSlogans.txt\n",
            "🎙️ Transcribing slogan audio: slogan_64.mp3\n",
            "✅ Added slogan_64.mp3 to transcriptionsSlogans.txt\n",
            "🎙️ Transcribing slogan audio: slogan_65.mp3\n",
            "✅ Added slogan_65.mp3 to transcriptionsSlogans.txt\n",
            "🎙️ Transcribing slogan audio: slogan_66.mp3\n",
            "✅ Added slogan_66.mp3 to transcriptionsSlogans.txt\n",
            "🎙️ Transcribing slogan audio: slogan_67.mp3\n",
            "✅ Added slogan_67.mp3 to transcriptionsSlogans.txt\n",
            "🎙️ Transcribing slogan audio: slogan_68.mp3\n",
            "✅ Added slogan_68.mp3 to transcriptionsSlogans.txt\n",
            "🎙️ Transcribing slogan audio: slogan_69.mp3\n",
            "✅ Added slogan_69.mp3 to transcriptionsSlogans.txt\n",
            "🎙️ Transcribing slogan audio: slogan_70.mp3\n",
            "✅ Added slogan_70.mp3 to transcriptionsSlogans.txt\n",
            "🎙️ Transcribing slogan audio: slogan_71.mp3\n",
            "✅ Added slogan_71.mp3 to transcriptionsSlogans.txt\n",
            "🎙️ Transcribing slogan audio: slogan_72.mp3\n",
            "✅ Added slogan_72.mp3 to transcriptionsSlogans.txt\n",
            "🎙️ Transcribing slogan audio: slogan_73.mp3\n",
            "✅ Added slogan_73.mp3 to transcriptionsSlogans.txt\n",
            "🎙️ Transcribing slogan audio: slogan_74.mp3\n",
            "✅ Added slogan_74.mp3 to transcriptionsSlogans.txt\n",
            "🎙️ Transcribing slogan audio: slogan_75.mp3\n",
            "✅ Added slogan_75.mp3 to transcriptionsSlogans.txt\n",
            "🎙️ Transcribing slogan audio: slogan_76.mp3\n",
            "✅ Added slogan_76.mp3 to transcriptionsSlogans.txt\n",
            "🎙️ Transcribing slogan audio: slogan_77.mp3\n",
            "✅ Added slogan_77.mp3 to transcriptionsSlogans.txt\n",
            "🎙️ Transcribing slogan audio: slogan_78.mp3\n",
            "✅ Added slogan_78.mp3 to transcriptionsSlogans.txt\n",
            "🎙️ Transcribing slogan audio: slogan_79.mp3\n",
            "✅ Added slogan_79.mp3 to transcriptionsSlogans.txt\n",
            "🎙️ Transcribing slogan audio: slogan_80.mp3\n",
            "✅ Added slogan_80.mp3 to transcriptionsSlogans.txt\n",
            "🎙️ Transcribing slogan audio: slogan_81.mp3\n",
            "✅ Added slogan_81.mp3 to transcriptionsSlogans.txt\n",
            "🎙️ Transcribing slogan audio: slogan_82.mp3\n",
            "✅ Added slogan_82.mp3 to transcriptionsSlogans.txt\n",
            "🎙️ Transcribing slogan audio: slogan_83.mp3\n",
            "✅ Added slogan_83.mp3 to transcriptionsSlogans.txt\n",
            "🎙️ Transcribing slogan audio: slogan_84.mp3\n",
            "✅ Added slogan_84.mp3 to transcriptionsSlogans.txt\n",
            "🎙️ Transcribing slogan audio: slogan_85.mp3\n",
            "✅ Added slogan_85.mp3 to transcriptionsSlogans.txt\n",
            "🎙️ Transcribing slogan audio: slogan_86.mp3\n",
            "✅ Added slogan_86.mp3 to transcriptionsSlogans.txt\n",
            "🎙️ Transcribing slogan audio: slogan_87.mp3\n",
            "✅ Added slogan_87.mp3 to transcriptionsSlogans.txt\n",
            "🎙️ Transcribing slogan audio: slogan_88.mp3\n",
            "✅ Added slogan_88.mp3 to transcriptionsSlogans.txt\n",
            "🎙️ Transcribing slogan audio: slogan_89.mp3\n",
            "✅ Added slogan_89.mp3 to transcriptionsSlogans.txt\n",
            "🎙️ Transcribing slogan audio: slogan_90.mp3\n",
            "✅ Added slogan_90.mp3 to transcriptionsSlogans.txt\n",
            "🎙️ Transcribing slogan audio: slogan_91.mp3\n",
            "✅ Added slogan_91.mp3 to transcriptionsSlogans.txt\n",
            "🎙️ Transcribing slogan audio: slogan_92.mp3\n",
            "✅ Added slogan_92.mp3 to transcriptionsSlogans.txt\n",
            "🎙️ Transcribing slogan audio: slogan_93.mp3\n",
            "✅ Added slogan_93.mp3 to transcriptionsSlogans.txt\n",
            "🎙️ Transcribing slogan audio: slogan_94.mp3\n",
            "✅ Added slogan_94.mp3 to transcriptionsSlogans.txt\n",
            "🎙️ Transcribing slogan audio: slogan_95.mp3\n",
            "✅ Added slogan_95.mp3 to transcriptionsSlogans.txt\n",
            "🎙️ Transcribing slogan audio: slogan_96.mp3\n",
            "✅ Added slogan_96.mp3 to transcriptionsSlogans.txt\n",
            "🎙️ Transcribing slogan audio: slogan_97.mp3\n",
            "✅ Added slogan_97.mp3 to transcriptionsSlogans.txt\n",
            "🎙️ Transcribing slogan audio: slogan_98.mp3\n",
            "✅ Added slogan_98.mp3 to transcriptionsSlogans.txt\n",
            "🎙️ Transcribing slogan audio: slogan_99.mp3\n",
            "✅ Added slogan_99.mp3 to transcriptionsSlogans.txt\n",
            "🎙️ Transcribing slogan audio: slogan_100.mp3\n",
            "✅ Added slogan_100.mp3 to transcriptionsSlogans.txt\n",
            "🎙️ Transcribing slogan audio: slogan_101.mp3\n",
            "✅ Added slogan_101.mp3 to transcriptionsSlogans.txt\n",
            "🎙️ Transcribing slogan audio: slogan_102.mp3\n",
            "✅ Added slogan_102.mp3 to transcriptionsSlogans.txt\n",
            "🎙️ Transcribing slogan audio: slogan_103.mp3\n",
            "✅ Added slogan_103.mp3 to transcriptionsSlogans.txt\n",
            "🎙️ Transcribing slogan audio: slogan_104.mp3\n",
            "✅ Added slogan_104.mp3 to transcriptionsSlogans.txt\n",
            "🎙️ Transcribing slogan audio: slogan_105.mp3\n",
            "✅ Added slogan_105.mp3 to transcriptionsSlogans.txt\n",
            "🎙️ Transcribing slogan audio: slogan_106.mp3\n",
            "✅ Added slogan_106.mp3 to transcriptionsSlogans.txt\n",
            "🎙️ Transcribing slogan audio: slogan_107.mp3\n",
            "✅ Added slogan_107.mp3 to transcriptionsSlogans.txt\n",
            "🎙️ Transcribing slogan audio: slogan_108.mp3\n",
            "✅ Added slogan_108.mp3 to transcriptionsSlogans.txt\n",
            "🎙️ Transcribing slogan audio: slogan_109.mp3\n",
            "✅ Added slogan_109.mp3 to transcriptionsSlogans.txt\n",
            "🎙️ Transcribing slogan audio: slogan_110.mp3\n",
            "✅ Added slogan_110.mp3 to transcriptionsSlogans.txt\n",
            "🎙️ Transcribing slogan audio: slogan_111.mp3\n",
            "✅ Added slogan_111.mp3 to transcriptionsSlogans.txt\n",
            "🎙️ Transcribing slogan audio: slogan_112.mp3\n",
            "✅ Added slogan_112.mp3 to transcriptionsSlogans.txt\n",
            "🎙️ Transcribing slogan audio: slogan_113.mp3\n",
            "✅ Added slogan_113.mp3 to transcriptionsSlogans.txt\n",
            "🎙️ Transcribing slogan audio: slogan_114.mp3\n",
            "✅ Added slogan_114.mp3 to transcriptionsSlogans.txt\n",
            "🎙️ Transcribing slogan audio: slogan_115.mp3\n",
            "✅ Added slogan_115.mp3 to transcriptionsSlogans.txt\n",
            "🎙️ Transcribing slogan audio: slogan_116.mp3\n",
            "✅ Added slogan_116.mp3 to transcriptionsSlogans.txt\n",
            "🎙️ Transcribing slogan audio: slogan_117.mp3\n",
            "✅ Added slogan_117.mp3 to transcriptionsSlogans.txt\n",
            "🎙️ Transcribing slogan audio: slogan_118.mp3\n",
            "✅ Added slogan_118.mp3 to transcriptionsSlogans.txt\n",
            "🎙️ Transcribing slogan audio: slogan_119.mp3\n",
            "✅ Added slogan_119.mp3 to transcriptionsSlogans.txt\n",
            "🎙️ Transcribing slogan audio: slogan_120.mp3\n",
            "✅ Added slogan_120.mp3 to transcriptionsSlogans.txt\n",
            "🎙️ Transcribing slogan audio: slogan_121.mp3\n",
            "✅ Added slogan_121.mp3 to transcriptionsSlogans.txt\n",
            "🎙️ Transcribing slogan audio: slogan_122.mp3\n",
            "✅ Added slogan_122.mp3 to transcriptionsSlogans.txt\n",
            "🎙️ Transcribing slogan audio: slogan_123.mp3\n",
            "✅ Added slogan_123.mp3 to transcriptionsSlogans.txt\n",
            "🎙️ Transcribing slogan audio: slogan_124.mp3\n",
            "✅ Added slogan_124.mp3 to transcriptionsSlogans.txt\n",
            "🎙️ Transcribing slogan audio: slogan_125.mp3\n",
            "✅ Added slogan_125.mp3 to transcriptionsSlogans.txt\n",
            "🎙️ Transcribing slogan audio: slogan_126.mp3\n",
            "✅ Added slogan_126.mp3 to transcriptionsSlogans.txt\n",
            "🎙️ Transcribing slogan audio: slogan_127.mp3\n",
            "✅ Added slogan_127.mp3 to transcriptionsSlogans.txt\n",
            "🎙️ Transcribing slogan audio: slogan_128.mp3\n",
            "✅ Added slogan_128.mp3 to transcriptionsSlogans.txt\n",
            "🎙️ Transcribing slogan audio: slogan_129.mp3\n",
            "✅ Added slogan_129.mp3 to transcriptionsSlogans.txt\n",
            "🎙️ Transcribing slogan audio: slogan_130.mp3\n",
            "✅ Added slogan_130.mp3 to transcriptionsSlogans.txt\n",
            "🎙️ Transcribing slogan audio: slogan_131.mp3\n",
            "✅ Added slogan_131.mp3 to transcriptionsSlogans.txt\n",
            "🎙️ Transcribing slogan audio: slogan_132.mp3\n",
            "✅ Added slogan_132.mp3 to transcriptionsSlogans.txt\n",
            "🎙️ Transcribing slogan audio: slogan_133.mp3\n",
            "✅ Added slogan_133.mp3 to transcriptionsSlogans.txt\n",
            "🎙️ Transcribing slogan audio: slogan_134.mp3\n",
            "✅ Added slogan_134.mp3 to transcriptionsSlogans.txt\n",
            "🎙️ Transcribing slogan audio: slogan_135.mp3\n",
            "✅ Added slogan_135.mp3 to transcriptionsSlogans.txt\n",
            "🎙️ Transcribing slogan audio: slogan_136.mp3\n",
            "✅ Added slogan_136.mp3 to transcriptionsSlogans.txt\n",
            "🎙️ Transcribing slogan audio: slogan_137.mp3\n",
            "✅ Added slogan_137.mp3 to transcriptionsSlogans.txt\n",
            "🎙️ Transcribing slogan audio: slogan_138.mp3\n",
            "✅ Added slogan_138.mp3 to transcriptionsSlogans.txt\n",
            "🎙️ Transcribing slogan audio: slogan_139.mp3\n",
            "✅ Added slogan_139.mp3 to transcriptionsSlogans.txt\n",
            "🎙️ Transcribing slogan audio: slogan_140.mp3\n",
            "✅ Added slogan_140.mp3 to transcriptionsSlogans.txt\n",
            "🎙️ Transcribing slogan audio: slogan_141.mp3\n",
            "✅ Added slogan_141.mp3 to transcriptionsSlogans.txt\n",
            "🎙️ Transcribing slogan audio: slogan_142.mp3\n",
            "✅ Added slogan_142.mp3 to transcriptionsSlogans.txt\n",
            "🎙️ Transcribing slogan audio: slogan_143.mp3\n",
            "✅ Added slogan_143.mp3 to transcriptionsSlogans.txt\n",
            "🎙️ Transcribing slogan audio: slogan_144.mp3\n",
            "✅ Added slogan_144.mp3 to transcriptionsSlogans.txt\n",
            "🎙️ Transcribing slogan audio: slogan_145.mp3\n",
            "✅ Added slogan_145.mp3 to transcriptionsSlogans.txt\n",
            "🎙️ Transcribing slogan audio: slogan_146.mp3\n",
            "✅ Added slogan_146.mp3 to transcriptionsSlogans.txt\n",
            "🎙️ Transcribing slogan audio: slogan_147.mp3\n",
            "✅ Added slogan_147.mp3 to transcriptionsSlogans.txt\n",
            "🎙️ Transcribing slogan audio: slogan_148.mp3\n",
            "✅ Added slogan_148.mp3 to transcriptionsSlogans.txt\n",
            "🎙️ Transcribing slogan audio: slogan_149.mp3\n",
            "✅ Added slogan_149.mp3 to transcriptionsSlogans.txt\n",
            "🎙️ Transcribing slogan audio: slogan_150.mp3\n",
            "✅ Added slogan_150.mp3 to transcriptionsSlogans.txt\n",
            "🎙️ Transcribing slogan audio: slogan_151.mp3\n",
            "✅ Added slogan_151.mp3 to transcriptionsSlogans.txt\n",
            "🎙️ Transcribing slogan audio: slogan_152.mp3\n",
            "✅ Added slogan_152.mp3 to transcriptionsSlogans.txt\n",
            "🎙️ Transcribing slogan audio: slogan_153.mp3\n",
            "✅ Added slogan_153.mp3 to transcriptionsSlogans.txt\n",
            "🎙️ Transcribing slogan audio: slogan_154.mp3\n",
            "✅ Added slogan_154.mp3 to transcriptionsSlogans.txt\n",
            "🎙️ Transcribing slogan audio: slogan_155.mp3\n",
            "✅ Added slogan_155.mp3 to transcriptionsSlogans.txt\n",
            "🎙️ Transcribing slogan audio: slogan_156.mp3\n",
            "✅ Added slogan_156.mp3 to transcriptionsSlogans.txt\n",
            "🎙️ Transcribing slogan audio: slogan_157.mp3\n",
            "✅ Added slogan_157.mp3 to transcriptionsSlogans.txt\n",
            "🎙️ Transcribing slogan audio: slogan_158.mp3\n",
            "✅ Added slogan_158.mp3 to transcriptionsSlogans.txt\n",
            "🎙️ Transcribing slogan audio: slogan_159.mp3\n",
            "✅ Added slogan_159.mp3 to transcriptionsSlogans.txt\n",
            "🎙️ Transcribing slogan audio: slogan_160.mp3\n",
            "✅ Added slogan_160.mp3 to transcriptionsSlogans.txt\n",
            "🎙️ Transcribing slogan audio: slogan_161.mp3\n",
            "✅ Added slogan_161.mp3 to transcriptionsSlogans.txt\n",
            "🎙️ Transcribing slogan audio: slogan_162.mp3\n",
            "✅ Added slogan_162.mp3 to transcriptionsSlogans.txt\n",
            "🎙️ Transcribing slogan audio: slogan_163.mp3\n",
            "✅ Added slogan_163.mp3 to transcriptionsSlogans.txt\n",
            "🎙️ Transcribing slogan audio: slogan_164.mp3\n",
            "✅ Added slogan_164.mp3 to transcriptionsSlogans.txt\n",
            "🎙️ Transcribing slogan audio: slogan_165.mp3\n",
            "✅ Added slogan_165.mp3 to transcriptionsSlogans.txt\n",
            "🎙️ Transcribing slogan audio: slogan_166.mp3\n",
            "✅ Added slogan_166.mp3 to transcriptionsSlogans.txt\n",
            "🎙️ Transcribing slogan audio: slogan_167.mp3\n",
            "✅ Added slogan_167.mp3 to transcriptionsSlogans.txt\n",
            "🎙️ Transcribing slogan audio: slogan_168.mp3\n",
            "✅ Added slogan_168.mp3 to transcriptionsSlogans.txt\n",
            "🎙️ Transcribing slogan audio: slogan_169.mp3\n",
            "✅ Added slogan_169.mp3 to transcriptionsSlogans.txt\n",
            "🎙️ Transcribing slogan audio: slogan_170.mp3\n",
            "✅ Added slogan_170.mp3 to transcriptionsSlogans.txt\n",
            "🎙️ Transcribing slogan audio: slogan_171.mp3\n",
            "✅ Added slogan_171.mp3 to transcriptionsSlogans.txt\n",
            "🎙️ Transcribing slogan audio: slogan_172.mp3\n",
            "✅ Added slogan_172.mp3 to transcriptionsSlogans.txt\n",
            "🎙️ Transcribing slogan audio: slogan_173.mp3\n",
            "✅ Added slogan_173.mp3 to transcriptionsSlogans.txt\n",
            "🎙️ Transcribing slogan audio: slogan_174.mp3\n",
            "✅ Added slogan_174.mp3 to transcriptionsSlogans.txt\n",
            "🎙️ Transcribing slogan audio: slogan_175.mp3\n",
            "✅ Added slogan_175.mp3 to transcriptionsSlogans.txt\n",
            "🎙️ Transcribing slogan audio: slogan_176.mp3\n",
            "✅ Added slogan_176.mp3 to transcriptionsSlogans.txt\n",
            "🎙️ Transcribing slogan audio: slogan_177.mp3\n",
            "✅ Added slogan_177.mp3 to transcriptionsSlogans.txt\n",
            "🎙️ Transcribing slogan audio: slogan_178.mp3\n",
            "✅ Added slogan_178.mp3 to transcriptionsSlogans.txt\n",
            "🎙️ Transcribing slogan audio: slogan_179.mp3\n",
            "✅ Added slogan_179.mp3 to transcriptionsSlogans.txt\n",
            "🎙️ Transcribing slogan audio: slogan_180.mp3\n",
            "✅ Added slogan_180.mp3 to transcriptionsSlogans.txt\n",
            "🎙️ Transcribing slogan audio: slogan_181.mp3\n",
            "✅ Added slogan_181.mp3 to transcriptionsSlogans.txt\n",
            "🎙️ Transcribing slogan audio: slogan_182.mp3\n",
            "✅ Added slogan_182.mp3 to transcriptionsSlogans.txt\n",
            "🎙️ Transcribing slogan audio: slogan_183.mp3\n",
            "✅ Added slogan_183.mp3 to transcriptionsSlogans.txt\n",
            "🎙️ Transcribing slogan audio: slogan_184.mp3\n",
            "✅ Added slogan_184.mp3 to transcriptionsSlogans.txt\n",
            "🎙️ Transcribing slogan audio: slogan_185.mp3\n",
            "✅ Added slogan_185.mp3 to transcriptionsSlogans.txt\n",
            "🎙️ Transcribing slogan audio: slogan_186.mp3\n",
            "✅ Added slogan_186.mp3 to transcriptionsSlogans.txt\n",
            "🎙️ Transcribing slogan audio: slogan_187.mp3\n",
            "✅ Added slogan_187.mp3 to transcriptionsSlogans.txt\n",
            "🎙️ Transcribing slogan audio: slogan_188.mp3\n",
            "✅ Added slogan_188.mp3 to transcriptionsSlogans.txt\n",
            "🎙️ Transcribing slogan audio: slogan_189.mp3\n",
            "✅ Added slogan_189.mp3 to transcriptionsSlogans.txt\n",
            "🎙️ Transcribing slogan audio: slogan_190.mp3\n",
            "✅ Added slogan_190.mp3 to transcriptionsSlogans.txt\n",
            "🎙️ Transcribing slogan audio: slogan_191.mp3\n",
            "✅ Added slogan_191.mp3 to transcriptionsSlogans.txt\n",
            "🎙️ Transcribing slogan audio: slogan_192.mp3\n",
            "✅ Added slogan_192.mp3 to transcriptionsSlogans.txt\n",
            "🎙️ Transcribing slogan audio: slogan_193.mp3\n",
            "✅ Added slogan_193.mp3 to transcriptionsSlogans.txt\n",
            "🎙️ Transcribing slogan audio: slogan_194.mp3\n",
            "✅ Added slogan_194.mp3 to transcriptionsSlogans.txt\n",
            "🎙️ Transcribing slogan audio: slogan_195.mp3\n",
            "✅ Added slogan_195.mp3 to transcriptionsSlogans.txt\n",
            "🎙️ Transcribing slogan audio: slogan_196.mp3\n",
            "✅ Added slogan_196.mp3 to transcriptionsSlogans.txt\n",
            "🎙️ Transcribing slogan audio: slogan_197.mp3\n",
            "✅ Added slogan_197.mp3 to transcriptionsSlogans.txt\n",
            "🎙️ Transcribing slogan audio: slogan_198.mp3\n",
            "✅ Added slogan_198.mp3 to transcriptionsSlogans.txt\n",
            "🎙️ Transcribing slogan audio: slogan_199.mp3\n",
            "✅ Added slogan_199.mp3 to transcriptionsSlogans.txt\n",
            "🎙️ Transcribing slogan audio: slogan_200.mp3\n",
            "✅ Added slogan_200.mp3 to transcriptionsSlogans.txt\n",
            "🎙️ Transcribing slogan audio: slogan_201.mp3\n",
            "✅ Added slogan_201.mp3 to transcriptionsSlogans.txt\n",
            "🎙️ Transcribing slogan audio: slogan_202.mp3\n",
            "✅ Added slogan_202.mp3 to transcriptionsSlogans.txt\n",
            "🎙️ Transcribing slogan audio: slogan_203.mp3\n",
            "✅ Added slogan_203.mp3 to transcriptionsSlogans.txt\n",
            "🎙️ Transcribing slogan audio: slogan_204.mp3\n",
            "✅ Added slogan_204.mp3 to transcriptionsSlogans.txt\n",
            "🎙️ Transcribing slogan audio: slogan_205.mp3\n",
            "✅ Added slogan_205.mp3 to transcriptionsSlogans.txt\n",
            "🎙️ Transcribing slogan audio: slogan_206.mp3\n",
            "✅ Added slogan_206.mp3 to transcriptionsSlogans.txt\n",
            "🎙️ Transcribing slogan audio: slogan_207.mp3\n",
            "✅ Added slogan_207.mp3 to transcriptionsSlogans.txt\n",
            "🎙️ Transcribing slogan audio: slogan_208.mp3\n",
            "✅ Added slogan_208.mp3 to transcriptionsSlogans.txt\n",
            "🎙️ Transcribing slogan audio: slogan_209.mp3\n",
            "✅ Added slogan_209.mp3 to transcriptionsSlogans.txt\n",
            "🎙️ Transcribing slogan audio: slogan_210.mp3\n",
            "✅ Added slogan_210.mp3 to transcriptionsSlogans.txt\n",
            "🎙️ Transcribing slogan audio: slogan_211.mp3\n",
            "✅ Added slogan_211.mp3 to transcriptionsSlogans.txt\n",
            "🎙️ Transcribing slogan audio: slogan_212.mp3\n",
            "✅ Added slogan_212.mp3 to transcriptionsSlogans.txt\n",
            "🎙️ Transcribing slogan audio: slogan_213.mp3\n",
            "✅ Added slogan_213.mp3 to transcriptionsSlogans.txt\n",
            "🎙️ Transcribing slogan audio: slogan_214.mp3\n",
            "✅ Added slogan_214.mp3 to transcriptionsSlogans.txt\n",
            "🎙️ Transcribing slogan audio: slogan_215.mp3\n",
            "✅ Added slogan_215.mp3 to transcriptionsSlogans.txt\n",
            "🎙️ Transcribing slogan audio: slogan_216.mp3\n",
            "✅ Added slogan_216.mp3 to transcriptionsSlogans.txt\n",
            "🎙️ Transcribing slogan audio: slogan_217.mp3\n",
            "✅ Added slogan_217.mp3 to transcriptionsSlogans.txt\n",
            "🎙️ Transcribing slogan audio: slogan_218.mp3\n",
            "✅ Added slogan_218.mp3 to transcriptionsSlogans.txt\n",
            "🎙️ Transcribing slogan audio: slogan_219.mp3\n",
            "✅ Added slogan_219.mp3 to transcriptionsSlogans.txt\n",
            "🎙️ Transcribing slogan audio: slogan_220.mp3\n",
            "✅ Added slogan_220.mp3 to transcriptionsSlogans.txt\n",
            "🎙️ Transcribing slogan audio: slogan_221.mp3\n",
            "✅ Added slogan_221.mp3 to transcriptionsSlogans.txt\n",
            "🎙️ Transcribing slogan audio: slogan_222.mp3\n",
            "✅ Added slogan_222.mp3 to transcriptionsSlogans.txt\n",
            "🎙️ Transcribing slogan audio: slogan_223.mp3\n",
            "✅ Added slogan_223.mp3 to transcriptionsSlogans.txt\n",
            "🎙️ Transcribing slogan audio: slogan_224.mp3\n",
            "✅ Added slogan_224.mp3 to transcriptionsSlogans.txt\n",
            "🎙️ Transcribing slogan audio: slogan_225.mp3\n",
            "✅ Added slogan_225.mp3 to transcriptionsSlogans.txt\n",
            "🎙️ Transcribing slogan audio: slogan_226.mp3\n",
            "✅ Added slogan_226.mp3 to transcriptionsSlogans.txt\n",
            "🎙️ Transcribing slogan audio: slogan_227.mp3\n",
            "✅ Added slogan_227.mp3 to transcriptionsSlogans.txt\n",
            "🎙️ Transcribing slogan audio: slogan_228.mp3\n",
            "✅ Added slogan_228.mp3 to transcriptionsSlogans.txt\n",
            "🎙️ Transcribing slogan audio: slogan_229.mp3\n",
            "✅ Added slogan_229.mp3 to transcriptionsSlogans.txt\n",
            "🎙️ Transcribing slogan audio: slogan_230.mp3\n",
            "✅ Added slogan_230.mp3 to transcriptionsSlogans.txt\n",
            "🎙️ Transcribing slogan audio: slogan_231.mp3\n",
            "✅ Added slogan_231.mp3 to transcriptionsSlogans.txt\n",
            "🎙️ Transcribing slogan audio: slogan_232.mp3\n",
            "✅ Added slogan_232.mp3 to transcriptionsSlogans.txt\n",
            "🎙️ Transcribing slogan audio: slogan_233.mp3\n",
            "✅ Added slogan_233.mp3 to transcriptionsSlogans.txt\n",
            "🎙️ Transcribing slogan audio: slogan_234.mp3\n",
            "✅ Added slogan_234.mp3 to transcriptionsSlogans.txt\n",
            "🎙️ Transcribing slogan audio: slogan_235.mp3\n",
            "✅ Added slogan_235.mp3 to transcriptionsSlogans.txt\n",
            "🎙️ Transcribing slogan audio: slogan_236.mp3\n",
            "✅ Added slogan_236.mp3 to transcriptionsSlogans.txt\n",
            "🎙️ Transcribing slogan audio: slogan_237.mp3\n",
            "✅ Added slogan_237.mp3 to transcriptionsSlogans.txt\n",
            "🎙️ Transcribing slogan audio: slogan_238.mp3\n",
            "✅ Added slogan_238.mp3 to transcriptionsSlogans.txt\n",
            "🎙️ Transcribing slogan audio: slogan_239.mp3\n",
            "✅ Added slogan_239.mp3 to transcriptionsSlogans.txt\n",
            "🎙️ Transcribing slogan audio: slogan_240.mp3\n",
            "✅ Added slogan_240.mp3 to transcriptionsSlogans.txt\n",
            "🎙️ Transcribing slogan audio: slogan_241.mp3\n",
            "✅ Added slogan_241.mp3 to transcriptionsSlogans.txt\n",
            "🎙️ Transcribing slogan audio: slogan_242.mp3\n",
            "✅ Added slogan_242.mp3 to transcriptionsSlogans.txt\n",
            "🎙️ Transcribing slogan audio: slogan_243.mp3\n",
            "✅ Added slogan_243.mp3 to transcriptionsSlogans.txt\n",
            "🎙️ Transcribing slogan audio: slogan_244.mp3\n",
            "✅ Added slogan_244.mp3 to transcriptionsSlogans.txt\n",
            "🎙️ Transcribing slogan audio: slogan_245.mp3\n",
            "✅ Added slogan_245.mp3 to transcriptionsSlogans.txt\n",
            "🎙️ Transcribing slogan audio: slogan_246.mp3\n",
            "✅ Added slogan_246.mp3 to transcriptionsSlogans.txt\n"
          ]
        }
      ]
    },
    {
      "cell_type": "code",
      "source": [
        "import os\n",
        "import whisper\n",
        "import torchaudio\n",
        "\n",
        "# Load Whisper model\n",
        "model = whisper.load_model(\"small\")\n",
        "\n",
        "# Paths\n",
        "base_path = \"/content/drive/MyDrive/YouTube_Scraper1\"\n",
        "tech_folder = os.path.join(base_path, \"tech\")\n",
        "combined_transcription_file = os.path.join(tech_folder, \"transcriptionsTech.txt\")\n",
        "\n",
        "# Max duration (in seconds): 15 minutes\n",
        "MAX_DURATION = 15 * 60  # 900 seconds\n",
        "\n",
        "# Ensure folder exists\n",
        "os.makedirs(tech_folder, exist_ok=True)\n",
        "\n",
        "# Open combined output file\n",
        "with open(combined_transcription_file, \"w\", encoding=\"utf-8\") as outfile:\n",
        "    for filename in os.listdir(tech_folder):\n",
        "        if filename.lower().endswith(\".mp3\"):\n",
        "            audio_path = os.path.join(tech_folder, filename)\n",
        "\n",
        "            # Check duration\n",
        "            try:\n",
        "                metadata = torchaudio.info(audio_path)\n",
        "                duration = metadata.num_frames / metadata.sample_rate\n",
        "            except Exception as e:\n",
        "                print(f\"⚠️ Could not read {filename}: {e}\")\n",
        "                continue\n",
        "\n",
        "            if duration > MAX_DURATION:\n",
        "                print(f\"⏩ Skipping {filename} (longer than 15 minutes)\")\n",
        "                continue\n",
        "\n",
        "            print(f\"🎧 Checking language: {filename}\")\n",
        "            lang_result = model.transcribe(audio_path, task=\"transcribe\", language=None, verbose=False)\n",
        "            detected_lang = lang_result.get(\"language\", \"\")\n",
        "\n",
        "            if detected_lang != \"en\":\n",
        "                print(f\"🌐 Skipping {filename} (language: {detected_lang})\")\n",
        "                continue\n",
        "\n",
        "            print(f\"✅ Transcribing: {filename}\")\n",
        "            text = lang_result[\"text\"]\n",
        "            outfile.write(f\"--- {filename} ---\\n{text}\\n\\n\")\n",
        "            print(f\"📝 Added {filename} to combined transcription.\")\n",
        "\n",
        "print(f\"🎉 Done! Final file saved at:\\n{combined_transcription_file}\")\n"
      ],
      "metadata": {
        "colab": {
          "base_uri": "https://localhost:8080/"
        },
        "id": "HNUX3VFYEHPS",
        "outputId": "62a690bd-a183-4d04-97c4-2646de8edda4"
      },
      "execution_count": null,
      "outputs": [
        {
          "output_type": "stream",
          "name": "stdout",
          "text": [
            "🎧 Checking language: Tech Report： The Latest Tech at CES, Jan. 9.mp3\n",
            "Detected language: English\n"
          ]
        },
        {
          "output_type": "stream",
          "name": "stderr",
          "text": [
            "100%|██████████| 11507/11507 [00:11<00:00, 1036.83frames/s]\n"
          ]
        },
        {
          "output_type": "stream",
          "name": "stdout",
          "text": [
            "✅ Transcribing: Tech Report： The Latest Tech at CES, Jan. 9.mp3\n",
            "📝 Added Tech Report： The Latest Tech at CES, Jan. 9.mp3 to combined transcription.\n",
            "🎧 Checking language: CES Shows Off Latest Tech.mp3\n",
            "Detected language: English\n"
          ]
        },
        {
          "output_type": "stream",
          "name": "stderr",
          "text": [
            "100%|██████████| 11048/11048 [00:08<00:00, 1374.72frames/s]\n"
          ]
        },
        {
          "output_type": "stream",
          "name": "stdout",
          "text": [
            "✅ Transcribing: CES Shows Off Latest Tech.mp3\n",
            "📝 Added CES Shows Off Latest Tech.mp3 to combined transcription.\n",
            "🎧 Checking language: NEW TECH GADGETS AND INVENTIONS ｜ Latest Technology 2020.mp3\n",
            "Detected language: English\n"
          ]
        },
        {
          "output_type": "stream",
          "name": "stderr",
          "text": [
            " 89%|████████▉ | 63448/71154 [00:52<00:06, 1207.16frames/s]\n"
          ]
        },
        {
          "output_type": "stream",
          "name": "stdout",
          "text": [
            "✅ Transcribing: NEW TECH GADGETS AND INVENTIONS ｜ Latest Technology 2020.mp3\n",
            "📝 Added NEW TECH GADGETS AND INVENTIONS ｜ Latest Technology 2020.mp3 to combined transcription.\n",
            "🎧 Checking language: TOP 8 NEW LATEST TECH GADGETS AND INVENTIONS 2021  II THAT ARE ON AN ENTIRELY NEW LEVEL ►3.mp3\n",
            "Detected language: English\n"
          ]
        },
        {
          "output_type": "stream",
          "name": "stderr",
          "text": [
            "  4%|▍         | 2020/53020 [00:05<02:22, 357.53frames/s]\n"
          ]
        },
        {
          "output_type": "stream",
          "name": "stdout",
          "text": [
            "✅ Transcribing: TOP 8 NEW LATEST TECH GADGETS AND INVENTIONS 2021  II THAT ARE ON AN ENTIRELY NEW LEVEL ►3.mp3\n",
            "📝 Added TOP 8 NEW LATEST TECH GADGETS AND INVENTIONS 2021  II THAT ARE ON AN ENTIRELY NEW LEVEL ►3.mp3 to combined transcription.\n",
            "🎧 Checking language: Latest tech news i phone pixel 6 pro.mp3\n",
            "Detected language: English\n"
          ]
        },
        {
          "output_type": "stream",
          "name": "stderr",
          "text": [
            "100%|██████████| 26520/26520 [00:13<00:00, 2028.51frames/s]\n"
          ]
        },
        {
          "output_type": "stream",
          "name": "stdout",
          "text": [
            "✅ Transcribing: Latest tech news i phone pixel 6 pro.mp3\n",
            "📝 Added Latest tech news i phone pixel 6 pro.mp3 to combined transcription.\n",
            "🎧 Checking language: The One Gadget You NEED For The Summer - Latest Tech Deals ｜ Smart Tools - New Inventions.mp3\n",
            "Detected language: English\n"
          ]
        },
        {
          "output_type": "stream",
          "name": "stderr",
          "text": [
            "100%|██████████| 49192/49192 [00:27<00:00, 1790.56frames/s]\n"
          ]
        },
        {
          "output_type": "stream",
          "name": "stdout",
          "text": [
            "✅ Transcribing: The One Gadget You NEED For The Summer - Latest Tech Deals ｜ Smart Tools - New Inventions.mp3\n",
            "📝 Added The One Gadget You NEED For The Summer - Latest Tech Deals ｜ Smart Tools - New Inventions.mp3 to combined transcription.\n",
            "🎧 Checking language: Ease Into the School Year with the Latest Tech Gear.mp3\n",
            "Detected language: English\n"
          ]
        },
        {
          "output_type": "stream",
          "name": "stderr",
          "text": [
            "100%|██████████| 22853/22853 [00:18<00:00, 1265.44frames/s]\n"
          ]
        },
        {
          "output_type": "stream",
          "name": "stdout",
          "text": [
            "✅ Transcribing: Ease Into the School Year with the Latest Tech Gear.mp3\n",
            "📝 Added Ease Into the School Year with the Latest Tech Gear.mp3 to combined transcription.\n",
            "🎧 Checking language: NEW LATEST TECH GADGETS AND INVENTIONS 2022 ｜ THAT ARE ON AN ENTIRELY NEW LEVEL ►3.mp3\n",
            "Detected language: English\n"
          ]
        },
        {
          "output_type": "stream",
          "name": "stderr",
          "text": [
            "100%|██████████| 70536/70536 [00:40<00:00, 1745.41frames/s]\n"
          ]
        },
        {
          "output_type": "stream",
          "name": "stdout",
          "text": [
            "✅ Transcribing: NEW LATEST TECH GADGETS AND INVENTIONS 2022 ｜ THAT ARE ON AN ENTIRELY NEW LEVEL ►3.mp3\n",
            "📝 Added NEW LATEST TECH GADGETS AND INVENTIONS 2022 ｜ THAT ARE ON AN ENTIRELY NEW LEVEL ►3.mp3 to combined transcription.\n",
            "🎧 Checking language: Top 10 Richest technology Companies In The World ｜ latest tech companies top 10 tech companies#tech.mp3\n",
            "Detected language: English\n"
          ]
        },
        {
          "output_type": "stream",
          "name": "stderr",
          "text": [
            "100%|██████████| 33728/33728 [00:20<00:00, 1652.64frames/s]\n"
          ]
        },
        {
          "output_type": "stream",
          "name": "stdout",
          "text": [
            "✅ Transcribing: Top 10 Richest technology Companies In The World ｜ latest tech companies top 10 tech companies#tech.mp3\n",
            "📝 Added Top 10 Richest technology Companies In The World ｜ latest tech companies top 10 tech companies#tech.mp3 to combined transcription.\n",
            "🎧 Checking language: 5 illegal Gadgets, चलाने वाले जरूर जाने 🤯🤯 #shorts  #techmaster.mp3\n",
            "Detected language: Hindi\n"
          ]
        },
        {
          "output_type": "stream",
          "name": "stderr",
          "text": [
            "100%|██████████| 5160/5160 [00:13<00:00, 389.46frames/s]\n"
          ]
        },
        {
          "output_type": "stream",
          "name": "stdout",
          "text": [
            "🌐 Skipping 5 illegal Gadgets, चलाने वाले जरूर जाने 🤯🤯 #shorts  #techmaster.mp3 (language: hi)\n",
            "🎧 Checking language: 13 Coolest Tech Gadgets On The Latest Best Gadgets.mp3\n",
            "Detected language: English\n"
          ]
        },
        {
          "output_type": "stream",
          "name": "stderr",
          "text": [
            " 99%|█████████▊| 58856/59708 [00:36<00:00, 1608.06frames/s]\n"
          ]
        },
        {
          "output_type": "stream",
          "name": "stdout",
          "text": [
            "✅ Transcribing: 13 Coolest Tech Gadgets On The Latest Best Gadgets.mp3\n",
            "📝 Added 13 Coolest Tech Gadgets On The Latest Best Gadgets.mp3 to combined transcription.\n",
            "🎧 Checking language: Is This Tesla's Worst Nightmare？ ｜ Latest Tech News.mp3\n",
            "Detected language: English\n"
          ]
        },
        {
          "output_type": "stream",
          "name": "stderr",
          "text": [
            "100%|██████████| 5482/5482 [00:03<00:00, 1606.43frames/s]\n"
          ]
        },
        {
          "output_type": "stream",
          "name": "stdout",
          "text": [
            "✅ Transcribing: Is This Tesla's Worst Nightmare？ ｜ Latest Tech News.mp3\n",
            "📝 Added Is This Tesla's Worst Nightmare？ ｜ Latest Tech News.mp3 to combined transcription.\n",
            "⏩ Skipping Past And Present Technology Then And Now.mp3 (longer than 15 minutes)\n",
            "🎧 Checking language: Latest gadgets 2024 amazon ! -Tech and Gadget Agency.mp3\n",
            "Detected language: English\n"
          ]
        },
        {
          "output_type": "stream",
          "name": "stderr",
          "text": [
            "100%|██████████| 2712/2712 [00:02<00:00, 1326.63frames/s]\n"
          ]
        },
        {
          "output_type": "stream",
          "name": "stdout",
          "text": [
            "✅ Transcribing: Latest gadgets 2024 amazon ! -Tech and Gadget Agency.mp3\n",
            "📝 Added Latest gadgets 2024 amazon ! -Tech and Gadget Agency.mp3 to combined transcription.\n",
            "⏩ Skipping Switches are Clicky; Here's Why.mp3 (longer than 15 minutes)\n",
            "⏩ Skipping Forbidden Technologies and The Silencing of Their Inventors.mp3 (longer than 15 minutes)\n",
            "⏩ Skipping Pre-Egyptian Technology Left By an Advanced Civilization That Disappeared.mp3 (longer than 15 minutes)\n",
            "⏩ Skipping 'Bloomberg West' brings you the latest tech news LIVE from Silicon Valley.mp3 (longer than 15 minutes)\n",
            "⏩ Skipping Future of Technology (2030 - 10,000 A.D.+).mp3 (longer than 15 minutes)\n",
            "🎧 Checking language: What Quantum Computers REALLY Do.mp3\n",
            "Detected language: English\n"
          ]
        },
        {
          "output_type": "stream",
          "name": "stderr",
          "text": [
            "100%|██████████| 5959/5959 [00:05<00:00, 1148.56frames/s]\n"
          ]
        },
        {
          "output_type": "stream",
          "name": "stdout",
          "text": [
            "✅ Transcribing: What Quantum Computers REALLY Do.mp3\n",
            "📝 Added What Quantum Computers REALLY Do.mp3 to combined transcription.\n",
            "⏩ Skipping Why AI Is Tech's Latest Hoax.mp3 (longer than 15 minutes)\n",
            "🎧 Checking language: The REAL Reason AMD Gave Up High-End Gaming GPUs… - Tech News Sept 15.mp3\n",
            "Detected language: English\n"
          ]
        },
        {
          "output_type": "stream",
          "name": "stderr",
          "text": [
            "100%|██████████| 71780/71780 [00:56<00:00, 1269.79frames/s]\n"
          ]
        },
        {
          "output_type": "stream",
          "name": "stdout",
          "text": [
            "✅ Transcribing: The REAL Reason AMD Gave Up High-End Gaming GPUs… - Tech News Sept 15.mp3\n",
            "📝 Added The REAL Reason AMD Gave Up High-End Gaming GPUs… - Tech News Sept 15.mp3 to combined transcription.\n",
            "⏩ Skipping Level 1 to 100 Science Gadgets.mp3 (longer than 15 minutes)\n",
            "⏩ Skipping Chef Critically Reviews Kitchen Gadgets ｜ S3 E7.mp3 (longer than 15 minutes)\n",
            "⏩ Skipping What do tech pioneers think about the AI revolution？ - BBC World Service.mp3 (longer than 15 minutes)\n",
            "🎧 Checking language: Bill Gates： AI Is ＂The First Technology That Has No Limit＂.mp3\n",
            "Detected language: English\n"
          ]
        },
        {
          "output_type": "stream",
          "name": "stderr",
          "text": [
            " 97%|█████████▋| 35768/36877 [00:28<00:00, 1276.97frames/s]\n"
          ]
        },
        {
          "output_type": "stream",
          "name": "stdout",
          "text": [
            "✅ Transcribing: Bill Gates： AI Is ＂The First Technology That Has No Limit＂.mp3\n",
            "📝 Added Bill Gates： AI Is ＂The First Technology That Has No Limit＂.mp3 to combined transcription.\n",
            "⏩ Skipping Chef Reviews MORE JAPANESE Kitchen Gadgets.mp3 (longer than 15 minutes)\n",
            "🎧 Checking language: Wireless PoE？ UniFi's Latest Tech Breakthrough EXPLAINED ｜ Unifi Device Bridge (UDB).mp3\n",
            "Detected language: English\n"
          ]
        },
        {
          "output_type": "stream",
          "name": "stderr",
          "text": [
            "100%|██████████| 45425/45425 [00:40<00:00, 1135.46frames/s]\n"
          ]
        },
        {
          "output_type": "stream",
          "name": "stdout",
          "text": [
            "✅ Transcribing: Wireless PoE？ UniFi's Latest Tech Breakthrough EXPLAINED ｜ Unifi Device Bridge (UDB).mp3\n",
            "📝 Added Wireless PoE？ UniFi's Latest Tech Breakthrough EXPLAINED ｜ Unifi Device Bridge (UDB).mp3 to combined transcription.\n",
            "⏩ Skipping ON POINT or POINTLESS？! Chef Reviews Kitchen Gadgets.mp3 (longer than 15 minutes)\n",
            "🎧 Checking language: Is AI the most important technology of the century？.mp3\n",
            "Detected language: English\n"
          ]
        },
        {
          "output_type": "stream",
          "name": "stderr",
          "text": [
            "100%|██████████| 31970/31970 [00:17<00:00, 1847.66frames/s]\n"
          ]
        },
        {
          "output_type": "stream",
          "name": "stdout",
          "text": [
            "✅ Transcribing: Is AI the most important technology of the century？.mp3\n",
            "📝 Added Is AI the most important technology of the century？.mp3 to combined transcription.\n",
            "⏩ Skipping Computer & Technology Basics Course for Absolute Beginners.mp3 (longer than 15 minutes)\n",
            "⏩ Skipping Exploring the Technology Connections Set (1 million subscribers special).mp3 (longer than 15 minutes)\n",
            "🎧 Checking language: Today's Latest Tech News 🔥 ｜ Quick Look at Key Developments.mp3\n",
            "Detected language: English\n"
          ]
        },
        {
          "output_type": "stream",
          "name": "stderr",
          "text": [
            "100%|██████████| 5433/5433 [00:04<00:00, 1353.17frames/s]\n"
          ]
        },
        {
          "output_type": "stream",
          "name": "stdout",
          "text": [
            "✅ Transcribing: Today's Latest Tech News 🔥 ｜ Quick Look at Key Developments.mp3\n",
            "📝 Added Today's Latest Tech News 🔥 ｜ Quick Look at Key Developments.mp3 to combined transcription.\n",
            "🎧 Checking language: Cool Items!🥰 New Gadgets, Smart Appliances, Kitchen Tools Utensils, Home Cleaning, Beauty #shorts.mp3\n",
            "Detected language: Chinese\n"
          ]
        },
        {
          "output_type": "stream",
          "name": "stderr",
          "text": [
            "100%|██████████| 1479/1479 [00:00<00:00, 3303.58frames/s]\n"
          ]
        },
        {
          "output_type": "stream",
          "name": "stdout",
          "text": [
            "🌐 Skipping Cool Items!🥰 New Gadgets, Smart Appliances, Kitchen Tools Utensils, Home Cleaning, Beauty #shorts.mp3 (language: zh)\n",
            "🎧 Checking language: 12 Predictions for the Future of Technology ｜ Vinod Khosla ｜ TED.mp3\n",
            "Detected language: English\n"
          ]
        },
        {
          "output_type": "stream",
          "name": "stderr",
          "text": [
            "100%|██████████| 57191/57191 [00:34<00:00, 1652.07frames/s]\n"
          ]
        },
        {
          "output_type": "stream",
          "name": "stdout",
          "text": [
            "✅ Transcribing: 12 Predictions for the Future of Technology ｜ Vinod Khosla ｜ TED.mp3\n",
            "📝 Added 12 Predictions for the Future of Technology ｜ Vinod Khosla ｜ TED.mp3 to combined transcription.\n",
            "⏩ Skipping 23 Effortless RV Gadgets - WORTH EVERY CENT!.mp3 (longer than 15 minutes)\n",
            "⏩ Skipping Big Tech Earnings, Reid Hoffman and the Election ｜ Bloomberg Technology.mp3 (longer than 15 minutes)\n",
            "⏩ Skipping Simmerstats： The genius old tech that controls your stovetop.mp3 (longer than 15 minutes)\n",
            "🎧 Checking language: Intel is cooked. - Tech News Nov 10.mp3\n",
            "Detected language: English\n"
          ]
        },
        {
          "output_type": "stream",
          "name": "stderr",
          "text": [
            "100%|██████████| 63951/63951 [00:46<00:00, 1364.51frames/s]\n"
          ]
        },
        {
          "output_type": "stream",
          "name": "stdout",
          "text": [
            "✅ Transcribing: Intel is cooked. - Tech News Nov 10.mp3\n",
            "📝 Added Intel is cooked. - Tech News Nov 10.mp3 to combined transcription.\n",
            "⏩ Skipping Excellent Technology! Top 10 Amazing Mass Production Factories With the Most Views.mp3 (longer than 15 minutes)\n",
            "⏩ Skipping I Tested the World's Smallest Gadgets!.mp3 (longer than 15 minutes)\n",
            "⏩ Skipping Chef Reviews more ‘Smart’ Kitchen Gadgets!.mp3 (longer than 15 minutes)\n",
            "⏩ Skipping Reviewing Japanese Kitchen Gadgets ｜ Sorted Food.mp3 (longer than 15 minutes)\n",
            "🎧 Checking language: Huawei to launch phone with its own software as the US-China tech split widens.mp3\n",
            "Detected language: English\n"
          ]
        },
        {
          "output_type": "stream",
          "name": "stderr",
          "text": [
            "100%|██████████| 22272/22272 [00:17<00:00, 1297.05frames/s]\n"
          ]
        },
        {
          "output_type": "stream",
          "name": "stdout",
          "text": [
            "✅ Transcribing: Huawei to launch phone with its own software as the US-China tech split widens.mp3\n",
            "📝 Added Huawei to launch phone with its own software as the US-China tech split widens.mp3 to combined transcription.\n",
            "⏩ Skipping Trying 3 Weird Needle Felting Gadgets (1 was AWFUL).mp3 (longer than 15 minutes)\n",
            "⏩ Skipping Testing ANTIQUE Kitchen Gadgets with a Chef and a Food History EXPERT! ｜ feat. @TastingHistory.mp3 (longer than 15 minutes)\n",
            "⏩ Skipping Reviewing PRO Kitchen Gadgets ｜ Sorted Food.mp3 (longer than 15 minutes)\n",
            "🎧 Checking language: Google Computer Solves Septillion-Year Task in Minutes.mp3\n",
            "Detected language: English\n"
          ]
        },
        {
          "output_type": "stream",
          "name": "stderr",
          "text": [
            "100%|██████████| 22115/22115 [00:11<00:00, 1895.55frames/s]\n"
          ]
        },
        {
          "output_type": "stream",
          "name": "stdout",
          "text": [
            "✅ Transcribing: Google Computer Solves Septillion-Year Task in Minutes.mp3\n",
            "📝 Added Google Computer Solves Septillion-Year Task in Minutes.mp3 to combined transcription.\n",
            "⏩ Skipping I Tested Extreme PROFESSIONAL vs HOME Kitchen Gadgets! 🔪.mp3 (longer than 15 minutes)\n",
            "⏩ Skipping Reviewing Kitchen Gadgets ｜ S3 E6 Sorted Food.mp3 (longer than 15 minutes)\n",
            "⏩ Skipping It’s Been a Good Run, Phone Providers (Part 2).mp3 (longer than 15 minutes)\n",
            "🎧 Checking language: Huge Breakthrough in Quantum Computing.mp3\n",
            "Detected language: English\n"
          ]
        },
        {
          "output_type": "stream",
          "name": "stderr",
          "text": [
            "100%|██████████| 5230/5230 [00:05<00:00, 899.77frames/s]\n"
          ]
        },
        {
          "output_type": "stream",
          "name": "stdout",
          "text": [
            "✅ Transcribing: Huge Breakthrough in Quantum Computing.mp3\n",
            "📝 Added Huge Breakthrough in Quantum Computing.mp3 to combined transcription.\n",
            "⏩ Skipping Testing Viral Kitchen Gadgets ft the Pyramid Pan.mp3 (longer than 15 minutes)\n",
            "⏩ Skipping 20 Emerging Technologies That Will Change The World.mp3 (longer than 15 minutes)\n",
            "🎧 Checking language: Why Amazon, Microsoft, Google And Meta Are Investing In Nuclear Power.mp3\n",
            "Detected language: English\n"
          ]
        },
        {
          "output_type": "stream",
          "name": "stderr",
          "text": [
            "100%|██████████| 74462/74462 [00:52<00:00, 1427.61frames/s]\n"
          ]
        },
        {
          "output_type": "stream",
          "name": "stdout",
          "text": [
            "✅ Transcribing: Why Amazon, Microsoft, Google And Meta Are Investing In Nuclear Power.mp3\n",
            "📝 Added Why Amazon, Microsoft, Google And Meta Are Investing In Nuclear Power.mp3 to combined transcription.\n",
            "🎧 Checking language: I Tested The MOST UNDERRATED Kitchen Gadgets! 🔪.mp3\n",
            "Detected language: English\n"
          ]
        },
        {
          "output_type": "stream",
          "name": "stderr",
          "text": [
            "100%|██████████| 62792/62792 [00:50<00:00, 1231.62frames/s]\n"
          ]
        },
        {
          "output_type": "stream",
          "name": "stdout",
          "text": [
            "✅ Transcribing: I Tested The MOST UNDERRATED Kitchen Gadgets! 🔪.mp3\n",
            "📝 Added I Tested The MOST UNDERRATED Kitchen Gadgets! 🔪.mp3 to combined transcription.\n",
            "⏩ Skipping China Has Launched New Generation Transport SHOCKING The US.mp3 (longer than 15 minutes)\n",
            "⏩ Skipping Meta, Big Tech Make Political Shifts ｜ Bloomberg Technology.mp3 (longer than 15 minutes)\n",
            "⏩ Skipping Reviewing PROFESSIONAL Kitchen Gadgets Vol.4 ｜ Sorted Food.mp3 (longer than 15 minutes)\n",
            "🎧 Checking language: 8 Coolest Tech CES 2025 Day 1.mp3\n",
            "Detected language: English\n"
          ]
        },
        {
          "output_type": "stream",
          "name": "stderr",
          "text": [
            "100%|██████████| 65893/65893 [00:50<00:00, 1303.93frames/s]\n"
          ]
        },
        {
          "output_type": "stream",
          "name": "stdout",
          "text": [
            "✅ Transcribing: 8 Coolest Tech CES 2025 Day 1.mp3\n",
            "📝 Added 8 Coolest Tech CES 2025 Day 1.mp3 to combined transcription.\n",
            "⏩ Skipping 20 Military Technologies That Will Change The World.mp3 (longer than 15 minutes)\n",
            "🎧 Checking language: This is ‘the most profound advance in technology ever,’ according to Bill Gates.mp3\n",
            "Detected language: English\n"
          ]
        },
        {
          "output_type": "stream",
          "name": "stderr",
          "text": [
            "100%|██████████| 59777/59777 [00:32<00:00, 1815.91frames/s]\n"
          ]
        },
        {
          "output_type": "stream",
          "name": "stdout",
          "text": [
            "✅ Transcribing: This is ‘the most profound advance in technology ever,’ according to Bill Gates.mp3\n",
            "📝 Added This is ‘the most profound advance in technology ever,’ according to Bill Gates.mp3 to combined transcription.\n",
            "🎧 Checking language: Why U.S. Tech Companies Struggle To Replicate China's WeChat 'Super App' Model.mp3\n",
            "Detected language: English\n"
          ]
        },
        {
          "output_type": "stream",
          "name": "stderr",
          "text": [
            "100%|██████████| 67138/67138 [00:48<00:00, 1378.50frames/s]\n"
          ]
        },
        {
          "output_type": "stream",
          "name": "stdout",
          "text": [
            "✅ Transcribing: Why U.S. Tech Companies Struggle To Replicate China's WeChat 'Super App' Model.mp3\n",
            "📝 Added Why U.S. Tech Companies Struggle To Replicate China's WeChat 'Super App' Model.mp3 to combined transcription.\n",
            "🎧 Checking language: Fast food goes high tech with new A.I. drive-thrus.mp3\n",
            "Detected language: English\n"
          ]
        },
        {
          "output_type": "stream",
          "name": "stderr",
          "text": [
            "100%|██████████| 17235/17235 [00:12<00:00, 1386.22frames/s]\n"
          ]
        },
        {
          "output_type": "stream",
          "name": "stdout",
          "text": [
            "✅ Transcribing: Fast food goes high tech with new A.I. drive-thrus.mp3\n",
            "📝 Added Fast food goes high tech with new A.I. drive-thrus.mp3 to combined transcription.\n",
            "🎧 Checking language: Why DeepSeek May Not Be All Bad News for Nvidia, Big Tech Shares.mp3\n",
            "Detected language: English\n"
          ]
        },
        {
          "output_type": "stream",
          "name": "stderr",
          "text": [
            "100%|██████████| 42933/42933 [00:37<00:00, 1134.82frames/s]\n"
          ]
        },
        {
          "output_type": "stream",
          "name": "stdout",
          "text": [
            "✅ Transcribing: Why DeepSeek May Not Be All Bad News for Nvidia, Big Tech Shares.mp3\n",
            "📝 Added Why DeepSeek May Not Be All Bad News for Nvidia, Big Tech Shares.mp3 to combined transcription.\n",
            "🎧 Checking language: DeepSeek： Chinese AI app shocks tech world： BBC Learning English from the News.mp3\n",
            "Detected language: English\n"
          ]
        },
        {
          "output_type": "stream",
          "name": "stderr",
          "text": [
            "100%|██████████| 51153/51153 [00:33<00:00, 1548.58frames/s]\n"
          ]
        },
        {
          "output_type": "stream",
          "name": "stdout",
          "text": [
            "✅ Transcribing: DeepSeek： Chinese AI app shocks tech world： BBC Learning English from the News.mp3\n",
            "📝 Added DeepSeek： Chinese AI app shocks tech world： BBC Learning English from the News.mp3 to combined transcription.\n",
            "🎧 Checking language: The latest invention from China： a high-tech intelligent bionic hand ｜ MuskTalk007.mp3\n",
            "Detected language: Chinese\n"
          ]
        },
        {
          "output_type": "stream",
          "name": "stderr",
          "text": [
            " 89%|████████▉ | 24509/27509 [00:57<00:06, 428.59frames/s]\n"
          ]
        },
        {
          "output_type": "stream",
          "name": "stdout",
          "text": [
            "🌐 Skipping The latest invention from China： a high-tech intelligent bionic hand ｜ MuskTalk007.mp3 (language: zh)\n",
            "🎧 Checking language: China's DeepSeek Showcases Tech Advances Despite US Curbs.mp3\n",
            "Detected language: English\n"
          ]
        },
        {
          "output_type": "stream",
          "name": "stderr",
          "text": [
            "100%|██████████| 30534/30534 [00:19<00:00, 1552.08frames/s]\n"
          ]
        },
        {
          "output_type": "stream",
          "name": "stdout",
          "text": [
            "✅ Transcribing: China's DeepSeek Showcases Tech Advances Despite US Curbs.mp3\n",
            "📝 Added China's DeepSeek Showcases Tech Advances Despite US Curbs.mp3 to combined transcription.\n",
            "🎧 Checking language: China's DeepSeek triggers global tech sell-off.mp3\n",
            "Detected language: English\n"
          ]
        },
        {
          "output_type": "stream",
          "name": "stderr",
          "text": [
            "100%|██████████| 50217/50217 [00:46<00:00, 1091.56frames/s]\n"
          ]
        },
        {
          "output_type": "stream",
          "name": "stdout",
          "text": [
            "✅ Transcribing: China's DeepSeek triggers global tech sell-off.mp3\n",
            "📝 Added China's DeepSeek triggers global tech sell-off.mp3 to combined transcription.\n",
            "⏩ Skipping Trump Tariffs Roil Markets, Musk's DOGE In Action ｜ Bloomberg Technology.mp3 (longer than 15 minutes)\n",
            "🎧 Checking language: GPU Situation： BAD, Getting WORSE - Tech News Feb 9.mp3\n",
            "Detected language: English\n"
          ]
        },
        {
          "output_type": "stream",
          "name": "stderr",
          "text": [
            "100%|██████████| 67577/67577 [00:50<00:00, 1333.14frames/s]\n"
          ]
        },
        {
          "output_type": "stream",
          "name": "stdout",
          "text": [
            "✅ Transcribing: GPU Situation： BAD, Getting WORSE - Tech News Feb 9.mp3\n",
            "📝 Added GPU Situation： BAD, Getting WORSE - Tech News Feb 9.mp3 to combined transcription.\n",
            "⏩ Skipping Science Gadgets That Give You REAL Superpowers!.mp3 (longer than 15 minutes)\n",
            "⏩ Skipping The clever feature that makes cheap heaters safe — and why they're actually dangerous.mp3 (longer than 15 minutes)\n",
            "⏩ Skipping 20 Future Technologies That Will Change the World.mp3 (longer than 15 minutes)\n",
            "⏩ Skipping Paris Looks to AI, DOGE Probes Treasury 'Irregularities' ｜ Bloomberg Technology.mp3 (longer than 15 minutes)\n",
            "🎧 Checking language: What’s Really Happening with DeepSeek.mp3\n",
            "Detected language: English\n"
          ]
        },
        {
          "output_type": "stream",
          "name": "stderr",
          "text": [
            "100%|██████████| 5726/5726 [00:05<00:00, 1048.09frames/s]\n"
          ]
        },
        {
          "output_type": "stream",
          "name": "stdout",
          "text": [
            "✅ Transcribing: What’s Really Happening with DeepSeek.mp3\n",
            "📝 Added What’s Really Happening with DeepSeek.mp3 to combined transcription.\n",
            "🎧 Checking language: Gadgets of Yesteryear! (Sharper Image Edition).mp3\n",
            "Detected language: English\n"
          ]
        },
        {
          "output_type": "stream",
          "name": "stderr",
          "text": [
            "100%|██████████| 83647/83647 [01:14<00:00, 1129.51frames/s]\n"
          ]
        },
        {
          "output_type": "stream",
          "name": "stdout",
          "text": [
            "✅ Transcribing: Gadgets of Yesteryear! (Sharper Image Edition).mp3\n",
            "📝 Added Gadgets of Yesteryear! (Sharper Image Edition).mp3 to combined transcription.\n",
            "⏩ Skipping Trump's TSMC Investment, Hulu Oscar Glitches ｜ Bloomberg Technology.mp3 (longer than 15 minutes)\n",
            "🎧 Checking language: I Tried Meta's New Prototype AR Glasses.mp3\n",
            "Detected language: English\n"
          ]
        },
        {
          "output_type": "stream",
          "name": "stderr",
          "text": [
            "100%|██████████| 5164/5164 [00:04<00:00, 1276.59frames/s]\n"
          ]
        },
        {
          "output_type": "stream",
          "name": "stdout",
          "text": [
            "✅ Transcribing: I Tried Meta's New Prototype AR Glasses.mp3\n",
            "📝 Added I Tried Meta's New Prototype AR Glasses.mp3 to combined transcription.\n",
            "🎧 Checking language: DeepSeek, TikTok, Temu： How China is taking the lead in tech - BBC World Service.mp3\n",
            "Detected language: English\n"
          ]
        },
        {
          "output_type": "stream",
          "name": "stderr",
          "text": [
            "100%|██████████| 42696/42696 [00:26<00:00, 1641.78frames/s]\n"
          ]
        },
        {
          "output_type": "stream",
          "name": "stdout",
          "text": [
            "✅ Transcribing: DeepSeek, TikTok, Temu： How China is taking the lead in tech - BBC World Service.mp3\n",
            "📝 Added DeepSeek, TikTok, Temu： How China is taking the lead in tech - BBC World Service.mp3 to combined transcription.\n",
            "🎧 Checking language: The AI trade's new home： China.mp3\n",
            "Detected language: English\n"
          ]
        },
        {
          "output_type": "stream",
          "name": "stderr",
          "text": [
            "100%|██████████| 16544/16544 [00:10<00:00, 1529.16frames/s]\n"
          ]
        },
        {
          "output_type": "stream",
          "name": "stdout",
          "text": [
            "✅ Transcribing: The AI trade's new home： China.mp3\n",
            "📝 Added The AI trade's new home： China.mp3 to combined transcription.\n",
            "⏩ Skipping Primitive Technology： Water powered forge blower.mp3 (longer than 15 minutes)\n",
            "⏩ Skipping AI Fuels Tech Selloff, President Trump To Meet Tech CEOs ｜ Bloomberg Technology.mp3 (longer than 15 minutes)\n",
            "🎧 Checking language: Ark Invest on Tesla, Robotaxis & China Tech.mp3\n",
            "Detected language: English\n"
          ]
        },
        {
          "output_type": "stream",
          "name": "stderr",
          "text": [
            "100%|██████████| 87884/87884 [01:05<00:00, 1347.75frames/s]\n"
          ]
        },
        {
          "output_type": "stream",
          "name": "stdout",
          "text": [
            "✅ Transcribing: Ark Invest on Tesla, Robotaxis & China Tech.mp3\n",
            "📝 Added Ark Invest on Tesla, Robotaxis & China Tech.mp3 to combined transcription.\n",
            "🎧 Checking language: 'IRONY'： Tech billionaire threatens to fire staffers for leaking info.mp3\n",
            "Detected language: English\n"
          ]
        },
        {
          "output_type": "stream",
          "name": "stderr",
          "text": [
            "100%|██████████| 72503/72503 [00:52<00:00, 1388.95frames/s]\n"
          ]
        },
        {
          "output_type": "stream",
          "name": "stdout",
          "text": [
            "✅ Transcribing: 'IRONY'： Tech billionaire threatens to fire staffers for leaking info.mp3\n",
            "📝 Added 'IRONY'： Tech billionaire threatens to fire staffers for leaking info.mp3 to combined transcription.\n",
            "🎧 Checking language: The Devastating Aftermath： 9070 XT ⧸ RTX 5070 Launch Week - Tech News March 9.mp3\n",
            "Detected language: English\n"
          ]
        },
        {
          "output_type": "stream",
          "name": "stderr",
          "text": [
            "100%|██████████| 67985/67985 [00:51<00:00, 1309.98frames/s]\n"
          ]
        },
        {
          "output_type": "stream",
          "name": "stdout",
          "text": [
            "✅ Transcribing: The Devastating Aftermath： 9070 XT ⧸ RTX 5070 Launch Week - Tech News March 9.mp3\n",
            "📝 Added The Devastating Aftermath： 9070 XT ⧸ RTX 5070 Launch Week - Tech News March 9.mp3 to combined transcription.\n",
            "🎧 Checking language: How to Turn On Fitbit Charge 6 Always On Display.mp3\n",
            "Detected language: English\n"
          ]
        },
        {
          "output_type": "stream",
          "name": "stderr",
          "text": [
            "100%|██████████| 5548/5548 [00:03<00:00, 1416.34frames/s]\n"
          ]
        },
        {
          "output_type": "stream",
          "name": "stdout",
          "text": [
            "✅ Transcribing: How to Turn On Fitbit Charge 6 Always On Display.mp3\n",
            "📝 Added How to Turn On Fitbit Charge 6 Always On Display.mp3 to combined transcription.\n",
            "🎧 Checking language: Can You Build a POWERFUL Gaming and Streaming PC for Under 30K？ 🚀.mp3\n",
            "Detected language: English\n"
          ]
        },
        {
          "output_type": "stream",
          "name": "stderr",
          "text": [
            "100%|██████████| 2124/2124 [00:01<00:00, 1323.68frames/s]\n"
          ]
        },
        {
          "output_type": "stream",
          "name": "stdout",
          "text": [
            "✅ Transcribing: Can You Build a POWERFUL Gaming and Streaming PC for Under 30K？ 🚀.mp3\n",
            "📝 Added Can You Build a POWERFUL Gaming and Streaming PC for Under 30K？ 🚀.mp3 to combined transcription.\n",
            "⏩ Skipping China JUST Released NEW AI Glasses That SHOCK The US.mp3 (longer than 15 minutes)\n",
            "⏩ Skipping Reviewing PROFESSIONAL Kitchen Gadgets Vol.5 ｜ Sorted Food.mp3 (longer than 15 minutes)\n",
            "🎧 Checking language: Trump meets with tech leaders at the White House ｜ NewsNation Now.mp3\n",
            "Detected language: English\n"
          ]
        },
        {
          "output_type": "stream",
          "name": "stderr",
          "text": [
            "100%|██████████| 30201/30201 [00:20<00:00, 1476.89frames/s]\n"
          ]
        },
        {
          "output_type": "stream",
          "name": "stdout",
          "text": [
            "✅ Transcribing: Trump meets with tech leaders at the White House ｜ NewsNation Now.mp3\n",
            "📝 Added Trump meets with tech leaders at the White House ｜ NewsNation Now.mp3 to combined transcription.\n",
            "🎧 Checking language: ＂Don't Fear Recession,＂ Balance Big Tech with Defense Stocks.mp3\n",
            "Detected language: English\n"
          ]
        },
        {
          "output_type": "stream",
          "name": "stderr",
          "text": [
            "100%|██████████| 46719/46719 [00:32<00:00, 1426.16frames/s]\n"
          ]
        },
        {
          "output_type": "stream",
          "name": "stdout",
          "text": [
            "✅ Transcribing: ＂Don't Fear Recession,＂ Balance Big Tech with Defense Stocks.mp3\n",
            "📝 Added ＂Don't Fear Recession,＂ Balance Big Tech with Defense Stocks.mp3 to combined transcription.\n",
            "⏩ Skipping ServiceNow's $3 Billion AI Bet, Crypto Slumps ｜ Bloomberg Technology.mp3 (longer than 15 minutes)\n",
            "⏩ Skipping NEW AI Video Tools in 2025 (Must Know!).mp3 (longer than 15 minutes)\n",
            "⏩ Skipping Stocks Drop on Economic Concerns; Trump Deflects Question on Recession ｜ Bloomberg Brief 03⧸10⧸2025.mp3 (longer than 15 minutes)\n",
            "🎧 Checking language: Meanwhile... Packing Peanuts Are Not Food ｜ Banana Technology ｜ Carolina Reaper World Record.mp3\n",
            "Detected language: English\n"
          ]
        },
        {
          "output_type": "stream",
          "name": "stderr",
          "text": [
            "100%|██████████| 39707/39707 [00:26<00:00, 1489.59frames/s]\n"
          ]
        },
        {
          "output_type": "stream",
          "name": "stdout",
          "text": [
            "✅ Transcribing: Meanwhile... Packing Peanuts Are Not Food ｜ Banana Technology ｜ Carolina Reaper World Record.mp3\n",
            "📝 Added Meanwhile... Packing Peanuts Are Not Food ｜ Banana Technology ｜ Carolina Reaper World Record.mp3 to combined transcription.\n",
            "🎧 Checking language: BREAKING： Toyota Adopts Chinese BYD Technology - US Auto Industry SHOCKED!.mp3\n",
            "Detected language: Chinese\n"
          ]
        },
        {
          "output_type": "stream",
          "name": "stderr",
          "text": [
            "100%|██████████| 50577/50577 [01:14<00:00, 677.89frames/s]\n"
          ]
        },
        {
          "output_type": "stream",
          "name": "stdout",
          "text": [
            "🌐 Skipping BREAKING： Toyota Adopts Chinese BYD Technology - US Auto Industry SHOCKED!.mp3 (language: zh)\n",
            "🎧 Checking language: Altschuler： Manufacturers are leaning on technology to ensure delivery.mp3\n",
            "Detected language: English\n"
          ]
        },
        {
          "output_type": "stream",
          "name": "stderr",
          "text": [
            "100%|██████████| 17166/17166 [00:15<00:00, 1108.10frames/s]\n"
          ]
        },
        {
          "output_type": "stream",
          "name": "stdout",
          "text": [
            "✅ Transcribing: Altschuler： Manufacturers are leaning on technology to ensure delivery.mp3\n",
            "📝 Added Altschuler： Manufacturers are leaning on technology to ensure delivery.mp3 to combined transcription.\n",
            "🎧 Checking language: iQOO Neo 10R Unboxing & First Look ⚡ SD 8s Gen 3, 6400mAh @₹24,999＊.mp3\n",
            "Detected language: Hindi\n"
          ]
        },
        {
          "output_type": "stream",
          "name": "stderr",
          "text": [
            "100%|██████████| 56036/56036 [06:53<00:00, 135.64frames/s]\n"
          ]
        },
        {
          "output_type": "stream",
          "name": "stdout",
          "text": [
            "🌐 Skipping iQOO Neo 10R Unboxing & First Look ⚡ SD 8s Gen 3, 6400mAh @₹24,999＊.mp3 (language: hi)\n",
            "🎧 Checking language: What the Tech？ Hidden Cameras.mp3\n",
            "Detected language: English\n"
          ]
        },
        {
          "output_type": "stream",
          "name": "stderr",
          "text": [
            "100%|██████████| 12470/12470 [00:08<00:00, 1416.99frames/s]\n"
          ]
        },
        {
          "output_type": "stream",
          "name": "stdout",
          "text": [
            "✅ Transcribing: What the Tech？ Hidden Cameras.mp3\n",
            "📝 Added What the Tech？ Hidden Cameras.mp3 to combined transcription.\n",
            "🎧 Checking language: Testing and Reviewing ANTIQUE Kitchen Gadgets.mp3\n",
            "Detected language: English\n"
          ]
        },
        {
          "output_type": "stream",
          "name": "stderr",
          "text": [
            "100%|██████████| 32172/32172 [00:23<00:00, 1396.98frames/s]"
          ]
        },
        {
          "output_type": "stream",
          "name": "stdout",
          "text": [
            "✅ Transcribing: Testing and Reviewing ANTIQUE Kitchen Gadgets.mp3\n",
            "📝 Added Testing and Reviewing ANTIQUE Kitchen Gadgets.mp3 to combined transcription.\n",
            "🎉 Done! Final file saved at:\n",
            "/content/drive/MyDrive/YouTube_Scraper1/tech/transcriptionsTech.txt\n"
          ]
        },
        {
          "output_type": "stream",
          "name": "stderr",
          "text": [
            "\n"
          ]
        }
      ]
    },
    {
      "cell_type": "markdown",
      "source": [
        "**Data Preparation**"
      ],
      "metadata": {
        "id": "u6rvzwzUJQsL"
      }
    },
    {
      "cell_type": "markdown",
      "source": [
        "**a.Organizing Raw Transcriptions**"
      ],
      "metadata": {
        "id": "5tqNFEuxNmN_"
      }
    },
    {
      "cell_type": "code",
      "source": [
        "import os\n",
        "import re\n",
        "\n",
        "# Define folder paths\n",
        "input_base = \"/content/drive/MyDrive/YouTube_Scraper1\"  # Change to your actual path\n",
        "output_base = \"/content/drive/MyDrive/Phase1_Processed\"\n",
        "\n",
        "# Folder-specific parsing rules\n",
        "parsing_rules = {\n",
        "    \"beauty\": r\"^(.*?):\\n\",              # \"nom d'audio:\\n\"\n",
        "    \"electronics\": r\"^(.*?):\",           # \"nomaudio:\"\n",
        "    \"fashion\": r\"^(.*?):\",               # \"nomaudio:\"\n",
        "    \"Slogans_Audio\": r\"^--- (.*?) ---\",  # \"--- nom slogan ---\"\n",
        "    \"tech\": r\"^--- (.*?) ---\",           # \"--- nom audio ---\"\n",
        "}\n",
        "\n",
        "def split_and_save(folder, rule):\n",
        "    input_path = os.path.join(input_base, folder)\n",
        "    output_path = os.path.join(output_base, folder)\n",
        "    os.makedirs(output_path, exist_ok=True)\n",
        "\n",
        "    # Get the single .txt file in the folder\n",
        "    txt_files = [f for f in os.listdir(input_path) if f.endswith('.txt')]\n",
        "    if not txt_files:\n",
        "        print(f\"No transcription found in {folder}\")\n",
        "        return\n",
        "\n",
        "    file_path = os.path.join(input_path, txt_files[0])\n",
        "\n",
        "    with open(file_path, \"r\", encoding=\"utf-8\") as f:\n",
        "        content = f.read()\n",
        "\n",
        "    # Split by audio using regex\n",
        "    segments = re.split(rule, content, flags=re.MULTILINE)\n",
        "\n",
        "    if len(segments) < 2:\n",
        "        print(f\"Could not split {folder} correctly. Check format.\")\n",
        "        return\n",
        "\n",
        "    # segments: [pre_text, audio_name1, transcription1, audio_name2, transcription2, ...]\n",
        "    audio_chunks = []\n",
        "    if folder in [\"slogans_Audio\", \"tech\"]:  # Format: '', name1, text1, name2, text2,...\n",
        "        for i in range(1, len(segments)-1, 2):\n",
        "            audio_chunks.append((segments[i].strip(), segments[i+1].strip()))\n",
        "    else:  # beauty, fashion, electronics\n",
        "        lines = segments[0].strip().split('\\n') if segments[0].strip() else []\n",
        "        for i in range(1, len(segments)):\n",
        "            audio_name = segments[i].strip()\n",
        "            transcript_lines = []\n",
        "            # Collect lines until next name (or end)\n",
        "            j = i + 1\n",
        "            if j < len(segments):\n",
        "                transcript = segments[j].strip()\n",
        "            else:\n",
        "                transcript = \"\"\n",
        "            audio_chunks.append((audio_name, transcript))\n",
        "\n",
        "    # Save each chunk to a separate .txt\n",
        "    for idx, (name, transcript) in enumerate(audio_chunks):\n",
        "        filename = f\"{folder}_{str(idx+1).zfill(3)}.txt\"\n",
        "        output_file = os.path.join(output_path, filename)\n",
        "        with open(output_file, \"w\", encoding=\"utf-8\") as f:\n",
        "            f.write(transcript)\n",
        "    print(f\"[{folder}] ✅ Saved {len(audio_chunks)} files to {output_path}\")\n",
        "\n",
        "# Process each folder\n",
        "for folder, pattern in parsing_rules.items():\n",
        "    split_and_save(folder, pattern)\n",
        "\n",
        "# Copy `transcriptionsRadio` as-is\n",
        "import shutil\n",
        "radio_src = os.path.join(input_base, \"transcriptionsRadio\")\n",
        "radio_dst = os.path.join(output_base, \"transcriptionsRadio\")\n",
        "os.makedirs(radio_dst, exist_ok=True)\n",
        "for file in os.listdir(radio_src):\n",
        "    if file.endswith(\".txt\"):\n",
        "        shutil.copy(os.path.join(radio_src, file), os.path.join(radio_dst, file))\n",
        "\n",
        "print(\"✅ Finished Phase 1 data organization.\")\n"
      ],
      "metadata": {
        "colab": {
          "base_uri": "https://localhost:8080/"
        },
        "id": "fNAIiPWSJdCk",
        "outputId": "2de19e4f-0e1c-4644-9c41-8d31a504d922"
      },
      "execution_count": 9,
      "outputs": [
        {
          "output_type": "stream",
          "name": "stdout",
          "text": [
            "[beauty] ✅ Saved 44 files to /content/drive/MyDrive/Phase1_Processed/beauty\n",
            "[electronics] ✅ Saved 60 files to /content/drive/MyDrive/Phase1_Processed/electronics\n",
            "[fashion] ✅ Saved 168 files to /content/drive/MyDrive/Phase1_Processed/fashion\n",
            "[Slogans_Audio] ✅ Saved 492 files to /content/drive/MyDrive/Phase1_Processed/Slogans_Audio\n",
            "[tech] ✅ Saved 50 files to /content/drive/MyDrive/Phase1_Processed/tech\n",
            "✅ Finished Phase 1 data organization.\n"
          ]
        }
      ]
    },
    {
      "cell_type": "markdown",
      "source": [
        "**b.Preprocessing**"
      ],
      "metadata": {
        "id": "Ai2KAUXbN0YD"
      }
    },
    {
      "cell_type": "code",
      "source": [
        "pip install nltk\n"
      ],
      "metadata": {
        "colab": {
          "base_uri": "https://localhost:8080/"
        },
        "id": "CMr2Wf_TN5i3",
        "outputId": "5ab46aa4-4821-4d81-bbd9-bf0448609c96"
      },
      "execution_count": 10,
      "outputs": [
        {
          "output_type": "stream",
          "name": "stdout",
          "text": [
            "Requirement already satisfied: nltk in /usr/local/lib/python3.11/dist-packages (3.9.1)\n",
            "Requirement already satisfied: click in /usr/local/lib/python3.11/dist-packages (from nltk) (8.1.8)\n",
            "Requirement already satisfied: joblib in /usr/local/lib/python3.11/dist-packages (from nltk) (1.4.2)\n",
            "Requirement already satisfied: regex>=2021.8.3 in /usr/local/lib/python3.11/dist-packages (from nltk) (2024.11.6)\n",
            "Requirement already satisfied: tqdm in /usr/local/lib/python3.11/dist-packages (from nltk) (4.67.1)\n"
          ]
        }
      ]
    },
    {
      "cell_type": "code",
      "source": [
        "import nltk\n",
        "nltk.download('punkt')\n",
        "nltk.download('wordnet')\n",
        "nltk.download('stopwords')\n"
      ],
      "metadata": {
        "colab": {
          "base_uri": "https://localhost:8080/"
        },
        "id": "ESL5EB_OODIh",
        "outputId": "d66ccf2c-908a-42a5-c0c1-509eedf2f4dc"
      },
      "execution_count": 11,
      "outputs": [
        {
          "output_type": "stream",
          "name": "stderr",
          "text": [
            "[nltk_data] Downloading package punkt to /root/nltk_data...\n",
            "[nltk_data]   Unzipping tokenizers/punkt.zip.\n",
            "[nltk_data] Downloading package wordnet to /root/nltk_data...\n",
            "[nltk_data] Downloading package stopwords to /root/nltk_data...\n",
            "[nltk_data]   Unzipping corpora/stopwords.zip.\n"
          ]
        },
        {
          "output_type": "execute_result",
          "data": {
            "text/plain": [
              "True"
            ]
          },
          "metadata": {},
          "execution_count": 11
        }
      ]
    },
    {
      "cell_type": "code",
      "source": [
        "import os\n",
        "import unicodedata\n",
        "\n",
        "# Paths\n",
        "input_base = \"/content/drive/MyDrive/Phase1_Processed\"\n",
        "output_base = \"/content/drive/MyDrive/Phase2_Cleaned_\"\n",
        "os.makedirs(output_base, exist_ok=True)\n",
        "\n",
        "# Helper: Check if a string is Latin-based (emojis allowed)\n",
        "def is_latin_line(line):\n",
        "    for char in line:\n",
        "        if char.isalpha():\n",
        "            name = unicodedata.name(char, '')\n",
        "            if 'LATIN' not in name:\n",
        "                return False\n",
        "    return True\n",
        "\n",
        "# Process each folder\n",
        "for folder in os.listdir(input_base):\n",
        "    folder_path = os.path.join(input_base, folder)\n",
        "    if not os.path.isdir(folder_path):\n",
        "        continue\n",
        "\n",
        "    output_folder_path = os.path.join(output_base, folder)\n",
        "    os.makedirs(output_folder_path, exist_ok=True)\n",
        "\n",
        "    for file in os.listdir(folder_path):\n",
        "        if not file.endswith(\".txt\"):\n",
        "            continue\n",
        "\n",
        "        input_file_path = os.path.join(folder_path, file)\n",
        "        output_file_path = os.path.join(output_folder_path, file)\n",
        "\n",
        "        with open(input_file_path, \"r\", encoding=\"utf-8\") as f:\n",
        "            lines = f.read().splitlines()\n",
        "\n",
        "        if not lines:\n",
        "            continue  # skip empty files\n",
        "\n",
        "        total_lines = len(lines)\n",
        "        cleaned_lines = [line for line in lines if is_latin_line(line.strip()) and line.strip() != \"\"]\n",
        "        latin_ratio = len(cleaned_lines) / total_lines\n",
        "\n",
        "        # Save only if 80% or more lines are Latin\n",
        "        if latin_ratio >= 0.8:\n",
        "            with open(output_file_path, \"w\", encoding=\"utf-8\") as f:\n",
        "                f.write(\"\\n\".join(cleaned_lines))\n",
        "        else:\n",
        "            print(f\"🗑️ Deleted (not saved): {file} ({latin_ratio:.0%} Latin)\")\n",
        "\n",
        "    print(f\"✅ Finished cleaning folder: {folder}\")\n",
        "\n",
        "print(\"🎉 All valid files saved to Phase2_Cleaned\")\n"
      ],
      "metadata": {
        "colab": {
          "base_uri": "https://localhost:8080/"
        },
        "id": "672doZmdOOCv",
        "outputId": "e1f0dac6-c1bf-4147-dd31-8f0a99909d31"
      },
      "execution_count": 28,
      "outputs": [
        {
          "output_type": "stream",
          "name": "stdout",
          "text": [
            "🗑️ Deleted (not saved): beauty_015.txt (0% Latin)\n",
            "🗑️ Deleted (not saved): beauty_029.txt (0% Latin)\n",
            "✅ Finished cleaning folder: beauty\n",
            "🗑️ Deleted (not saved): electronics_025.txt (0% Latin)\n",
            "🗑️ Deleted (not saved): electronics_027.txt (0% Latin)\n",
            "🗑️ Deleted (not saved): electronics_029.txt (0% Latin)\n",
            "🗑️ Deleted (not saved): electronics_045.txt (0% Latin)\n",
            "✅ Finished cleaning folder: electronics\n",
            "🗑️ Deleted (not saved): fashion_017.txt (0% Latin)\n",
            "🗑️ Deleted (not saved): fashion_035.txt (0% Latin)\n",
            "🗑️ Deleted (not saved): fashion_057.txt (0% Latin)\n",
            "✅ Finished cleaning folder: fashion\n",
            "✅ Finished cleaning folder: slogans_Audio\n",
            "✅ Finished cleaning folder: Slogans_Audio\n",
            "✅ Finished cleaning folder: tech\n",
            "✅ Finished cleaning folder: transcriptionsRadio\n",
            "🎉 All valid files saved to Phase2_Cleaned\n"
          ]
        }
      ]
    },
    {
      "cell_type": "code",
      "source": [
        "!ls /content/drive/MyDrive/Phase2_Cleaned_/beauty/ | grep -E \"\\.(txt)$\" | wc -l\n",
        "\n",
        "!ls /content/drive/MyDrive/Phase2_Cleaned_/fashion/ | grep -E \"\\.(txt)$\" | wc -l\n",
        "\n",
        "!ls /content/drive/MyDrive/Phase2_Cleaned_/electronics/ | grep -E \"\\.(txt)$\" | wc -l\n",
        "\n",
        "!ls /content/drive/MyDrive/Phase2_Cleaned_/tech/ | grep -E \"\\.(txt)$\" | wc -l\n",
        "\n",
        "!ls /content/drive/MyDrive/Phase2_Cleaned_/Slogans_Audio/ | grep -E \"\\.(txt)$\" | wc -l\n",
        "\n",
        "!ls /content/drive/MyDrive/Phase2_Cleaned_/transcriptionsRadio/ | grep -E \"\\.(txt)$\" | wc -l"
      ],
      "metadata": {
        "colab": {
          "base_uri": "https://localhost:8080/"
        },
        "id": "CI0EEKKJS7m-",
        "outputId": "26d7c217-eec9-4a34-e2b0-a0ebcca3218c"
      },
      "execution_count": 31,
      "outputs": [
        {
          "output_type": "stream",
          "name": "stdout",
          "text": [
            "41\n",
            "164\n",
            "55\n",
            "50\n",
            "491\n",
            "50\n"
          ]
        }
      ]
    },
    {
      "cell_type": "markdown",
      "source": [
        "****"
      ],
      "metadata": {
        "id": "pM8j8PyARw-b"
      }
    },
    {
      "cell_type": "markdown",
      "source": [
        "**c.Convert it to dataframe+ tone detection**"
      ],
      "metadata": {
        "id": "aE0jF9Y_aU5B"
      }
    },
    {
      "cell_type": "code",
      "source": [
        "import os\n",
        "import pandas as pd\n",
        "from tqdm import tqdm\n",
        "from transformers import pipeline\n",
        "\n",
        "# === SETUP ===\n",
        "base_path = \"/content/drive/MyDrive/Phase2_Cleaned_\"\n",
        "output_csv = \"/content/drive/MyDrive/Phase2_Cleaned_/combined_transcriptions_slogans.csv\"\n",
        "slogans_folder = \"slogans_Audio\"  # Optional use, but now keeping all folder names\n",
        "\n",
        "# === Load Hugging Face model for tone detection ===\n",
        "tone_classifier = pipeline(\n",
        "    \"text-classification\",\n",
        "    model=\"j-hartmann/emotion-english-distilroberta-base\",\n",
        "    top_k=1,\n",
        "    device=0  # Use GPU (cuda:0), set to -1 for CPU\n",
        ")\n",
        "\n",
        "# === Collect entries ===\n",
        "entries = []\n",
        "\n",
        "print(\"\\n🔍 Scanning base directory...\")\n",
        "for folder in os.listdir(base_path):\n",
        "    folder_path = os.path.join(base_path, folder)\n",
        "    if not os.path.isdir(folder_path):\n",
        "        print(f\"⛔ Skipped non-directory: {folder}\")\n",
        "        continue\n",
        "\n",
        "    print(f\"\\n📁 Reading folder: {folder}\")\n",
        "    for filename in os.listdir(folder_path):\n",
        "        if not filename.endswith(\".txt\"):\n",
        "            continue\n",
        "\n",
        "        file_path = os.path.join(folder_path, filename)\n",
        "        try:\n",
        "            with open(file_path, \"r\", encoding=\"utf-8\") as f:\n",
        "                content = f.read().strip()\n",
        "\n",
        "            if content:\n",
        "                entries.append({\n",
        "                    \"category\": folder,  # keep actual folder name for clarity\n",
        "                    \"filename\": filename,\n",
        "                    \"entry_type\": \"slogan\" if folder == slogans_folder else \"transcription\",\n",
        "                    \"text_content\": content\n",
        "                })\n",
        "            else:\n",
        "                print(f\"⚠️ Skipped empty file: {filename}\")\n",
        "\n",
        "        except Exception as e:\n",
        "            print(f\"❌ Error reading {filename}: {e}\")\n",
        "\n",
        "# === Check results ===\n",
        "print(f\"\\n✅ Total entries loaded: {len(entries)}\")\n",
        "if entries:\n",
        "    print(\"🧾 Sample entry:\", entries[0])\n",
        "\n",
        "# === Create DataFrame ===\n",
        "df = pd.DataFrame(entries)\n",
        "print(\"\\n📊 Category counts:\")\n",
        "print(df[\"category\"].value_counts())\n",
        "\n",
        "# === Apply tone detection with safe truncation ===\n",
        "tqdm.pandas()\n",
        "\n",
        "def get_label(text):\n",
        "    max_chars = 1000  # Safe cutoff to avoid token limit\n",
        "    if len(text) > max_chars:\n",
        "        print(f\"⚠️ Truncating text from {len(text)} to {max_chars} characters\")\n",
        "        text = text[:max_chars]\n",
        "    result = tone_classifier(text)\n",
        "    return result[0][0]['label']  # Handle double list from top_k=1\n",
        "\n",
        "df[\"tone\"] = df[\"text_content\"].progress_apply(get_label)\n",
        "\n",
        "# === Save CSV ===\n",
        "df.to_csv(output_csv, index=False)\n",
        "print(f\"\\n🎉 All done! CSV saved to: {output_csv}\")\n"
      ],
      "metadata": {
        "colab": {
          "base_uri": "https://localhost:8080/"
        },
        "id": "we42bKH7adpp",
        "outputId": "e671f31b-0c93-4ff0-9aef-e96b9ff78f63"
      },
      "execution_count": 47,
      "outputs": [
        {
          "output_type": "stream",
          "name": "stderr",
          "text": [
            "Device set to use cuda:0\n"
          ]
        },
        {
          "output_type": "stream",
          "name": "stdout",
          "text": [
            "\n",
            "🔍 Scanning base directory...\n",
            "\n",
            "📁 Reading folder: beauty\n",
            "\n",
            "📁 Reading folder: electronics\n",
            "\n",
            "📁 Reading folder: fashion\n",
            "\n",
            "📁 Reading folder: slogans_Audio\n",
            "\n",
            "📁 Reading folder: Slogans_Audio\n",
            "\n",
            "📁 Reading folder: tech\n",
            "\n",
            "📁 Reading folder: transcriptionsRadio\n",
            "\n",
            "✅ Total entries loaded: 851\n",
            "🧾 Sample entry: {'category': 'beauty', 'filename': 'beauty_001.txt', 'entry_type': 'transcription', 'text_content': \"Getting bored of the same old eyeshadow look that you wear all the time, no worries, this life hack will help you slay the eyeshadow game in seconds. All you need is a nail art tape or just a normal scotch tape. I decided to stick 4 tape strips on each of the lids vertically and diagonally like that. When you're finished with your tape design, all you have to do is apply any eyeshadow of your choice. I went for a navy blue on the outer corners and yellowy green shade on the inner part of my lid. You can apply your eyeshadow with a brush or using fingers. When you're done, simply remove all the tape strips and reveal your eyeshadow masterpiece. Such an amazing eyeshadow look that doesn't require any makeup skills and not even a makeup brush.\"}\n",
            "\n",
            "📊 Category counts:\n",
            "category\n",
            "Slogans_Audio          491\n",
            "fashion                164\n",
            "electronics             55\n",
            "tech                    50\n",
            "transcriptionsRadio     50\n",
            "beauty                  41\n",
            "Name: count, dtype: int64\n"
          ]
        },
        {
          "output_type": "stream",
          "name": "stderr",
          "text": [
            "  1%|          | 6/851 [00:00<00:14, 59.03it/s]"
          ]
        },
        {
          "output_type": "stream",
          "name": "stdout",
          "text": [
            "⚠️ Truncating text from 1298 to 1000 characters\n",
            "⚠️ Truncating text from 2640 to 1000 characters\n",
            "⚠️ Truncating text from 1172 to 1000 characters\n"
          ]
        },
        {
          "output_type": "stream",
          "name": "stderr",
          "text": [
            "\r  1%|▏         | 12/851 [00:00<00:15, 53.97it/s]"
          ]
        },
        {
          "output_type": "stream",
          "name": "stdout",
          "text": [
            "⚠️ Truncating text from 4895 to 1000 characters\n"
          ]
        },
        {
          "output_type": "stream",
          "name": "stderr",
          "text": [
            "\r  2%|▏         | 18/851 [00:00<00:15, 53.82it/s]"
          ]
        },
        {
          "output_type": "stream",
          "name": "stdout",
          "text": [
            "⚠️ Truncating text from 1298 to 1000 characters\n"
          ]
        },
        {
          "output_type": "stream",
          "name": "stderr",
          "text": [
            "\r  3%|▎         | 24/851 [00:00<00:15, 52.45it/s]"
          ]
        },
        {
          "output_type": "stream",
          "name": "stdout",
          "text": [
            "⚠️ Truncating text from 5813 to 1000 characters\n",
            "⚠️ Truncating text from 12373 to 1000 characters\n"
          ]
        },
        {
          "output_type": "stream",
          "name": "stderr",
          "text": [
            "\r  4%|▎         | 31/851 [00:00<00:14, 55.95it/s]"
          ]
        },
        {
          "output_type": "stream",
          "name": "stdout",
          "text": [
            "⚠️ Truncating text from 8411 to 1000 characters\n"
          ]
        },
        {
          "output_type": "stream",
          "name": "stderr",
          "text": [
            "\r  4%|▍         | 38/851 [00:00<00:13, 58.85it/s]"
          ]
        },
        {
          "output_type": "stream",
          "name": "stdout",
          "text": [
            "⚠️ Truncating text from 10508 to 1000 characters\n",
            "⚠️ Truncating text from 5022 to 1000 characters\n",
            "⚠️ Truncating text from 2641 to 1000 characters\n"
          ]
        },
        {
          "output_type": "stream",
          "name": "stderr",
          "text": [
            "\r  5%|▌         | 45/851 [00:00<00:13, 59.42it/s]"
          ]
        },
        {
          "output_type": "stream",
          "name": "stdout",
          "text": [
            "⚠️ Truncating text from 8504 to 1000 characters\n",
            "⚠️ Truncating text from 5229 to 1000 characters\n"
          ]
        },
        {
          "output_type": "stream",
          "name": "stderr",
          "text": [
            "  7%|▋         | 61/851 [00:00<00:11, 66.72it/s]"
          ]
        },
        {
          "output_type": "stream",
          "name": "stdout",
          "text": [
            "⚠️ Truncating text from 9818 to 1000 characters\n",
            "⚠️ Truncating text from 1579 to 1000 characters\n",
            "⚠️ Truncating text from 7829 to 1000 characters\n",
            "⚠️ Truncating text from 12901 to 1000 characters\n",
            "⚠️ Truncating text from 8523 to 1000 characters\n",
            "⚠️ Truncating text from 9480 to 1000 characters\n"
          ]
        },
        {
          "output_type": "stream",
          "name": "stderr",
          "text": [
            "\r  8%|▊         | 68/851 [00:01<00:11, 65.67it/s]"
          ]
        },
        {
          "output_type": "stream",
          "name": "stdout",
          "text": [
            "⚠️ Truncating text from 6884 to 1000 characters\n",
            "⚠️ Truncating text from 5645 to 1000 characters\n",
            "⚠️ Truncating text from 9033 to 1000 characters\n"
          ]
        },
        {
          "output_type": "stream",
          "name": "stderr",
          "text": [
            "\r  9%|▉         | 75/851 [00:01<00:12, 62.94it/s]"
          ]
        },
        {
          "output_type": "stream",
          "name": "stdout",
          "text": [
            "⚠️ Truncating text from 5182 to 1000 characters\n",
            "⚠️ Truncating text from 4362 to 1000 characters\n",
            "⚠️ Truncating text from 8719 to 1000 characters\n"
          ]
        },
        {
          "output_type": "stream",
          "name": "stderr",
          "text": [
            " 11%|█▏        | 97/851 [00:01<00:08, 84.51it/s]"
          ]
        },
        {
          "output_type": "stream",
          "name": "stdout",
          "text": [
            "⚠️ Truncating text from 7177 to 1000 characters\n",
            "⚠️ Truncating text from 19180 to 1000 characters\n",
            "⚠️ Truncating text from 5616 to 1000 characters\n",
            "⚠️ Truncating text from 16286 to 1000 characters\n",
            "⚠️ Truncating text from 13060 to 1000 characters\n",
            "⚠️ Truncating text from 10330 to 1000 characters\n",
            "⚠️ Truncating text from 8804 to 1000 characters\n",
            "⚠️ Truncating text from 4490 to 1000 characters\n",
            "⚠️ Truncating text from 14747 to 1000 characters\n"
          ]
        },
        {
          "output_type": "stream",
          "name": "stderr",
          "text": [
            " 14%|█▍        | 120/851 [00:01<00:07, 96.94it/s]"
          ]
        },
        {
          "output_type": "stream",
          "name": "stdout",
          "text": [
            "⚠️ Truncating text from 12259 to 1000 characters\n",
            "⚠️ Truncating text from 5014 to 1000 characters\n",
            "⚠️ Truncating text from 43729 to 1000 characters\n",
            "⚠️ Truncating text from 28457 to 1000 characters\n",
            "⚠️ Truncating text from 18361 to 1000 characters\n",
            "⚠️ Truncating text from 17103 to 1000 characters\n",
            "⚠️ Truncating text from 13624 to 1000 characters\n",
            "⚠️ Truncating text from 21176 to 1000 characters\n",
            "⚠️ Truncating text from 1573 to 1000 characters\n",
            "⚠️ Truncating text from 29434 to 1000 characters\n",
            "⚠️ Truncating text from 14098 to 1000 characters\n"
          ]
        },
        {
          "output_type": "stream",
          "name": "stderr",
          "text": [
            " 17%|█▋        | 143/851 [00:01<00:07, 98.35it/s] "
          ]
        },
        {
          "output_type": "stream",
          "name": "stdout",
          "text": [
            "⚠️ Truncating text from 13048 to 1000 characters\n",
            "⚠️ Truncating text from 9015 to 1000 characters\n",
            "⚠️ Truncating text from 5574 to 1000 characters\n",
            "⚠️ Truncating text from 5101 to 1000 characters\n",
            "⚠️ Truncating text from 14356 to 1000 characters\n",
            "⚠️ Truncating text from 12615 to 1000 characters\n",
            "⚠️ Truncating text from 13405 to 1000 characters\n",
            "⚠️ Truncating text from 11269 to 1000 characters\n",
            "⚠️ Truncating text from 1710 to 1000 characters\n"
          ]
        },
        {
          "output_type": "stream",
          "name": "stderr",
          "text": [
            " 20%|█▉        | 166/851 [00:02<00:06, 103.29it/s]"
          ]
        },
        {
          "output_type": "stream",
          "name": "stdout",
          "text": [
            "⚠️ Truncating text from 1616 to 1000 characters\n",
            "⚠️ Truncating text from 2263 to 1000 characters\n",
            "⚠️ Truncating text from 1470 to 1000 characters\n",
            "⚠️ Truncating text from 8767 to 1000 characters\n",
            "⚠️ Truncating text from 1776 to 1000 characters\n",
            "⚠️ Truncating text from 4071 to 1000 characters\n",
            "⚠️ Truncating text from 1271 to 1000 characters\n",
            "⚠️ Truncating text from 1664 to 1000 characters\n",
            "⚠️ Truncating text from 2177 to 1000 characters\n",
            "⚠️ Truncating text from 3106 to 1000 characters\n"
          ]
        },
        {
          "output_type": "stream",
          "name": "stderr",
          "text": [
            " 22%|██▏       | 189/851 [00:02<00:06, 105.84it/s]"
          ]
        },
        {
          "output_type": "stream",
          "name": "stdout",
          "text": [
            "⚠️ Truncating text from 39879 to 1000 characters\n",
            "⚠️ Truncating text from 1863 to 1000 characters\n",
            "⚠️ Truncating text from 19953 to 1000 characters\n",
            "⚠️ Truncating text from 1898 to 1000 characters\n",
            "⚠️ Truncating text from 3354 to 1000 characters\n",
            "⚠️ Truncating text from 9081 to 1000 characters\n",
            "⚠️ Truncating text from 28128 to 1000 characters\n",
            "⚠️ Truncating text from 1029 to 1000 characters\n",
            "⚠️ Truncating text from 14212 to 1000 characters\n"
          ]
        },
        {
          "output_type": "stream",
          "name": "stderr",
          "text": [
            " 25%|██▍       | 211/851 [00:02<00:06, 104.94it/s]"
          ]
        },
        {
          "output_type": "stream",
          "name": "stdout",
          "text": [
            "⚠️ Truncating text from 1181 to 1000 characters\n",
            "⚠️ Truncating text from 2151 to 1000 characters\n",
            "⚠️ Truncating text from 11203 to 1000 characters\n",
            "⚠️ Truncating text from 7683 to 1000 characters\n",
            "⚠️ Truncating text from 10205 to 1000 characters\n",
            "⚠️ Truncating text from 13745 to 1000 characters\n",
            "⚠️ Truncating text from 18691 to 1000 characters\n",
            "⚠️ Truncating text from 10590 to 1000 characters\n",
            "⚠️ Truncating text from 1003 to 1000 characters\n"
          ]
        },
        {
          "output_type": "stream",
          "name": "stderr",
          "text": [
            "\r 26%|██▌       | 222/851 [00:02<00:06, 100.04it/s]"
          ]
        },
        {
          "output_type": "stream",
          "name": "stdout",
          "text": [
            "⚠️ Truncating text from 10232 to 1000 characters\n",
            "⚠️ Truncating text from 20111 to 1000 characters\n",
            "⚠️ Truncating text from 3352 to 1000 characters\n",
            "⚠️ Truncating text from 3719 to 1000 characters\n"
          ]
        },
        {
          "output_type": "stream",
          "name": "stderr",
          "text": [
            "\r 27%|██▋       | 233/851 [00:02<00:06, 89.59it/s] "
          ]
        },
        {
          "output_type": "stream",
          "name": "stdout",
          "text": [
            "⚠️ Truncating text from 5631 to 1000 characters\n",
            "⚠️ Truncating text from 3445 to 1000 characters\n",
            "⚠️ Truncating text from 4688 to 1000 characters\n",
            "⚠️ Truncating text from 3613 to 1000 characters\n"
          ]
        },
        {
          "output_type": "stream",
          "name": "stderr",
          "text": [
            "\r 29%|██▊       | 243/851 [00:03<00:09, 63.40it/s]"
          ]
        },
        {
          "output_type": "stream",
          "name": "stdout",
          "text": [
            "⚠️ Truncating text from 4323 to 1000 characters\n",
            "⚠️ Truncating text from 5225 to 1000 characters\n",
            "⚠️ Truncating text from 5996 to 1000 characters\n",
            "⚠️ Truncating text from 7823 to 1000 characters\n"
          ]
        },
        {
          "output_type": "stream",
          "name": "stderr",
          "text": [
            "\r 29%|██▉       | 251/851 [00:03<00:10, 57.18it/s]"
          ]
        },
        {
          "output_type": "stream",
          "name": "stdout",
          "text": [
            "⚠️ Truncating text from 9595 to 1000 characters\n",
            "⚠️ Truncating text from 1020 to 1000 characters\n"
          ]
        },
        {
          "output_type": "stream",
          "name": "stderr",
          "text": [
            "\r 30%|███       | 258/851 [00:03<00:10, 57.22it/s]"
          ]
        },
        {
          "output_type": "stream",
          "name": "stdout",
          "text": [
            "⚠️ Truncating text from 5490 to 1000 characters\n",
            "⚠️ Truncating text from 4158 to 1000 characters\n"
          ]
        },
        {
          "output_type": "stream",
          "name": "stderr",
          "text": [
            " 89%|████████▉ | 759/851 [00:06<00:00, 186.59it/s]"
          ]
        },
        {
          "output_type": "stream",
          "name": "stdout",
          "text": [
            "⚠️ Truncating text from 2211 to 1000 characters\n",
            "⚠️ Truncating text from 1684 to 1000 characters\n",
            "⚠️ Truncating text from 8175 to 1000 characters\n",
            "⚠️ Truncating text from 2942 to 1000 characters\n",
            "⚠️ Truncating text from 5943 to 1000 characters\n",
            "⚠️ Truncating text from 3572 to 1000 characters\n",
            "⚠️ Truncating text from 8962 to 1000 characters\n",
            "⚠️ Truncating text from 5075 to 1000 characters\n",
            "⚠️ Truncating text from 8431 to 1000 characters\n",
            "⚠️ Truncating text from 1324 to 1000 characters\n",
            "⚠️ Truncating text from 12481 to 1000 characters\n",
            "⚠️ Truncating text from 5302 to 1000 characters\n",
            "⚠️ Truncating text from 8679 to 1000 characters\n",
            "⚠️ Truncating text from 4385 to 1000 characters\n",
            "⚠️ Truncating text from 6667 to 1000 characters\n",
            "⚠️ Truncating text from 10636 to 1000 characters\n",
            "⚠️ Truncating text from 4064 to 1000 characters\n",
            "⚠️ Truncating text from 2901 to 1000 characters\n",
            "⚠️ Truncating text from 1237 to 1000 characters\n",
            "⚠️ Truncating text from 12541 to 1000 characters\n",
            "⚠️ Truncating text from 10862 to 1000 characters\n",
            "⚠️ Truncating text from 10809 to 1000 characters\n"
          ]
        },
        {
          "output_type": "stream",
          "name": "stderr",
          "text": [
            " 93%|█████████▎| 795/851 [00:06<00:00, 151.18it/s]"
          ]
        },
        {
          "output_type": "stream",
          "name": "stdout",
          "text": [
            "⚠️ Truncating text from 7636 to 1000 characters\n",
            "⚠️ Truncating text from 11278 to 1000 characters\n",
            "⚠️ Truncating text from 2585 to 1000 characters\n",
            "⚠️ Truncating text from 8049 to 1000 characters\n",
            "⚠️ Truncating text from 7413 to 1000 characters\n",
            "⚠️ Truncating text from 5202 to 1000 characters\n",
            "⚠️ Truncating text from 8982 to 1000 characters\n",
            "⚠️ Truncating text from 11160 to 1000 characters\n",
            "⚠️ Truncating text from 1244 to 1000 characters\n",
            "⚠️ Truncating text from 9889 to 1000 characters\n",
            "⚠️ Truncating text from 6199 to 1000 characters\n",
            "⚠️ Truncating text from 2733 to 1000 characters\n",
            "⚠️ Truncating text from 14345 to 1000 characters\n",
            "⚠️ Truncating text from 11811 to 1000 characters\n",
            "⚠️ Truncating text from 11530 to 1000 characters\n",
            "⚠️ Truncating text from 4913 to 1000 characters\n",
            "⚠️ Truncating text from 7105 to 1000 characters\n",
            "⚠️ Truncating text from 5039 to 1000 characters\n",
            "⚠️ Truncating text from 3358 to 1000 characters\n",
            "⚠️ Truncating text from 2088 to 1000 characters\n",
            "⚠️ Truncating text from 4327 to 1000 characters\n",
            "⚠️ Truncating text from 1837 to 1000 characters\n"
          ]
        },
        {
          "output_type": "stream",
          "name": "stderr",
          "text": [
            " 97%|█████████▋| 828/851 [00:06<00:00, 149.35it/s]"
          ]
        },
        {
          "output_type": "stream",
          "name": "stdout",
          "text": [
            "⚠️ Truncating text from 1249 to 1000 characters\n",
            "⚠️ Truncating text from 2202 to 1000 characters\n",
            "⚠️ Truncating text from 1084 to 1000 characters\n",
            "⚠️ Truncating text from 1036 to 1000 characters\n",
            "⚠️ Truncating text from 1237 to 1000 characters\n",
            "⚠️ Truncating text from 1023 to 1000 characters\n",
            "⚠️ Truncating text from 1293 to 1000 characters\n",
            "⚠️ Truncating text from 1828 to 1000 characters\n",
            "⚠️ Truncating text from 1045 to 1000 characters\n",
            "⚠️ Truncating text from 1021 to 1000 characters\n"
          ]
        },
        {
          "output_type": "stream",
          "name": "stderr",
          "text": [
            "100%|██████████| 851/851 [00:06<00:00, 126.65it/s]\n"
          ]
        },
        {
          "output_type": "stream",
          "name": "stdout",
          "text": [
            "⚠️ Truncating text from 2425 to 1000 characters\n",
            "⚠️ Truncating text from 2093 to 1000 characters\n",
            "\n",
            "🎉 All done! CSV saved to: /content/drive/MyDrive/Phase2_Cleaned_/combined_transcriptions_slogans.csv\n"
          ]
        }
      ]
    },
    {
      "cell_type": "markdown",
      "source": [
        "**c.1.Dataframe Cleaning**"
      ],
      "metadata": {
        "id": "fKMeHgWejTr2"
      }
    },
    {
      "cell_type": "code",
      "source": [
        "import pandas as pd\n",
        "import re\n",
        "\n",
        "# === Load your original DataFrame ===\n",
        "input_csv = \"/content/drive/MyDrive/Phase2_Cleaned_/combined_transcriptions_slogans.csv\"\n",
        "output_csv = \"/content/drive/MyDrive/Phase2_Cleaned_/cleaned_transcriptions_slogans.csv\"\n",
        "\n",
        "df = pd.read_csv(input_csv)\n",
        "print(f\"📥 Loaded {len(df)} rows from {input_csv}\")\n",
        "\n",
        "# === Cleaning Function ===\n",
        "def clean_dataframe(df):\n",
        "    original_len = len(df)\n",
        "\n",
        "    # Remove rows where text_content ends with \".mp3\"\n",
        "    df = df[~df[\"text_content\"].str.strip().str.endswith(\".mp3\")]\n",
        "    after_mp3_len = len(df)\n",
        "    print(f\"🧹 Removed {original_len - after_mp3_len} rows ending with .mp3\")\n",
        "\n",
        "    # Remove rows that contain no Latin letters (A-Z, a-z)\n",
        "    def contains_latin(text):\n",
        "        return bool(re.search(r'[A-Za-z]', text))\n",
        "\n",
        "    df = df[df[\"text_content\"].apply(contains_latin)]\n",
        "    final_len = len(df)\n",
        "    print(f\"🧹 Removed {after_mp3_len - final_len} rows with no Latin letters\")\n",
        "\n",
        "    print(f\"✅ Cleaned DataFrame has {final_len} rows remaining\")\n",
        "    return df\n",
        "\n",
        "# === Apply Cleaning ===\n",
        "df_cleaned = clean_dataframe(df)\n",
        "\n",
        "# === Save Cleaned DataFrame ===\n",
        "df_cleaned.to_csv(output_csv, index=False)\n",
        "print(f\"💾 Cleaned CSV saved to: {output_csv}\")\n"
      ],
      "metadata": {
        "colab": {
          "base_uri": "https://localhost:8080/"
        },
        "id": "HwPGyCsfgBDJ",
        "outputId": "860f91dc-4964-43a5-acd1-109176f02bfe"
      },
      "execution_count": 49,
      "outputs": [
        {
          "output_type": "stream",
          "name": "stdout",
          "text": [
            "📥 Loaded 851 rows from /content/drive/MyDrive/Phase2_Cleaned_/combined_transcriptions_slogans.csv\n",
            "🧹 Removed 378 rows ending with .mp3\n",
            "🧹 Removed 0 rows with no Latin letters\n",
            "✅ Cleaned DataFrame has 473 rows remaining\n",
            "💾 Cleaned CSV saved to: /content/drive/MyDrive/Phase2_Cleaned_/cleaned_transcriptions_slogans.csv\n"
          ]
        }
      ]
    }
  ]
}